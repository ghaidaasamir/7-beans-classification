{
 "cells": [
  {
   "cell_type": "code",
   "execution_count": 1,
   "id": "0a6fea50",
   "metadata": {
    "execution": {
     "iopub.execute_input": "2022-05-30T21:29:06.337111Z",
     "iopub.status.busy": "2022-05-30T21:29:06.336184Z",
     "iopub.status.idle": "2022-05-30T21:29:09.542917Z",
     "shell.execute_reply": "2022-05-30T21:29:09.541765Z"
    },
    "papermill": {
     "duration": 3.236526,
     "end_time": "2022-05-30T21:29:09.545544",
     "exception": false,
     "start_time": "2022-05-30T21:29:06.309018",
     "status": "completed"
    },
    "tags": []
   },
   "outputs": [
    {
     "data": {
      "text/html": [
       "<style type='text/css'>\n",
       ".datatable table.frame { margin-bottom: 0; }\n",
       ".datatable table.frame thead { border-bottom: none; }\n",
       ".datatable table.frame tr.coltypes td {  color: #FFFFFF;  line-height: 6px;  padding: 0 0.5em;}\n",
       ".datatable .bool    { background: #DDDD99; }\n",
       ".datatable .object  { background: #565656; }\n",
       ".datatable .int     { background: #5D9E5D; }\n",
       ".datatable .float   { background: #4040CC; }\n",
       ".datatable .str     { background: #CC4040; }\n",
       ".datatable .time    { background: #40CC40; }\n",
       ".datatable .row_index {  background: var(--jp-border-color3);  border-right: 1px solid var(--jp-border-color0);  color: var(--jp-ui-font-color3);  font-size: 9px;}\n",
       ".datatable .frame tbody td { text-align: left; }\n",
       ".datatable .frame tr.coltypes .row_index {  background: var(--jp-border-color0);}\n",
       ".datatable th:nth-child(2) { padding-left: 12px; }\n",
       ".datatable .hellipsis {  color: var(--jp-cell-editor-border-color);}\n",
       ".datatable .vellipsis {  background: var(--jp-layout-color0);  color: var(--jp-cell-editor-border-color);}\n",
       ".datatable .na {  color: var(--jp-cell-editor-border-color);  font-size: 80%;}\n",
       ".datatable .sp {  opacity: 0.25;}\n",
       ".datatable .footer { font-size: 9px; }\n",
       ".datatable .frame_dimensions {  background: var(--jp-border-color3);  border-top: 1px solid var(--jp-border-color0);  color: var(--jp-ui-font-color3);  display: inline-block;  opacity: 0.6;  padding: 1px 10px 1px 5px;}\n",
       "</style>\n"
      ],
      "text/plain": [
       "<IPython.core.display.HTML object>"
      ]
     },
     "metadata": {},
     "output_type": "display_data"
    }
   ],
   "source": [
    "import pandas as pd\n",
    "import numpy as np\n",
    "import matplotlib.pyplot as plt\n",
    "import seaborn as sn\n",
    "from sklearn.preprocessing import StandardScaler\n",
    "from sklearn import tree\n",
    "from sklearn.model_selection import GridSearchCV\n",
    "from sklearn.model_selection import train_test_split\n",
    "from sklearn import preprocessing\n",
    "from sklearn.metrics import confusion_matrix\n",
    "from sklearn.ensemble import AdaBoostClassifier\n",
    "from sklearn.preprocessing import RobustScaler\n",
    "from sklearn.svm import SVC\n",
    "from sklearn.linear_model import LogisticRegression\n",
    "from sklearn.metrics import f1_score\n",
    "from sklearn.preprocessing import PowerTransformer\n",
    "from sklearn.preprocessing import MinMaxScaler\n",
    "from sklearn.decomposition import PCA\n",
    "from imblearn.over_sampling import SMOTE\n",
    "from collections import Counter\n",
    "from sklearn.ensemble import GradientBoostingClassifier\n",
    "import time\n",
    "from catboost import CatBoostClassifier\n",
    "from lightgbm import LGBMClassifier\n",
    "from sklearn.metrics import silhouette_score\n",
    "from sklearn.cluster import DBSCAN\n",
    "from sklearn.cluster import KMeans\n",
    "from sklearn.mixture import GaussianMixture"
   ]
  },
  {
   "cell_type": "code",
   "execution_count": 2,
   "id": "6fb1e70f",
   "metadata": {
    "execution": {
     "iopub.execute_input": "2022-05-30T21:29:09.594251Z",
     "iopub.status.busy": "2022-05-30T21:29:09.593298Z",
     "iopub.status.idle": "2022-05-30T21:29:09.710431Z",
     "shell.execute_reply": "2022-05-30T21:29:09.709436Z"
    },
    "papermill": {
     "duration": 0.143693,
     "end_time": "2022-05-30T21:29:09.713523",
     "exception": false,
     "start_time": "2022-05-30T21:29:09.569830",
     "status": "completed"
    },
    "tags": []
   },
   "outputs": [
    {
     "data": {
      "text/html": [
       "<div>\n",
       "<style scoped>\n",
       "    .dataframe tbody tr th:only-of-type {\n",
       "        vertical-align: middle;\n",
       "    }\n",
       "\n",
       "    .dataframe tbody tr th {\n",
       "        vertical-align: top;\n",
       "    }\n",
       "\n",
       "    .dataframe thead th {\n",
       "        text-align: right;\n",
       "    }\n",
       "</style>\n",
       "<table border=\"1\" class=\"dataframe\">\n",
       "  <thead>\n",
       "    <tr style=\"text-align: right;\">\n",
       "      <th></th>\n",
       "      <th>ID</th>\n",
       "      <th>Area</th>\n",
       "      <th>Perimeter</th>\n",
       "      <th>MajorAxisLength</th>\n",
       "      <th>MinorAxisLength</th>\n",
       "      <th>AspectRation</th>\n",
       "      <th>Eccentricity</th>\n",
       "      <th>ConvexArea</th>\n",
       "      <th>EquivDiameter</th>\n",
       "      <th>Extent</th>\n",
       "      <th>Solidity</th>\n",
       "      <th>roundness</th>\n",
       "      <th>Compactness</th>\n",
       "      <th>ShapeFactor1</th>\n",
       "      <th>ShapeFactor2</th>\n",
       "      <th>ShapeFactor3</th>\n",
       "      <th>ShapeFactor4</th>\n",
       "      <th>y</th>\n",
       "    </tr>\n",
       "  </thead>\n",
       "  <tbody>\n",
       "    <tr>\n",
       "      <th>0</th>\n",
       "      <td>0</td>\n",
       "      <td>58238</td>\n",
       "      <td>971.303</td>\n",
       "      <td>397.202654</td>\n",
       "      <td>186.945510</td>\n",
       "      <td>2.124697</td>\n",
       "      <td>0.882317</td>\n",
       "      <td>58977</td>\n",
       "      <td>272.306674</td>\n",
       "      <td>0.604756</td>\n",
       "      <td>0.987470</td>\n",
       "      <td>0.775723</td>\n",
       "      <td>0.685561</td>\n",
       "      <td>0.006820</td>\n",
       "      <td>0.000929</td>\n",
       "      <td>0.469994</td>\n",
       "      <td>0.998595</td>\n",
       "      <td>HOROZ</td>\n",
       "    </tr>\n",
       "    <tr>\n",
       "      <th>1</th>\n",
       "      <td>1</td>\n",
       "      <td>44515</td>\n",
       "      <td>757.601</td>\n",
       "      <td>265.590470</td>\n",
       "      <td>213.967453</td>\n",
       "      <td>1.241266</td>\n",
       "      <td>0.592420</td>\n",
       "      <td>44780</td>\n",
       "      <td>238.071960</td>\n",
       "      <td>0.771745</td>\n",
       "      <td>0.994082</td>\n",
       "      <td>0.974620</td>\n",
       "      <td>0.896387</td>\n",
       "      <td>0.005966</td>\n",
       "      <td>0.002376</td>\n",
       "      <td>0.803510</td>\n",
       "      <td>0.997370</td>\n",
       "      <td>SEKER</td>\n",
       "    </tr>\n",
       "    <tr>\n",
       "      <th>2</th>\n",
       "      <td>2</td>\n",
       "      <td>31662</td>\n",
       "      <td>653.783</td>\n",
       "      <td>239.902428</td>\n",
       "      <td>168.421505</td>\n",
       "      <td>1.424417</td>\n",
       "      <td>0.712136</td>\n",
       "      <td>32034</td>\n",
       "      <td>200.781748</td>\n",
       "      <td>0.801407</td>\n",
       "      <td>0.988387</td>\n",
       "      <td>0.930853</td>\n",
       "      <td>0.836931</td>\n",
       "      <td>0.007577</td>\n",
       "      <td>0.002293</td>\n",
       "      <td>0.700453</td>\n",
       "      <td>0.997737</td>\n",
       "      <td>DERMASON</td>\n",
       "    </tr>\n",
       "    <tr>\n",
       "      <th>3</th>\n",
       "      <td>3</td>\n",
       "      <td>38778</td>\n",
       "      <td>734.020</td>\n",
       "      <td>268.446281</td>\n",
       "      <td>184.061923</td>\n",
       "      <td>1.458456</td>\n",
       "      <td>0.727925</td>\n",
       "      <td>39208</td>\n",
       "      <td>222.201897</td>\n",
       "      <td>0.766137</td>\n",
       "      <td>0.989033</td>\n",
       "      <td>0.904439</td>\n",
       "      <td>0.827733</td>\n",
       "      <td>0.006923</td>\n",
       "      <td>0.002005</td>\n",
       "      <td>0.685142</td>\n",
       "      <td>0.999250</td>\n",
       "      <td>DERMASON</td>\n",
       "    </tr>\n",
       "    <tr>\n",
       "      <th>4</th>\n",
       "      <td>4</td>\n",
       "      <td>42530</td>\n",
       "      <td>775.403</td>\n",
       "      <td>281.212824</td>\n",
       "      <td>193.236878</td>\n",
       "      <td>1.455275</td>\n",
       "      <td>0.726511</td>\n",
       "      <td>43028</td>\n",
       "      <td>232.703412</td>\n",
       "      <td>0.729816</td>\n",
       "      <td>0.988426</td>\n",
       "      <td>0.888895</td>\n",
       "      <td>0.827499</td>\n",
       "      <td>0.006612</td>\n",
       "      <td>0.001912</td>\n",
       "      <td>0.684755</td>\n",
       "      <td>0.996507</td>\n",
       "      <td>SIRA</td>\n",
       "    </tr>\n",
       "  </tbody>\n",
       "</table>\n",
       "</div>"
      ],
      "text/plain": [
       "   ID   Area  Perimeter  MajorAxisLength  MinorAxisLength  AspectRation  \\\n",
       "0   0  58238    971.303       397.202654       186.945510      2.124697   \n",
       "1   1  44515    757.601       265.590470       213.967453      1.241266   \n",
       "2   2  31662    653.783       239.902428       168.421505      1.424417   \n",
       "3   3  38778    734.020       268.446281       184.061923      1.458456   \n",
       "4   4  42530    775.403       281.212824       193.236878      1.455275   \n",
       "\n",
       "   Eccentricity  ConvexArea  EquivDiameter    Extent  Solidity  roundness  \\\n",
       "0      0.882317       58977     272.306674  0.604756  0.987470   0.775723   \n",
       "1      0.592420       44780     238.071960  0.771745  0.994082   0.974620   \n",
       "2      0.712136       32034     200.781748  0.801407  0.988387   0.930853   \n",
       "3      0.727925       39208     222.201897  0.766137  0.989033   0.904439   \n",
       "4      0.726511       43028     232.703412  0.729816  0.988426   0.888895   \n",
       "\n",
       "   Compactness  ShapeFactor1  ShapeFactor2  ShapeFactor3  ShapeFactor4  \\\n",
       "0     0.685561      0.006820      0.000929      0.469994      0.998595   \n",
       "1     0.896387      0.005966      0.002376      0.803510      0.997370   \n",
       "2     0.836931      0.007577      0.002293      0.700453      0.997737   \n",
       "3     0.827733      0.006923      0.002005      0.685142      0.999250   \n",
       "4     0.827499      0.006612      0.001912      0.684755      0.996507   \n",
       "\n",
       "          y  \n",
       "0     HOROZ  \n",
       "1     SEKER  \n",
       "2  DERMASON  \n",
       "3  DERMASON  \n",
       "4      SIRA  "
      ]
     },
     "execution_count": 2,
     "metadata": {},
     "output_type": "execute_result"
    }
   ],
   "source": [
    "train_data = pd.read_csv('../input/dry-beans-classification-iti-ai-pro-intake02/train.csv') \n",
    "train_data.head()"
   ]
  },
  {
   "cell_type": "code",
   "execution_count": 3,
   "id": "3f0c90b2",
   "metadata": {
    "execution": {
     "iopub.execute_input": "2022-05-30T21:29:09.760978Z",
     "iopub.status.busy": "2022-05-30T21:29:09.759849Z",
     "iopub.status.idle": "2022-05-30T21:29:09.787541Z",
     "shell.execute_reply": "2022-05-30T21:29:09.786806Z"
    },
    "papermill": {
     "duration": 0.053748,
     "end_time": "2022-05-30T21:29:09.789626",
     "exception": false,
     "start_time": "2022-05-30T21:29:09.735878",
     "status": "completed"
    },
    "tags": []
   },
   "outputs": [
    {
     "name": "stdout",
     "output_type": "stream",
     "text": [
      "<class 'pandas.core.frame.DataFrame'>\n",
      "RangeIndex: 10834 entries, 0 to 10833\n",
      "Data columns (total 18 columns):\n",
      " #   Column           Non-Null Count  Dtype  \n",
      "---  ------           --------------  -----  \n",
      " 0   ID               10834 non-null  int64  \n",
      " 1   Area             10834 non-null  int64  \n",
      " 2   Perimeter        10834 non-null  float64\n",
      " 3   MajorAxisLength  10834 non-null  float64\n",
      " 4   MinorAxisLength  10834 non-null  float64\n",
      " 5   AspectRation     10834 non-null  float64\n",
      " 6   Eccentricity     10834 non-null  float64\n",
      " 7   ConvexArea       10834 non-null  int64  \n",
      " 8   EquivDiameter    10834 non-null  float64\n",
      " 9   Extent           10834 non-null  float64\n",
      " 10  Solidity         10834 non-null  float64\n",
      " 11  roundness        10834 non-null  float64\n",
      " 12  Compactness      10834 non-null  float64\n",
      " 13  ShapeFactor1     10834 non-null  float64\n",
      " 14  ShapeFactor2     10834 non-null  float64\n",
      " 15  ShapeFactor3     10834 non-null  float64\n",
      " 16  ShapeFactor4     10834 non-null  float64\n",
      " 17  y                10834 non-null  object \n",
      "dtypes: float64(14), int64(3), object(1)\n",
      "memory usage: 1.5+ MB\n"
     ]
    }
   ],
   "source": [
    "train_data.info()"
   ]
  },
  {
   "cell_type": "code",
   "execution_count": 4,
   "id": "7b57c345",
   "metadata": {
    "execution": {
     "iopub.execute_input": "2022-05-30T21:29:09.839562Z",
     "iopub.status.busy": "2022-05-30T21:29:09.838907Z",
     "iopub.status.idle": "2022-05-30T21:29:09.845159Z",
     "shell.execute_reply": "2022-05-30T21:29:09.844460Z"
    },
    "papermill": {
     "duration": 0.032587,
     "end_time": "2022-05-30T21:29:09.847095",
     "exception": false,
     "start_time": "2022-05-30T21:29:09.814508",
     "status": "completed"
    },
    "scrolled": true,
    "tags": []
   },
   "outputs": [
    {
     "data": {
      "text/plain": [
       "['Area',\n",
       " 'Perimeter',\n",
       " 'MajorAxisLength',\n",
       " 'MinorAxisLength',\n",
       " 'AspectRation',\n",
       " 'Eccentricity',\n",
       " 'ConvexArea',\n",
       " 'EquivDiameter',\n",
       " 'Extent',\n",
       " 'Solidity',\n",
       " 'roundness',\n",
       " 'Compactness',\n",
       " 'ShapeFactor1',\n",
       " 'ShapeFactor2',\n",
       " 'ShapeFactor3',\n",
       " 'ShapeFactor4']"
      ]
     },
     "execution_count": 4,
     "metadata": {},
     "output_type": "execute_result"
    }
   ],
   "source": [
    "targeted_features = list(train_data.columns) \n",
    "targeted_features.remove('ID')\n",
    "targeted_features.remove('y')\n",
    "targeted_features"
   ]
  },
  {
   "cell_type": "code",
   "execution_count": 5,
   "id": "a0ba82aa",
   "metadata": {
    "execution": {
     "iopub.execute_input": "2022-05-30T21:29:09.895087Z",
     "iopub.status.busy": "2022-05-30T21:29:09.894082Z",
     "iopub.status.idle": "2022-05-30T21:29:09.964134Z",
     "shell.execute_reply": "2022-05-30T21:29:09.963002Z"
    },
    "papermill": {
     "duration": 0.096365,
     "end_time": "2022-05-30T21:29:09.966269",
     "exception": false,
     "start_time": "2022-05-30T21:29:09.869904",
     "status": "completed"
    },
    "scrolled": true,
    "tags": []
   },
   "outputs": [
    {
     "data": {
      "text/html": [
       "<div>\n",
       "<style scoped>\n",
       "    .dataframe tbody tr th:only-of-type {\n",
       "        vertical-align: middle;\n",
       "    }\n",
       "\n",
       "    .dataframe tbody tr th {\n",
       "        vertical-align: top;\n",
       "    }\n",
       "\n",
       "    .dataframe thead th {\n",
       "        text-align: right;\n",
       "    }\n",
       "</style>\n",
       "<table border=\"1\" class=\"dataframe\">\n",
       "  <thead>\n",
       "    <tr style=\"text-align: right;\">\n",
       "      <th></th>\n",
       "      <th>Area</th>\n",
       "      <th>Perimeter</th>\n",
       "      <th>MajorAxisLength</th>\n",
       "      <th>MinorAxisLength</th>\n",
       "      <th>AspectRation</th>\n",
       "      <th>Eccentricity</th>\n",
       "      <th>ConvexArea</th>\n",
       "      <th>EquivDiameter</th>\n",
       "      <th>Extent</th>\n",
       "      <th>Solidity</th>\n",
       "      <th>roundness</th>\n",
       "      <th>Compactness</th>\n",
       "      <th>ShapeFactor1</th>\n",
       "      <th>ShapeFactor2</th>\n",
       "      <th>ShapeFactor3</th>\n",
       "      <th>ShapeFactor4</th>\n",
       "    </tr>\n",
       "  </thead>\n",
       "  <tbody>\n",
       "    <tr>\n",
       "      <th>count</th>\n",
       "      <td>10834.000000</td>\n",
       "      <td>10834.000000</td>\n",
       "      <td>10834.000000</td>\n",
       "      <td>10834.000000</td>\n",
       "      <td>10834.000000</td>\n",
       "      <td>10834.000000</td>\n",
       "      <td>10834.000000</td>\n",
       "      <td>10834.000000</td>\n",
       "      <td>10834.000000</td>\n",
       "      <td>10834.000000</td>\n",
       "      <td>10834.000000</td>\n",
       "      <td>10834.000000</td>\n",
       "      <td>10834.000000</td>\n",
       "      <td>10834.000000</td>\n",
       "      <td>10834.000000</td>\n",
       "      <td>10834.000000</td>\n",
       "    </tr>\n",
       "    <tr>\n",
       "      <th>mean</th>\n",
       "      <td>53095.675189</td>\n",
       "      <td>855.274892</td>\n",
       "      <td>320.036169</td>\n",
       "      <td>202.410342</td>\n",
       "      <td>1.581294</td>\n",
       "      <td>0.750588</td>\n",
       "      <td>53816.205926</td>\n",
       "      <td>253.123583</td>\n",
       "      <td>0.749937</td>\n",
       "      <td>0.987152</td>\n",
       "      <td>0.873647</td>\n",
       "      <td>0.800244</td>\n",
       "      <td>0.006559</td>\n",
       "      <td>0.001718</td>\n",
       "      <td>0.644139</td>\n",
       "      <td>0.995083</td>\n",
       "    </tr>\n",
       "    <tr>\n",
       "      <th>std</th>\n",
       "      <td>29542.542580</td>\n",
       "      <td>214.991122</td>\n",
       "      <td>85.961630</td>\n",
       "      <td>45.113965</td>\n",
       "      <td>0.244314</td>\n",
       "      <td>0.091481</td>\n",
       "      <td>29999.710739</td>\n",
       "      <td>59.433080</td>\n",
       "      <td>0.048949</td>\n",
       "      <td>0.004626</td>\n",
       "      <td>0.059344</td>\n",
       "      <td>0.061228</td>\n",
       "      <td>0.001127</td>\n",
       "      <td>0.000593</td>\n",
       "      <td>0.098268</td>\n",
       "      <td>0.004306</td>\n",
       "    </tr>\n",
       "    <tr>\n",
       "      <th>min</th>\n",
       "      <td>20420.000000</td>\n",
       "      <td>524.932000</td>\n",
       "      <td>183.601165</td>\n",
       "      <td>129.576207</td>\n",
       "      <td>1.024868</td>\n",
       "      <td>0.218951</td>\n",
       "      <td>20684.000000</td>\n",
       "      <td>161.243764</td>\n",
       "      <td>0.555315</td>\n",
       "      <td>0.919246</td>\n",
       "      <td>0.489618</td>\n",
       "      <td>0.645368</td>\n",
       "      <td>0.002856</td>\n",
       "      <td>0.000564</td>\n",
       "      <td>0.416499</td>\n",
       "      <td>0.947687</td>\n",
       "    </tr>\n",
       "    <tr>\n",
       "      <th>25%</th>\n",
       "      <td>36343.500000</td>\n",
       "      <td>703.601250</td>\n",
       "      <td>253.501071</td>\n",
       "      <td>175.927024</td>\n",
       "      <td>1.432985</td>\n",
       "      <td>0.716250</td>\n",
       "      <td>36731.250000</td>\n",
       "      <td>215.113880</td>\n",
       "      <td>0.718778</td>\n",
       "      <td>0.985627</td>\n",
       "      <td>0.833479</td>\n",
       "      <td>0.763378</td>\n",
       "      <td>0.005888</td>\n",
       "      <td>0.001161</td>\n",
       "      <td>0.582747</td>\n",
       "      <td>0.993690</td>\n",
       "    </tr>\n",
       "    <tr>\n",
       "      <th>50%</th>\n",
       "      <td>44645.000000</td>\n",
       "      <td>793.739500</td>\n",
       "      <td>296.377365</td>\n",
       "      <td>192.525040</td>\n",
       "      <td>1.550761</td>\n",
       "      <td>0.764314</td>\n",
       "      <td>45148.000000</td>\n",
       "      <td>238.419335</td>\n",
       "      <td>0.760141</td>\n",
       "      <td>0.988290</td>\n",
       "      <td>0.883472</td>\n",
       "      <td>0.801428</td>\n",
       "      <td>0.006643</td>\n",
       "      <td>0.001700</td>\n",
       "      <td>0.642287</td>\n",
       "      <td>0.996397</td>\n",
       "    </tr>\n",
       "    <tr>\n",
       "      <th>75%</th>\n",
       "      <td>61295.000000</td>\n",
       "      <td>975.517500</td>\n",
       "      <td>376.068399</td>\n",
       "      <td>217.315195</td>\n",
       "      <td>1.703029</td>\n",
       "      <td>0.809450</td>\n",
       "      <td>62251.500000</td>\n",
       "      <td>279.362162</td>\n",
       "      <td>0.786871</td>\n",
       "      <td>0.990014</td>\n",
       "      <td>0.916883</td>\n",
       "      <td>0.834068</td>\n",
       "      <td>0.007268</td>\n",
       "      <td>0.002169</td>\n",
       "      <td>0.695670</td>\n",
       "      <td>0.997895</td>\n",
       "    </tr>\n",
       "    <tr>\n",
       "      <th>max</th>\n",
       "      <td>254616.000000</td>\n",
       "      <td>1985.370000</td>\n",
       "      <td>738.860153</td>\n",
       "      <td>450.926187</td>\n",
       "      <td>2.388873</td>\n",
       "      <td>0.908167</td>\n",
       "      <td>263261.000000</td>\n",
       "      <td>569.374358</td>\n",
       "      <td>0.866195</td>\n",
       "      <td>0.994677</td>\n",
       "      <td>0.990685</td>\n",
       "      <td>0.987303</td>\n",
       "      <td>0.009897</td>\n",
       "      <td>0.003665</td>\n",
       "      <td>0.974767</td>\n",
       "      <td>0.999733</td>\n",
       "    </tr>\n",
       "  </tbody>\n",
       "</table>\n",
       "</div>"
      ],
      "text/plain": [
       "                Area     Perimeter  MajorAxisLength  MinorAxisLength  \\\n",
       "count   10834.000000  10834.000000     10834.000000     10834.000000   \n",
       "mean    53095.675189    855.274892       320.036169       202.410342   \n",
       "std     29542.542580    214.991122        85.961630        45.113965   \n",
       "min     20420.000000    524.932000       183.601165       129.576207   \n",
       "25%     36343.500000    703.601250       253.501071       175.927024   \n",
       "50%     44645.000000    793.739500       296.377365       192.525040   \n",
       "75%     61295.000000    975.517500       376.068399       217.315195   \n",
       "max    254616.000000   1985.370000       738.860153       450.926187   \n",
       "\n",
       "       AspectRation  Eccentricity     ConvexArea  EquivDiameter        Extent  \\\n",
       "count  10834.000000  10834.000000   10834.000000   10834.000000  10834.000000   \n",
       "mean       1.581294      0.750588   53816.205926     253.123583      0.749937   \n",
       "std        0.244314      0.091481   29999.710739      59.433080      0.048949   \n",
       "min        1.024868      0.218951   20684.000000     161.243764      0.555315   \n",
       "25%        1.432985      0.716250   36731.250000     215.113880      0.718778   \n",
       "50%        1.550761      0.764314   45148.000000     238.419335      0.760141   \n",
       "75%        1.703029      0.809450   62251.500000     279.362162      0.786871   \n",
       "max        2.388873      0.908167  263261.000000     569.374358      0.866195   \n",
       "\n",
       "           Solidity     roundness   Compactness  ShapeFactor1  ShapeFactor2  \\\n",
       "count  10834.000000  10834.000000  10834.000000  10834.000000  10834.000000   \n",
       "mean       0.987152      0.873647      0.800244      0.006559      0.001718   \n",
       "std        0.004626      0.059344      0.061228      0.001127      0.000593   \n",
       "min        0.919246      0.489618      0.645368      0.002856      0.000564   \n",
       "25%        0.985627      0.833479      0.763378      0.005888      0.001161   \n",
       "50%        0.988290      0.883472      0.801428      0.006643      0.001700   \n",
       "75%        0.990014      0.916883      0.834068      0.007268      0.002169   \n",
       "max        0.994677      0.990685      0.987303      0.009897      0.003665   \n",
       "\n",
       "       ShapeFactor3  ShapeFactor4  \n",
       "count  10834.000000  10834.000000  \n",
       "mean       0.644139      0.995083  \n",
       "std        0.098268      0.004306  \n",
       "min        0.416499      0.947687  \n",
       "25%        0.582747      0.993690  \n",
       "50%        0.642287      0.996397  \n",
       "75%        0.695670      0.997895  \n",
       "max        0.974767      0.999733  "
      ]
     },
     "execution_count": 5,
     "metadata": {},
     "output_type": "execute_result"
    }
   ],
   "source": [
    "train_data[targeted_features].describe()"
   ]
  },
  {
   "cell_type": "code",
   "execution_count": 6,
   "id": "a72a0746",
   "metadata": {
    "execution": {
     "iopub.execute_input": "2022-05-30T21:29:10.015290Z",
     "iopub.status.busy": "2022-05-30T21:29:10.014897Z",
     "iopub.status.idle": "2022-05-30T21:29:10.020452Z",
     "shell.execute_reply": "2022-05-30T21:29:10.019718Z"
    },
    "papermill": {
     "duration": 0.032117,
     "end_time": "2022-05-30T21:29:10.022402",
     "exception": false,
     "start_time": "2022-05-30T21:29:09.990285",
     "status": "completed"
    },
    "tags": []
   },
   "outputs": [],
   "source": [
    "X_train = train_data[targeted_features]"
   ]
  },
  {
   "cell_type": "code",
   "execution_count": 7,
   "id": "d5419471",
   "metadata": {
    "execution": {
     "iopub.execute_input": "2022-05-30T21:29:10.071002Z",
     "iopub.status.busy": "2022-05-30T21:29:10.070351Z",
     "iopub.status.idle": "2022-05-30T21:29:11.560984Z",
     "shell.execute_reply": "2022-05-30T21:29:11.559884Z"
    },
    "papermill": {
     "duration": 1.518699,
     "end_time": "2022-05-30T21:29:11.564227",
     "exception": false,
     "start_time": "2022-05-30T21:29:10.045528",
     "status": "completed"
    },
    "tags": []
   },
   "outputs": [
    {
     "data": {
      "image/png": "[encoded data removed]",
      "text/plain": [
       "<Figure size 432x288 with 2 Axes>"
      ]
     },
     "metadata": {
      "needs_background": "light"
     },
     "output_type": "display_data"
    }
   ],
   "source": [
    "sn.heatmap(X_train.corr(), annot=True)\n",
    "sn.set(rc = {'figure.figsize':(25,25)})"
   ]
  },
  {
   "cell_type": "code",
   "execution_count": 8,
   "id": "3cb7336f",
   "metadata": {
    "execution": {
     "iopub.execute_input": "2022-05-30T21:29:11.618271Z",
     "iopub.status.busy": "2022-05-30T21:29:11.617670Z",
     "iopub.status.idle": "2022-05-30T21:29:15.334252Z",
     "shell.execute_reply": "2022-05-30T21:29:15.332987Z"
    },
    "papermill": {
     "duration": 3.746992,
     "end_time": "2022-05-30T21:29:15.336718",
     "exception": false,
     "start_time": "2022-05-30T21:29:11.589726",
     "status": "completed"
    },
    "tags": []
   },
   "outputs": [
    {
     "data": {
      "text/plain": [
       "array([[<AxesSubplot:title={'center':'Area'}>,\n",
       "        <AxesSubplot:title={'center':'Perimeter'}>,\n",
       "        <AxesSubplot:title={'center':'MajorAxisLength'}>,\n",
       "        <AxesSubplot:title={'center':'MinorAxisLength'}>],\n",
       "       [<AxesSubplot:title={'center':'AspectRation'}>,\n",
       "        <AxesSubplot:title={'center':'Eccentricity'}>,\n",
       "        <AxesSubplot:title={'center':'ConvexArea'}>,\n",
       "        <AxesSubplot:title={'center':'EquivDiameter'}>],\n",
       "       [<AxesSubplot:title={'center':'Extent'}>,\n",
       "        <AxesSubplot:title={'center':'Solidity'}>,\n",
       "        <AxesSubplot:title={'center':'roundness'}>,\n",
       "        <AxesSubplot:title={'center':'Compactness'}>],\n",
       "       [<AxesSubplot:title={'center':'ShapeFactor1'}>,\n",
       "        <AxesSubplot:title={'center':'ShapeFactor2'}>,\n",
       "        <AxesSubplot:title={'center':'ShapeFactor3'}>,\n",
       "        <AxesSubplot:title={'center':'ShapeFactor4'}>],\n",
       "       [<AxesSubplot:>, <AxesSubplot:>, <AxesSubplot:>, <AxesSubplot:>],\n",
       "       [<AxesSubplot:>, <AxesSubplot:>, <AxesSubplot:>, <AxesSubplot:>],\n",
       "       [<AxesSubplot:>, <AxesSubplot:>, <AxesSubplot:>, <AxesSubplot:>],\n",
       "       [<AxesSubplot:>, <AxesSubplot:>, <AxesSubplot:>, <AxesSubplot:>],\n",
       "       [<AxesSubplot:>, <AxesSubplot:>, <AxesSubplot:>, <AxesSubplot:>],\n",
       "       [<AxesSubplot:>, <AxesSubplot:>, <AxesSubplot:>, <AxesSubplot:>],\n",
       "       [<AxesSubplot:>, <AxesSubplot:>, <AxesSubplot:>, <AxesSubplot:>],\n",
       "       [<AxesSubplot:>, <AxesSubplot:>, <AxesSubplot:>, <AxesSubplot:>],\n",
       "       [<AxesSubplot:>, <AxesSubplot:>, <AxesSubplot:>, <AxesSubplot:>],\n",
       "       [<AxesSubplot:>, <AxesSubplot:>, <AxesSubplot:>, <AxesSubplot:>],\n",
       "       [<AxesSubplot:>, <AxesSubplot:>, <AxesSubplot:>, <AxesSubplot:>]],\n",
       "      dtype=object)"
      ]
     },
     "execution_count": 8,
     "metadata": {},
     "output_type": "execute_result"
    },
    {
     "data": {
      "image/png": "[encoded data removed]",
      "text/plain": [
       "<Figure size 1440x2160 with 60 Axes>"
      ]
     },
     "metadata": {},
     "output_type": "display_data"
    }
   ],
   "source": [
    "X_train.hist(figsize=(20,30), bins=20, layout=(15,4))"
   ]
  },
  {
   "cell_type": "code",
   "execution_count": 9,
   "id": "2b8a092a",
   "metadata": {
    "execution": {
     "iopub.execute_input": "2022-05-30T21:29:15.393565Z",
     "iopub.status.busy": "2022-05-30T21:29:15.393105Z",
     "iopub.status.idle": "2022-05-30T21:29:15.409861Z",
     "shell.execute_reply": "2022-05-30T21:29:15.408830Z"
    },
    "papermill": {
     "duration": 0.04741,
     "end_time": "2022-05-30T21:29:15.412425",
     "exception": false,
     "start_time": "2022-05-30T21:29:15.365015",
     "status": "completed"
    },
    "tags": []
   },
   "outputs": [
    {
     "data": {
      "text/html": [
       "<div>\n",
       "<style scoped>\n",
       "    .dataframe tbody tr th:only-of-type {\n",
       "        vertical-align: middle;\n",
       "    }\n",
       "\n",
       "    .dataframe tbody tr th {\n",
       "        vertical-align: top;\n",
       "    }\n",
       "\n",
       "    .dataframe thead th {\n",
       "        text-align: right;\n",
       "    }\n",
       "</style>\n",
       "<table border=\"1\" class=\"dataframe\">\n",
       "  <thead>\n",
       "    <tr style=\"text-align: right;\">\n",
       "      <th></th>\n",
       "      <th>0</th>\n",
       "    </tr>\n",
       "  </thead>\n",
       "  <tbody>\n",
       "    <tr>\n",
       "      <th>Area</th>\n",
       "      <td>2.970246</td>\n",
       "    </tr>\n",
       "    <tr>\n",
       "      <th>ConvexArea</th>\n",
       "      <td>2.960315</td>\n",
       "    </tr>\n",
       "    <tr>\n",
       "      <th>MinorAxisLength</th>\n",
       "      <td>2.251468</td>\n",
       "    </tr>\n",
       "    <tr>\n",
       "      <th>EquivDiameter</th>\n",
       "      <td>1.971378</td>\n",
       "    </tr>\n",
       "    <tr>\n",
       "      <th>Perimeter</th>\n",
       "      <td>1.650773</td>\n",
       "    </tr>\n",
       "    <tr>\n",
       "      <th>MajorAxisLength</th>\n",
       "      <td>1.390286</td>\n",
       "    </tr>\n",
       "    <tr>\n",
       "      <th>AspectRation</th>\n",
       "      <td>0.589186</td>\n",
       "    </tr>\n",
       "    <tr>\n",
       "      <th>ShapeFactor2</th>\n",
       "      <td>0.292677</td>\n",
       "    </tr>\n",
       "    <tr>\n",
       "      <th>ShapeFactor3</th>\n",
       "      <td>0.245589</td>\n",
       "    </tr>\n",
       "    <tr>\n",
       "      <th>Compactness</th>\n",
       "      <td>0.038242</td>\n",
       "    </tr>\n",
       "    <tr>\n",
       "      <th>ShapeFactor1</th>\n",
       "      <td>-0.544873</td>\n",
       "    </tr>\n",
       "    <tr>\n",
       "      <th>roundness</th>\n",
       "      <td>-0.659566</td>\n",
       "    </tr>\n",
       "    <tr>\n",
       "      <th>Extent</th>\n",
       "      <td>-0.900892</td>\n",
       "    </tr>\n",
       "    <tr>\n",
       "      <th>Eccentricity</th>\n",
       "      <td>-1.075626</td>\n",
       "    </tr>\n",
       "    <tr>\n",
       "      <th>Solidity</th>\n",
       "      <td>-2.507634</td>\n",
       "    </tr>\n",
       "    <tr>\n",
       "      <th>ShapeFactor4</th>\n",
       "      <td>-2.628540</td>\n",
       "    </tr>\n",
       "  </tbody>\n",
       "</table>\n",
       "</div>"
      ],
      "text/plain": [
       "                        0\n",
       "Area             2.970246\n",
       "ConvexArea       2.960315\n",
       "MinorAxisLength  2.251468\n",
       "EquivDiameter    1.971378\n",
       "Perimeter        1.650773\n",
       "MajorAxisLength  1.390286\n",
       "AspectRation     0.589186\n",
       "ShapeFactor2     0.292677\n",
       "ShapeFactor3     0.245589\n",
       "Compactness      0.038242\n",
       "ShapeFactor1    -0.544873\n",
       "roundness       -0.659566\n",
       "Extent          -0.900892\n",
       "Eccentricity    -1.075626\n",
       "Solidity        -2.507634\n",
       "ShapeFactor4    -2.628540"
      ]
     },
     "execution_count": 9,
     "metadata": {},
     "output_type": "execute_result"
    }
   ],
   "source": [
    "skew = pd.DataFrame(X_train.skew().sort_values(ascending=False))\n",
    "skew"
   ]
  },
  {
   "cell_type": "code",
   "execution_count": 10,
   "id": "58638b0b",
   "metadata": {
    "execution": {
     "iopub.execute_input": "2022-05-30T21:29:15.466452Z",
     "iopub.status.busy": "2022-05-30T21:29:15.465907Z",
     "iopub.status.idle": "2022-05-30T21:29:15.471039Z",
     "shell.execute_reply": "2022-05-30T21:29:15.470344Z"
    },
    "papermill": {
     "duration": 0.034426,
     "end_time": "2022-05-30T21:29:15.473045",
     "exception": false,
     "start_time": "2022-05-30T21:29:15.438619",
     "status": "completed"
    },
    "tags": []
   },
   "outputs": [],
   "source": [
    "skewed = []\n",
    "for s in list(skew.index):\n",
    "    if abs(skew.loc[s,0]) > 0.5:\n",
    "        skewed.append(s)"
   ]
  },
  {
   "cell_type": "code",
   "execution_count": 11,
   "id": "83bd03dc",
   "metadata": {
    "execution": {
     "iopub.execute_input": "2022-05-30T21:29:15.527030Z",
     "iopub.status.busy": "2022-05-30T21:29:15.526473Z",
     "iopub.status.idle": "2022-05-30T21:29:18.799745Z",
     "shell.execute_reply": "2022-05-30T21:29:18.798989Z"
    },
    "papermill": {
     "duration": 3.302912,
     "end_time": "2022-05-30T21:29:18.802026",
     "exception": false,
     "start_time": "2022-05-30T21:29:15.499114",
     "status": "completed"
    },
    "tags": []
   },
   "outputs": [
    {
     "data": {
      "text/plain": [
       "array([[<AxesSubplot:title={'center':'Area'}>,\n",
       "        <AxesSubplot:title={'center':'ConvexArea'}>,\n",
       "        <AxesSubplot:title={'center':'MinorAxisLength'}>,\n",
       "        <AxesSubplot:title={'center':'EquivDiameter'}>],\n",
       "       [<AxesSubplot:title={'center':'Perimeter'}>,\n",
       "        <AxesSubplot:title={'center':'MajorAxisLength'}>,\n",
       "        <AxesSubplot:title={'center':'AspectRation'}>,\n",
       "        <AxesSubplot:title={'center':'ShapeFactor1'}>],\n",
       "       [<AxesSubplot:title={'center':'roundness'}>,\n",
       "        <AxesSubplot:title={'center':'Extent'}>,\n",
       "        <AxesSubplot:title={'center':'Eccentricity'}>,\n",
       "        <AxesSubplot:title={'center':'Solidity'}>],\n",
       "       [<AxesSubplot:title={'center':'ShapeFactor4'}>, <AxesSubplot:>,\n",
       "        <AxesSubplot:>, <AxesSubplot:>],\n",
       "       [<AxesSubplot:>, <AxesSubplot:>, <AxesSubplot:>, <AxesSubplot:>],\n",
       "       [<AxesSubplot:>, <AxesSubplot:>, <AxesSubplot:>, <AxesSubplot:>],\n",
       "       [<AxesSubplot:>, <AxesSubplot:>, <AxesSubplot:>, <AxesSubplot:>],\n",
       "       [<AxesSubplot:>, <AxesSubplot:>, <AxesSubplot:>, <AxesSubplot:>],\n",
       "       [<AxesSubplot:>, <AxesSubplot:>, <AxesSubplot:>, <AxesSubplot:>],\n",
       "       [<AxesSubplot:>, <AxesSubplot:>, <AxesSubplot:>, <AxesSubplot:>],\n",
       "       [<AxesSubplot:>, <AxesSubplot:>, <AxesSubplot:>, <AxesSubplot:>],\n",
       "       [<AxesSubplot:>, <AxesSubplot:>, <AxesSubplot:>, <AxesSubplot:>],\n",
       "       [<AxesSubplot:>, <AxesSubplot:>, <AxesSubplot:>, <AxesSubplot:>],\n",
       "       [<AxesSubplot:>, <AxesSubplot:>, <AxesSubplot:>, <AxesSubplot:>],\n",
       "       [<AxesSubplot:>, <AxesSubplot:>, <AxesSubplot:>, <AxesSubplot:>]],\n",
       "      dtype=object)"
      ]
     },
     "execution_count": 11,
     "metadata": {},
     "output_type": "execute_result"
    },
    {
     "data": {
      "image/png": "[encoded data removed]",
      "text/plain": [
       "<Figure size 1440x2160 with 60 Axes>"
      ]
     },
     "metadata": {},
     "output_type": "display_data"
    }
   ],
   "source": [
    "X_train_features = list(X_train.columns) \n",
    "for c in skewed:\n",
    "    X_train_features.remove(c)\n",
    "np.log(X_train[skewed]).hist(figsize=(20,30), bins=20, layout=(15,4))"
   ]
  },
  {
   "cell_type": "code",
   "execution_count": 12,
   "id": "f4e71ea2",
   "metadata": {
    "execution": {
     "iopub.execute_input": "2022-05-30T21:29:18.858410Z",
     "iopub.status.busy": "2022-05-30T21:29:18.857864Z",
     "iopub.status.idle": "2022-05-30T21:29:19.002549Z",
     "shell.execute_reply": "2022-05-30T21:29:19.001584Z"
    },
    "papermill": {
     "duration": 0.175626,
     "end_time": "2022-05-30T21:29:19.005093",
     "exception": false,
     "start_time": "2022-05-30T21:29:18.829467",
     "status": "completed"
    },
    "tags": []
   },
   "outputs": [],
   "source": [
    "#scaled_l = np.log(X_train[skewed])\n",
    "#scaled_l = np.log(X_test[skewed])\n",
    "scaler = RobustScaler()\n",
    "boxcoxTr = PowerTransformer(method = \"box-cox\", standardize=True)\n",
    "\n",
    "\n",
    "scaled = scaler.fit_transform(X_train[X_train_features])\n",
    "transformer1 = boxcoxTr.fit(X_train[skewed])\n",
    "scaled_l = transformer1.transform(X_train[skewed])\n",
    "scaled_l = pd.DataFrame(scaled_l,columns = skewed)\n",
    "scaled = pd.DataFrame(scaled,columns = X_train_features)\n",
    "X_train_transformed = pd.concat([scaled_l, scaled], axis=1)\n",
    "\n"
   ]
  },
  {
   "cell_type": "code",
   "execution_count": 13,
   "id": "70d74564",
   "metadata": {
    "execution": {
     "iopub.execute_input": "2022-05-30T21:29:19.062019Z",
     "iopub.status.busy": "2022-05-30T21:29:19.061471Z",
     "iopub.status.idle": "2022-05-30T21:29:19.130638Z",
     "shell.execute_reply": "2022-05-30T21:29:19.129889Z"
    },
    "papermill": {
     "duration": 0.099838,
     "end_time": "2022-05-30T21:29:19.132510",
     "exception": false,
     "start_time": "2022-05-30T21:29:19.032672",
     "status": "completed"
    },
    "tags": []
   },
   "outputs": [
    {
     "data": {
      "text/html": [
       "<div>\n",
       "<style scoped>\n",
       "    .dataframe tbody tr th:only-of-type {\n",
       "        vertical-align: middle;\n",
       "    }\n",
       "\n",
       "    .dataframe tbody tr th {\n",
       "        vertical-align: top;\n",
       "    }\n",
       "\n",
       "    .dataframe thead th {\n",
       "        text-align: right;\n",
       "    }\n",
       "</style>\n",
       "<table border=\"1\" class=\"dataframe\">\n",
       "  <thead>\n",
       "    <tr style=\"text-align: right;\">\n",
       "      <th></th>\n",
       "      <th>Area</th>\n",
       "      <th>ConvexArea</th>\n",
       "      <th>MinorAxisLength</th>\n",
       "      <th>EquivDiameter</th>\n",
       "      <th>Perimeter</th>\n",
       "      <th>MajorAxisLength</th>\n",
       "      <th>AspectRation</th>\n",
       "      <th>ShapeFactor1</th>\n",
       "      <th>roundness</th>\n",
       "      <th>Extent</th>\n",
       "      <th>Eccentricity</th>\n",
       "      <th>Solidity</th>\n",
       "      <th>ShapeFactor4</th>\n",
       "      <th>Compactness</th>\n",
       "      <th>ShapeFactor2</th>\n",
       "      <th>ShapeFactor3</th>\n",
       "    </tr>\n",
       "  </thead>\n",
       "  <tbody>\n",
       "    <tr>\n",
       "      <th>count</th>\n",
       "      <td>1.083400e+04</td>\n",
       "      <td>1.083400e+04</td>\n",
       "      <td>1.083400e+04</td>\n",
       "      <td>1.083400e+04</td>\n",
       "      <td>1.083400e+04</td>\n",
       "      <td>1.083400e+04</td>\n",
       "      <td>1.083400e+04</td>\n",
       "      <td>1.083400e+04</td>\n",
       "      <td>1.083400e+04</td>\n",
       "      <td>1.083400e+04</td>\n",
       "      <td>1.083400e+04</td>\n",
       "      <td>1.083400e+04</td>\n",
       "      <td>1.083400e+04</td>\n",
       "      <td>1.083400e+04</td>\n",
       "      <td>10834.000000</td>\n",
       "      <td>10834.000000</td>\n",
       "    </tr>\n",
       "    <tr>\n",
       "      <th>mean</th>\n",
       "      <td>-2.781372e-12</td>\n",
       "      <td>-2.435394e-12</td>\n",
       "      <td>4.642838e-12</td>\n",
       "      <td>2.288612e-12</td>\n",
       "      <td>4.338800e-13</td>\n",
       "      <td>-1.976101e-13</td>\n",
       "      <td>-1.128054e-16</td>\n",
       "      <td>2.624714e-12</td>\n",
       "      <td>-2.124939e-16</td>\n",
       "      <td>-9.181833e-18</td>\n",
       "      <td>-1.574029e-17</td>\n",
       "      <td>-1.479587e-15</td>\n",
       "      <td>8.493196e-17</td>\n",
       "      <td>-1.674947e-02</td>\n",
       "      <td>0.017106</td>\n",
       "      <td>0.016402</td>\n",
       "    </tr>\n",
       "    <tr>\n",
       "      <th>std</th>\n",
       "      <td>1.000046e+00</td>\n",
       "      <td>1.000046e+00</td>\n",
       "      <td>1.000046e+00</td>\n",
       "      <td>1.000046e+00</td>\n",
       "      <td>1.000046e+00</td>\n",
       "      <td>1.000046e+00</td>\n",
       "      <td>1.000046e+00</td>\n",
       "      <td>1.000046e+00</td>\n",
       "      <td>1.000046e+00</td>\n",
       "      <td>1.000046e+00</td>\n",
       "      <td>1.000046e+00</td>\n",
       "      <td>1.000046e+00</td>\n",
       "      <td>1.000046e+00</td>\n",
       "      <td>8.661522e-01</td>\n",
       "      <td>0.588283</td>\n",
       "      <td>0.870216</td>\n",
       "    </tr>\n",
       "    <tr>\n",
       "      <th>min</th>\n",
       "      <td>-3.127594e+00</td>\n",
       "      <td>-3.119487e+00</td>\n",
       "      <td>-3.602541e+00</td>\n",
       "      <td>-3.127594e+00</td>\n",
       "      <td>-2.942758e+00</td>\n",
       "      <td>-2.918674e+00</td>\n",
       "      <td>-3.015021e+00</td>\n",
       "      <td>-2.624619e+00</td>\n",
       "      <td>-3.301156e+00</td>\n",
       "      <td>-2.450473e+00</td>\n",
       "      <td>-2.621188e+00</td>\n",
       "      <td>-2.497075e+00</td>\n",
       "      <td>-2.222295e+00</td>\n",
       "      <td>-2.207674e+00</td>\n",
       "      <td>-1.126378</td>\n",
       "      <td>-1.999474</td>\n",
       "    </tr>\n",
       "    <tr>\n",
       "      <th>25%</th>\n",
       "      <td>-6.644276e-01</td>\n",
       "      <td>-6.690428e-01</td>\n",
       "      <td>-6.043729e-01</td>\n",
       "      <td>-6.644276e-01</td>\n",
       "      <td>-7.434278e-01</td>\n",
       "      <td>-8.252256e-01</td>\n",
       "      <td>-5.530537e-01</td>\n",
       "      <td>-6.683957e-01</td>\n",
       "      <td>-7.736688e-01</td>\n",
       "      <td>-7.933817e-01</td>\n",
       "      <td>-5.641757e-01</td>\n",
       "      <td>-6.730827e-01</td>\n",
       "      <td>-7.614570e-01</td>\n",
       "      <td>-5.382621e-01</td>\n",
       "      <td>-0.535092</td>\n",
       "      <td>-0.527264</td>\n",
       "    </tr>\n",
       "    <tr>\n",
       "      <th>50%</th>\n",
       "      <td>-3.284877e-02</td>\n",
       "      <td>-3.634326e-02</td>\n",
       "      <td>-6.900763e-04</td>\n",
       "      <td>-3.284876e-02</td>\n",
       "      <td>-7.412183e-02</td>\n",
       "      <td>-5.737401e-02</td>\n",
       "      <td>-2.084575e-02</td>\n",
       "      <td>-4.665925e-04</td>\n",
       "      <td>5.693451e-02</td>\n",
       "      <td>6.360315e-02</td>\n",
       "      <td>7.361969e-04</td>\n",
       "      <td>5.933825e-02</td>\n",
       "      <td>1.170032e-01</td>\n",
       "      <td>7.852758e-16</td>\n",
       "      <td>0.000000</td>\n",
       "      <td>0.000000</td>\n",
       "    </tr>\n",
       "    <tr>\n",
       "      <th>75%</th>\n",
       "      <td>7.529325e-01</td>\n",
       "      <td>7.573591e-01</td>\n",
       "      <td>6.660152e-01</td>\n",
       "      <td>7.529325e-01</td>\n",
       "      <td>8.344699e-01</td>\n",
       "      <td>8.782006e-01</td>\n",
       "      <td>5.881771e-01</td>\n",
       "      <td>6.043329e-01</td>\n",
       "      <td>7.112553e-01</td>\n",
       "      <td>7.611044e-01</td>\n",
       "      <td>6.259795e-01</td>\n",
       "      <td>6.819343e-01</td>\n",
       "      <td>8.120900e-01</td>\n",
       "      <td>4.617379e-01</td>\n",
       "      <td>0.464908</td>\n",
       "      <td>0.472736</td>\n",
       "    </tr>\n",
       "    <tr>\n",
       "      <th>max</th>\n",
       "      <td>2.571150e+00</td>\n",
       "      <td>2.576113e+00</td>\n",
       "      <td>2.623138e+00</td>\n",
       "      <td>2.571150e+00</td>\n",
       "      <td>2.524702e+00</td>\n",
       "      <td>2.486473e+00</td>\n",
       "      <td>2.602412e+00</td>\n",
       "      <td>3.659998e+00</td>\n",
       "      <td>2.482065e+00</td>\n",
       "      <td>3.696755e+00</td>\n",
       "      <td>2.360126e+00</td>\n",
       "      <td>3.224797e+00</td>\n",
       "      <td>1.949530e+00</td>\n",
       "      <td>2.629433e+00</td>\n",
       "      <td>1.947744</td>\n",
       "      <td>2.944292</td>\n",
       "    </tr>\n",
       "  </tbody>\n",
       "</table>\n",
       "</div>"
      ],
      "text/plain": [
       "               Area    ConvexArea  MinorAxisLength  EquivDiameter  \\\n",
       "count  1.083400e+04  1.083400e+04     1.083400e+04   1.083400e+04   \n",
       "mean  -2.781372e-12 -2.435394e-12     4.642838e-12   2.288612e-12   \n",
       "std    1.000046e+00  1.000046e+00     1.000046e+00   1.000046e+00   \n",
       "min   -3.127594e+00 -3.119487e+00    -3.602541e+00  -3.127594e+00   \n",
       "25%   -6.644276e-01 -6.690428e-01    -6.043729e-01  -6.644276e-01   \n",
       "50%   -3.284877e-02 -3.634326e-02    -6.900763e-04  -3.284876e-02   \n",
       "75%    7.529325e-01  7.573591e-01     6.660152e-01   7.529325e-01   \n",
       "max    2.571150e+00  2.576113e+00     2.623138e+00   2.571150e+00   \n",
       "\n",
       "          Perimeter  MajorAxisLength  AspectRation  ShapeFactor1  \\\n",
       "count  1.083400e+04     1.083400e+04  1.083400e+04  1.083400e+04   \n",
       "mean   4.338800e-13    -1.976101e-13 -1.128054e-16  2.624714e-12   \n",
       "std    1.000046e+00     1.000046e+00  1.000046e+00  1.000046e+00   \n",
       "min   -2.942758e+00    -2.918674e+00 -3.015021e+00 -2.624619e+00   \n",
       "25%   -7.434278e-01    -8.252256e-01 -5.530537e-01 -6.683957e-01   \n",
       "50%   -7.412183e-02    -5.737401e-02 -2.084575e-02 -4.665925e-04   \n",
       "75%    8.344699e-01     8.782006e-01  5.881771e-01  6.043329e-01   \n",
       "max    2.524702e+00     2.486473e+00  2.602412e+00  3.659998e+00   \n",
       "\n",
       "          roundness        Extent  Eccentricity      Solidity  ShapeFactor4  \\\n",
       "count  1.083400e+04  1.083400e+04  1.083400e+04  1.083400e+04  1.083400e+04   \n",
       "mean  -2.124939e-16 -9.181833e-18 -1.574029e-17 -1.479587e-15  8.493196e-17   \n",
       "std    1.000046e+00  1.000046e+00  1.000046e+00  1.000046e+00  1.000046e+00   \n",
       "min   -3.301156e+00 -2.450473e+00 -2.621188e+00 -2.497075e+00 -2.222295e+00   \n",
       "25%   -7.736688e-01 -7.933817e-01 -5.641757e-01 -6.730827e-01 -7.614570e-01   \n",
       "50%    5.693451e-02  6.360315e-02  7.361969e-04  5.933825e-02  1.170032e-01   \n",
       "75%    7.112553e-01  7.611044e-01  6.259795e-01  6.819343e-01  8.120900e-01   \n",
       "max    2.482065e+00  3.696755e+00  2.360126e+00  3.224797e+00  1.949530e+00   \n",
       "\n",
       "        Compactness  ShapeFactor2  ShapeFactor3  \n",
       "count  1.083400e+04  10834.000000  10834.000000  \n",
       "mean  -1.674947e-02      0.017106      0.016402  \n",
       "std    8.661522e-01      0.588283      0.870216  \n",
       "min   -2.207674e+00     -1.126378     -1.999474  \n",
       "25%   -5.382621e-01     -0.535092     -0.527264  \n",
       "50%    7.852758e-16      0.000000      0.000000  \n",
       "75%    4.617379e-01      0.464908      0.472736  \n",
       "max    2.629433e+00      1.947744      2.944292  "
      ]
     },
     "execution_count": 13,
     "metadata": {},
     "output_type": "execute_result"
    }
   ],
   "source": [
    "X_train_transformed.describe() "
   ]
  },
  {
   "cell_type": "code",
   "execution_count": 14,
   "id": "4e84c5af",
   "metadata": {
    "execution": {
     "iopub.execute_input": "2022-05-30T21:29:19.189956Z",
     "iopub.status.busy": "2022-05-30T21:29:19.189070Z",
     "iopub.status.idle": "2022-05-30T21:29:22.691786Z",
     "shell.execute_reply": "2022-05-30T21:29:22.690723Z"
    },
    "papermill": {
     "duration": 3.534321,
     "end_time": "2022-05-30T21:29:22.694361",
     "exception": false,
     "start_time": "2022-05-30T21:29:19.160040",
     "status": "completed"
    },
    "tags": []
   },
   "outputs": [
    {
     "data": {
      "text/plain": [
       "array([[<AxesSubplot:title={'center':'Area'}>,\n",
       "        <AxesSubplot:title={'center':'ConvexArea'}>,\n",
       "        <AxesSubplot:title={'center':'MinorAxisLength'}>,\n",
       "        <AxesSubplot:title={'center':'EquivDiameter'}>],\n",
       "       [<AxesSubplot:title={'center':'Perimeter'}>,\n",
       "        <AxesSubplot:title={'center':'MajorAxisLength'}>,\n",
       "        <AxesSubplot:title={'center':'AspectRation'}>,\n",
       "        <AxesSubplot:title={'center':'ShapeFactor1'}>],\n",
       "       [<AxesSubplot:title={'center':'roundness'}>,\n",
       "        <AxesSubplot:title={'center':'Extent'}>,\n",
       "        <AxesSubplot:title={'center':'Eccentricity'}>,\n",
       "        <AxesSubplot:title={'center':'Solidity'}>],\n",
       "       [<AxesSubplot:title={'center':'ShapeFactor4'}>,\n",
       "        <AxesSubplot:title={'center':'Compactness'}>,\n",
       "        <AxesSubplot:title={'center':'ShapeFactor2'}>,\n",
       "        <AxesSubplot:title={'center':'ShapeFactor3'}>],\n",
       "       [<AxesSubplot:>, <AxesSubplot:>, <AxesSubplot:>, <AxesSubplot:>],\n",
       "       [<AxesSubplot:>, <AxesSubplot:>, <AxesSubplot:>, <AxesSubplot:>],\n",
       "       [<AxesSubplot:>, <AxesSubplot:>, <AxesSubplot:>, <AxesSubplot:>],\n",
       "       [<AxesSubplot:>, <AxesSubplot:>, <AxesSubplot:>, <AxesSubplot:>],\n",
       "       [<AxesSubplot:>, <AxesSubplot:>, <AxesSubplot:>, <AxesSubplot:>],\n",
       "       [<AxesSubplot:>, <AxesSubplot:>, <AxesSubplot:>, <AxesSubplot:>],\n",
       "       [<AxesSubplot:>, <AxesSubplot:>, <AxesSubplot:>, <AxesSubplot:>],\n",
       "       [<AxesSubplot:>, <AxesSubplot:>, <AxesSubplot:>, <AxesSubplot:>],\n",
       "       [<AxesSubplot:>, <AxesSubplot:>, <AxesSubplot:>, <AxesSubplot:>],\n",
       "       [<AxesSubplot:>, <AxesSubplot:>, <AxesSubplot:>, <AxesSubplot:>],\n",
       "       [<AxesSubplot:>, <AxesSubplot:>, <AxesSubplot:>, <AxesSubplot:>]],\n",
       "      dtype=object)"
      ]
     },
     "execution_count": 14,
     "metadata": {},
     "output_type": "execute_result"
    },
    {
     "data": {
      "image/png": "[encoded data removed]",
      "text/plain": [
       "<Figure size 1440x2160 with 60 Axes>"
      ]
     },
     "metadata": {},
     "output_type": "display_data"
    }
   ],
   "source": [
    "X_train_transformed.hist(figsize=(20,30), bins=20, layout=(15,4))"
   ]
  },
  {
   "cell_type": "code",
   "execution_count": 15,
   "id": "23489069",
   "metadata": {
    "execution": {
     "iopub.execute_input": "2022-05-30T21:29:22.754930Z",
     "iopub.status.busy": "2022-05-30T21:29:22.754506Z",
     "iopub.status.idle": "2022-05-30T21:29:22.823718Z",
     "shell.execute_reply": "2022-05-30T21:29:22.822963Z"
    },
    "papermill": {
     "duration": 0.101742,
     "end_time": "2022-05-30T21:29:22.825952",
     "exception": false,
     "start_time": "2022-05-30T21:29:22.724210",
     "status": "completed"
    },
    "tags": []
   },
   "outputs": [
    {
     "data": {
      "text/html": [
       "<div>\n",
       "<style scoped>\n",
       "    .dataframe tbody tr th:only-of-type {\n",
       "        vertical-align: middle;\n",
       "    }\n",
       "\n",
       "    .dataframe tbody tr th {\n",
       "        vertical-align: top;\n",
       "    }\n",
       "\n",
       "    .dataframe thead th {\n",
       "        text-align: right;\n",
       "    }\n",
       "</style>\n",
       "<table border=\"1\" class=\"dataframe\">\n",
       "  <thead>\n",
       "    <tr style=\"text-align: right;\">\n",
       "      <th></th>\n",
       "      <th>Area</th>\n",
       "      <th>ConvexArea</th>\n",
       "      <th>MinorAxisLength</th>\n",
       "      <th>EquivDiameter</th>\n",
       "      <th>Perimeter</th>\n",
       "      <th>MajorAxisLength</th>\n",
       "      <th>AspectRation</th>\n",
       "      <th>ShapeFactor1</th>\n",
       "      <th>roundness</th>\n",
       "      <th>Extent</th>\n",
       "      <th>Eccentricity</th>\n",
       "      <th>Solidity</th>\n",
       "      <th>ShapeFactor4</th>\n",
       "      <th>Compactness</th>\n",
       "      <th>ShapeFactor2</th>\n",
       "      <th>ShapeFactor3</th>\n",
       "    </tr>\n",
       "  </thead>\n",
       "  <tbody>\n",
       "    <tr>\n",
       "      <th>count</th>\n",
       "      <td>1.083400e+04</td>\n",
       "      <td>1.083400e+04</td>\n",
       "      <td>1.083400e+04</td>\n",
       "      <td>1.083400e+04</td>\n",
       "      <td>1.083400e+04</td>\n",
       "      <td>1.083400e+04</td>\n",
       "      <td>1.083400e+04</td>\n",
       "      <td>1.083400e+04</td>\n",
       "      <td>1.083400e+04</td>\n",
       "      <td>1.083400e+04</td>\n",
       "      <td>1.083400e+04</td>\n",
       "      <td>1.083400e+04</td>\n",
       "      <td>1.083400e+04</td>\n",
       "      <td>1.083400e+04</td>\n",
       "      <td>10834.000000</td>\n",
       "      <td>10834.000000</td>\n",
       "    </tr>\n",
       "    <tr>\n",
       "      <th>mean</th>\n",
       "      <td>-2.781372e-12</td>\n",
       "      <td>-2.435394e-12</td>\n",
       "      <td>4.642838e-12</td>\n",
       "      <td>2.288612e-12</td>\n",
       "      <td>4.338800e-13</td>\n",
       "      <td>-1.976101e-13</td>\n",
       "      <td>-1.128054e-16</td>\n",
       "      <td>2.624714e-12</td>\n",
       "      <td>-2.124939e-16</td>\n",
       "      <td>-9.181833e-18</td>\n",
       "      <td>-1.574029e-17</td>\n",
       "      <td>-1.479587e-15</td>\n",
       "      <td>8.493196e-17</td>\n",
       "      <td>-1.674947e-02</td>\n",
       "      <td>0.017106</td>\n",
       "      <td>0.016402</td>\n",
       "    </tr>\n",
       "    <tr>\n",
       "      <th>std</th>\n",
       "      <td>1.000046e+00</td>\n",
       "      <td>1.000046e+00</td>\n",
       "      <td>1.000046e+00</td>\n",
       "      <td>1.000046e+00</td>\n",
       "      <td>1.000046e+00</td>\n",
       "      <td>1.000046e+00</td>\n",
       "      <td>1.000046e+00</td>\n",
       "      <td>1.000046e+00</td>\n",
       "      <td>1.000046e+00</td>\n",
       "      <td>1.000046e+00</td>\n",
       "      <td>1.000046e+00</td>\n",
       "      <td>1.000046e+00</td>\n",
       "      <td>1.000046e+00</td>\n",
       "      <td>8.661522e-01</td>\n",
       "      <td>0.588283</td>\n",
       "      <td>0.870216</td>\n",
       "    </tr>\n",
       "    <tr>\n",
       "      <th>min</th>\n",
       "      <td>-3.127594e+00</td>\n",
       "      <td>-3.119487e+00</td>\n",
       "      <td>-3.602541e+00</td>\n",
       "      <td>-3.127594e+00</td>\n",
       "      <td>-2.942758e+00</td>\n",
       "      <td>-2.918674e+00</td>\n",
       "      <td>-3.015021e+00</td>\n",
       "      <td>-2.624619e+00</td>\n",
       "      <td>-3.301156e+00</td>\n",
       "      <td>-2.450473e+00</td>\n",
       "      <td>-2.621188e+00</td>\n",
       "      <td>-2.497075e+00</td>\n",
       "      <td>-2.222295e+00</td>\n",
       "      <td>-2.207674e+00</td>\n",
       "      <td>-1.126378</td>\n",
       "      <td>-1.999474</td>\n",
       "    </tr>\n",
       "    <tr>\n",
       "      <th>25%</th>\n",
       "      <td>-6.644276e-01</td>\n",
       "      <td>-6.690428e-01</td>\n",
       "      <td>-6.043729e-01</td>\n",
       "      <td>-6.644276e-01</td>\n",
       "      <td>-7.434278e-01</td>\n",
       "      <td>-8.252256e-01</td>\n",
       "      <td>-5.530537e-01</td>\n",
       "      <td>-6.683957e-01</td>\n",
       "      <td>-7.736688e-01</td>\n",
       "      <td>-7.933817e-01</td>\n",
       "      <td>-5.641757e-01</td>\n",
       "      <td>-6.730827e-01</td>\n",
       "      <td>-7.614570e-01</td>\n",
       "      <td>-5.382621e-01</td>\n",
       "      <td>-0.535092</td>\n",
       "      <td>-0.527264</td>\n",
       "    </tr>\n",
       "    <tr>\n",
       "      <th>50%</th>\n",
       "      <td>-3.284877e-02</td>\n",
       "      <td>-3.634326e-02</td>\n",
       "      <td>-6.900763e-04</td>\n",
       "      <td>-3.284876e-02</td>\n",
       "      <td>-7.412183e-02</td>\n",
       "      <td>-5.737401e-02</td>\n",
       "      <td>-2.084575e-02</td>\n",
       "      <td>-4.665925e-04</td>\n",
       "      <td>5.693451e-02</td>\n",
       "      <td>6.360315e-02</td>\n",
       "      <td>7.361969e-04</td>\n",
       "      <td>5.933825e-02</td>\n",
       "      <td>1.170032e-01</td>\n",
       "      <td>7.852758e-16</td>\n",
       "      <td>0.000000</td>\n",
       "      <td>0.000000</td>\n",
       "    </tr>\n",
       "    <tr>\n",
       "      <th>75%</th>\n",
       "      <td>7.529325e-01</td>\n",
       "      <td>7.573591e-01</td>\n",
       "      <td>6.660152e-01</td>\n",
       "      <td>7.529325e-01</td>\n",
       "      <td>8.344699e-01</td>\n",
       "      <td>8.782006e-01</td>\n",
       "      <td>5.881771e-01</td>\n",
       "      <td>6.043329e-01</td>\n",
       "      <td>7.112553e-01</td>\n",
       "      <td>7.611044e-01</td>\n",
       "      <td>6.259795e-01</td>\n",
       "      <td>6.819343e-01</td>\n",
       "      <td>8.120900e-01</td>\n",
       "      <td>4.617379e-01</td>\n",
       "      <td>0.464908</td>\n",
       "      <td>0.472736</td>\n",
       "    </tr>\n",
       "    <tr>\n",
       "      <th>max</th>\n",
       "      <td>2.571150e+00</td>\n",
       "      <td>2.576113e+00</td>\n",
       "      <td>2.623138e+00</td>\n",
       "      <td>2.571150e+00</td>\n",
       "      <td>2.524702e+00</td>\n",
       "      <td>2.486473e+00</td>\n",
       "      <td>2.602412e+00</td>\n",
       "      <td>3.659998e+00</td>\n",
       "      <td>2.482065e+00</td>\n",
       "      <td>3.696755e+00</td>\n",
       "      <td>2.360126e+00</td>\n",
       "      <td>3.224797e+00</td>\n",
       "      <td>1.949530e+00</td>\n",
       "      <td>2.629433e+00</td>\n",
       "      <td>1.947744</td>\n",
       "      <td>2.944292</td>\n",
       "    </tr>\n",
       "  </tbody>\n",
       "</table>\n",
       "</div>"
      ],
      "text/plain": [
       "               Area    ConvexArea  MinorAxisLength  EquivDiameter  \\\n",
       "count  1.083400e+04  1.083400e+04     1.083400e+04   1.083400e+04   \n",
       "mean  -2.781372e-12 -2.435394e-12     4.642838e-12   2.288612e-12   \n",
       "std    1.000046e+00  1.000046e+00     1.000046e+00   1.000046e+00   \n",
       "min   -3.127594e+00 -3.119487e+00    -3.602541e+00  -3.127594e+00   \n",
       "25%   -6.644276e-01 -6.690428e-01    -6.043729e-01  -6.644276e-01   \n",
       "50%   -3.284877e-02 -3.634326e-02    -6.900763e-04  -3.284876e-02   \n",
       "75%    7.529325e-01  7.573591e-01     6.660152e-01   7.529325e-01   \n",
       "max    2.571150e+00  2.576113e+00     2.623138e+00   2.571150e+00   \n",
       "\n",
       "          Perimeter  MajorAxisLength  AspectRation  ShapeFactor1  \\\n",
       "count  1.083400e+04     1.083400e+04  1.083400e+04  1.083400e+04   \n",
       "mean   4.338800e-13    -1.976101e-13 -1.128054e-16  2.624714e-12   \n",
       "std    1.000046e+00     1.000046e+00  1.000046e+00  1.000046e+00   \n",
       "min   -2.942758e+00    -2.918674e+00 -3.015021e+00 -2.624619e+00   \n",
       "25%   -7.434278e-01    -8.252256e-01 -5.530537e-01 -6.683957e-01   \n",
       "50%   -7.412183e-02    -5.737401e-02 -2.084575e-02 -4.665925e-04   \n",
       "75%    8.344699e-01     8.782006e-01  5.881771e-01  6.043329e-01   \n",
       "max    2.524702e+00     2.486473e+00  2.602412e+00  3.659998e+00   \n",
       "\n",
       "          roundness        Extent  Eccentricity      Solidity  ShapeFactor4  \\\n",
       "count  1.083400e+04  1.083400e+04  1.083400e+04  1.083400e+04  1.083400e+04   \n",
       "mean  -2.124939e-16 -9.181833e-18 -1.574029e-17 -1.479587e-15  8.493196e-17   \n",
       "std    1.000046e+00  1.000046e+00  1.000046e+00  1.000046e+00  1.000046e+00   \n",
       "min   -3.301156e+00 -2.450473e+00 -2.621188e+00 -2.497075e+00 -2.222295e+00   \n",
       "25%   -7.736688e-01 -7.933817e-01 -5.641757e-01 -6.730827e-01 -7.614570e-01   \n",
       "50%    5.693451e-02  6.360315e-02  7.361969e-04  5.933825e-02  1.170032e-01   \n",
       "75%    7.112553e-01  7.611044e-01  6.259795e-01  6.819343e-01  8.120900e-01   \n",
       "max    2.482065e+00  3.696755e+00  2.360126e+00  3.224797e+00  1.949530e+00   \n",
       "\n",
       "        Compactness  ShapeFactor2  ShapeFactor3  \n",
       "count  1.083400e+04  10834.000000  10834.000000  \n",
       "mean  -1.674947e-02      0.017106      0.016402  \n",
       "std    8.661522e-01      0.588283      0.870216  \n",
       "min   -2.207674e+00     -1.126378     -1.999474  \n",
       "25%   -5.382621e-01     -0.535092     -0.527264  \n",
       "50%    7.852758e-16      0.000000      0.000000  \n",
       "75%    4.617379e-01      0.464908      0.472736  \n",
       "max    2.629433e+00      1.947744      2.944292  "
      ]
     },
     "execution_count": 15,
     "metadata": {},
     "output_type": "execute_result"
    }
   ],
   "source": [
    "X_train_transformed.describe()"
   ]
  },
  {
   "cell_type": "code",
   "execution_count": 16,
   "id": "090b4fa6",
   "metadata": {
    "execution": {
     "iopub.execute_input": "2022-05-30T21:29:22.885538Z",
     "iopub.status.busy": "2022-05-30T21:29:22.884864Z",
     "iopub.status.idle": "2022-05-30T21:29:22.897757Z",
     "shell.execute_reply": "2022-05-30T21:29:22.896981Z"
    },
    "papermill": {
     "duration": 0.045336,
     "end_time": "2022-05-30T21:29:22.900237",
     "exception": false,
     "start_time": "2022-05-30T21:29:22.854901",
     "status": "completed"
    },
    "tags": []
   },
   "outputs": [
    {
     "name": "stdout",
     "output_type": "stream",
     "text": [
      "<class 'pandas.core.frame.DataFrame'>\n",
      "RangeIndex: 10834 entries, 0 to 10833\n",
      "Data columns (total 16 columns):\n",
      " #   Column           Non-Null Count  Dtype  \n",
      "---  ------           --------------  -----  \n",
      " 0   Area             10834 non-null  float64\n",
      " 1   ConvexArea       10834 non-null  float64\n",
      " 2   MinorAxisLength  10834 non-null  float64\n",
      " 3   EquivDiameter    10834 non-null  float64\n",
      " 4   Perimeter        10834 non-null  float64\n",
      " 5   MajorAxisLength  10834 non-null  float64\n",
      " 6   AspectRation     10834 non-null  float64\n",
      " 7   ShapeFactor1     10834 non-null  float64\n",
      " 8   roundness        10834 non-null  float64\n",
      " 9   Extent           10834 non-null  float64\n",
      " 10  Eccentricity     10834 non-null  float64\n",
      " 11  Solidity         10834 non-null  float64\n",
      " 12  ShapeFactor4     10834 non-null  float64\n",
      " 13  Compactness      10834 non-null  float64\n",
      " 14  ShapeFactor2     10834 non-null  float64\n",
      " 15  ShapeFactor3     10834 non-null  float64\n",
      "dtypes: float64(16)\n",
      "memory usage: 1.3 MB\n"
     ]
    }
   ],
   "source": [
    "X_train_transformed.info()"
   ]
  },
  {
   "cell_type": "code",
   "execution_count": 17,
   "id": "2fd9c36d",
   "metadata": {
    "execution": {
     "iopub.execute_input": "2022-05-30T21:29:22.962248Z",
     "iopub.status.busy": "2022-05-30T21:29:22.961551Z",
     "iopub.status.idle": "2022-05-30T21:29:22.994467Z",
     "shell.execute_reply": "2022-05-30T21:29:22.993491Z"
    },
    "papermill": {
     "duration": 0.06704,
     "end_time": "2022-05-30T21:29:22.996607",
     "exception": false,
     "start_time": "2022-05-30T21:29:22.929567",
     "status": "completed"
    },
    "tags": []
   },
   "outputs": [
    {
     "data": {
      "text/plain": [
       "Series([], dtype: bool)"
      ]
     },
     "execution_count": 17,
     "metadata": {},
     "output_type": "execute_result"
    }
   ],
   "source": [
    "X_train_transformed.duplicated()[(X_train_transformed.duplicated() == True)]"
   ]
  },
  {
   "cell_type": "code",
   "execution_count": 18,
   "id": "3799cbb3",
   "metadata": {
    "execution": {
     "iopub.execute_input": "2022-05-30T21:29:23.057621Z",
     "iopub.status.busy": "2022-05-30T21:29:23.056925Z",
     "iopub.status.idle": "2022-05-30T21:29:23.063000Z",
     "shell.execute_reply": "2022-05-30T21:29:23.061878Z"
    },
    "papermill": {
     "duration": 0.039025,
     "end_time": "2022-05-30T21:29:23.065676",
     "exception": false,
     "start_time": "2022-05-30T21:29:23.026651",
     "status": "completed"
    },
    "tags": []
   },
   "outputs": [],
   "source": [
    "train_y = train_data[['y']]"
   ]
  },
  {
   "cell_type": "code",
   "execution_count": 19,
   "id": "0892b49e",
   "metadata": {
    "execution": {
     "iopub.execute_input": "2022-05-30T21:29:23.128129Z",
     "iopub.status.busy": "2022-05-30T21:29:23.127636Z",
     "iopub.status.idle": "2022-05-30T21:29:23.138946Z",
     "shell.execute_reply": "2022-05-30T21:29:23.137962Z"
    },
    "papermill": {
     "duration": 0.045385,
     "end_time": "2022-05-30T21:29:23.140981",
     "exception": false,
     "start_time": "2022-05-30T21:29:23.095596",
     "status": "completed"
    },
    "tags": []
   },
   "outputs": [
    {
     "data": {
      "text/plain": [
       "y       \n",
       "DERMASON    2837\n",
       "SIRA        2109\n",
       "SEKER       1621\n",
       "HOROZ       1488\n",
       "CALI        1304\n",
       "BARBUNYA    1057\n",
       "BOMBAY       418\n",
       "dtype: int64"
      ]
     },
     "execution_count": 19,
     "metadata": {},
     "output_type": "execute_result"
    }
   ],
   "source": [
    "train_y.value_counts()"
   ]
  },
  {
   "cell_type": "code",
   "execution_count": 20,
   "id": "7a7821d8",
   "metadata": {
    "execution": {
     "iopub.execute_input": "2022-05-30T21:29:23.203760Z",
     "iopub.status.busy": "2022-05-30T21:29:23.203152Z",
     "iopub.status.idle": "2022-05-30T21:29:23.221495Z",
     "shell.execute_reply": "2022-05-30T21:29:23.219996Z"
    },
    "papermill": {
     "duration": 0.052077,
     "end_time": "2022-05-30T21:29:23.224071",
     "exception": false,
     "start_time": "2022-05-30T21:29:23.171994",
     "status": "completed"
    },
    "scrolled": true,
    "tags": []
   },
   "outputs": [
    {
     "name": "stderr",
     "output_type": "stream",
     "text": [
      "/opt/conda/lib/python3.7/site-packages/sklearn/preprocessing/_label.py:115: DataConversionWarning: A column-vector y was passed when a 1d array was expected. Please change the shape of y to (n_samples, ), for example using ravel().\n",
      "  y = column_or_1d(y, warn=True)\n"
     ]
    },
    {
     "data": {
      "text/plain": [
       "3    2837\n",
       "6    2109\n",
       "5    1621\n",
       "4    1488\n",
       "2    1304\n",
       "0    1057\n",
       "1     418\n",
       "dtype: int64"
      ]
     },
     "execution_count": 20,
     "metadata": {},
     "output_type": "execute_result"
    }
   ],
   "source": [
    "label_encoder = preprocessing.LabelEncoder()\n",
    "#reshape the 1-D country array to 2-D as fit_transform expects 2-D and finally fit the object \n",
    "y_encoded_train = label_encoder.fit_transform(train_y)\n",
    "y_encoded_train = pd.DataFrame(y_encoded_train)\n",
    "y_encoded_train.value_counts()"
   ]
  },
  {
   "cell_type": "code",
   "execution_count": 21,
   "id": "09a8258a",
   "metadata": {
    "execution": {
     "iopub.execute_input": "2022-05-30T21:29:23.284700Z",
     "iopub.status.busy": "2022-05-30T21:29:23.284259Z",
     "iopub.status.idle": "2022-05-30T21:29:23.340580Z",
     "shell.execute_reply": "2022-05-30T21:29:23.338734Z"
    },
    "papermill": {
     "duration": 0.090478,
     "end_time": "2022-05-30T21:29:23.344253",
     "exception": false,
     "start_time": "2022-05-30T21:29:23.253775",
     "status": "completed"
    },
    "tags": []
   },
   "outputs": [
    {
     "name": "stdout",
     "output_type": "stream",
     "text": [
      "[5.92190671e-01 2.45028701e-01 6.98149073e-02 5.78174292e-02\n",
      " 2.71328915e-02 6.58644905e-03 9.14119449e-04 3.71241219e-04\n",
      " 5.38468962e-05 4.69942208e-05 3.24166474e-05 8.49088467e-06\n",
      " 1.05221133e-06 4.68933647e-07 3.20850041e-07 4.00279631e-20]\n"
     ]
    }
   ],
   "source": [
    "pca = PCA().fit(X_train_transformed)\n",
    "X_train_transformed = pca.transform(X_train_transformed)\n",
    "print(pca.explained_variance_ratio_)"
   ]
  },
  {
   "cell_type": "code",
   "execution_count": 22,
   "id": "097e1c4a",
   "metadata": {
    "execution": {
     "iopub.execute_input": "2022-05-30T21:29:23.478504Z",
     "iopub.status.busy": "2022-05-30T21:29:23.478051Z",
     "iopub.status.idle": "2022-05-30T21:29:23.483209Z",
     "shell.execute_reply": "2022-05-30T21:29:23.482158Z"
    },
    "papermill": {
     "duration": 0.046261,
     "end_time": "2022-05-30T21:29:23.485489",
     "exception": false,
     "start_time": "2022-05-30T21:29:23.439228",
     "status": "completed"
    },
    "tags": []
   },
   "outputs": [],
   "source": [
    "X_train_transformed = pd.DataFrame(X_train_transformed[:,:15])"
   ]
  },
  {
   "cell_type": "code",
   "execution_count": 23,
   "id": "d33015b1",
   "metadata": {
    "execution": {
     "iopub.execute_input": "2022-05-30T21:29:23.548431Z",
     "iopub.status.busy": "2022-05-30T21:29:23.547987Z",
     "iopub.status.idle": "2022-05-30T21:29:23.575113Z",
     "shell.execute_reply": "2022-05-30T21:29:23.574197Z"
    },
    "papermill": {
     "duration": 0.06107,
     "end_time": "2022-05-30T21:29:23.577248",
     "exception": false,
     "start_time": "2022-05-30T21:29:23.516178",
     "status": "completed"
    },
    "tags": []
   },
   "outputs": [
    {
     "data": {
      "text/html": [
       "<div>\n",
       "<style scoped>\n",
       "    .dataframe tbody tr th:only-of-type {\n",
       "        vertical-align: middle;\n",
       "    }\n",
       "\n",
       "    .dataframe tbody tr th {\n",
       "        vertical-align: top;\n",
       "    }\n",
       "\n",
       "    .dataframe thead th {\n",
       "        text-align: right;\n",
       "    }\n",
       "</style>\n",
       "<table border=\"1\" class=\"dataframe\">\n",
       "  <thead>\n",
       "    <tr style=\"text-align: right;\">\n",
       "      <th></th>\n",
       "      <th>0</th>\n",
       "      <th>1</th>\n",
       "      <th>2</th>\n",
       "      <th>3</th>\n",
       "      <th>4</th>\n",
       "      <th>5</th>\n",
       "      <th>6</th>\n",
       "      <th>7</th>\n",
       "      <th>8</th>\n",
       "      <th>9</th>\n",
       "      <th>10</th>\n",
       "      <th>11</th>\n",
       "      <th>12</th>\n",
       "      <th>13</th>\n",
       "      <th>14</th>\n",
       "    </tr>\n",
       "  </thead>\n",
       "  <tbody>\n",
       "    <tr>\n",
       "      <th>0</th>\n",
       "      <td>-3.130611</td>\n",
       "      <td>-2.514651</td>\n",
       "      <td>-0.871964</td>\n",
       "      <td>-2.278586</td>\n",
       "      <td>1.485130</td>\n",
       "      <td>-0.302092</td>\n",
       "      <td>-0.103509</td>\n",
       "      <td>0.093677</td>\n",
       "      <td>0.021888</td>\n",
       "      <td>-0.030558</td>\n",
       "      <td>-0.012789</td>\n",
       "      <td>0.001787</td>\n",
       "      <td>-0.000761</td>\n",
       "      <td>-0.000287</td>\n",
       "      <td>0.003406</td>\n",
       "    </tr>\n",
       "    <tr>\n",
       "      <th>1</th>\n",
       "      <td>2.673735</td>\n",
       "      <td>3.355934</td>\n",
       "      <td>-1.420872</td>\n",
       "      <td>-0.786132</td>\n",
       "      <td>-1.344043</td>\n",
       "      <td>0.411875</td>\n",
       "      <td>0.089358</td>\n",
       "      <td>0.071130</td>\n",
       "      <td>-0.009699</td>\n",
       "      <td>-0.025564</td>\n",
       "      <td>0.024794</td>\n",
       "      <td>-0.001831</td>\n",
       "      <td>-0.000136</td>\n",
       "      <td>0.003323</td>\n",
       "      <td>0.001614</td>\n",
       "    </tr>\n",
       "    <tr>\n",
       "      <th>2</th>\n",
       "      <td>3.384680</td>\n",
       "      <td>-0.321911</td>\n",
       "      <td>-0.213683</td>\n",
       "      <td>1.106841</td>\n",
       "      <td>0.226526</td>\n",
       "      <td>-0.351137</td>\n",
       "      <td>-0.036755</td>\n",
       "      <td>-0.022813</td>\n",
       "      <td>0.002818</td>\n",
       "      <td>-0.016667</td>\n",
       "      <td>-0.006034</td>\n",
       "      <td>-0.004494</td>\n",
       "      <td>-0.001334</td>\n",
       "      <td>0.000387</td>\n",
       "      <td>0.000322</td>\n",
       "    </tr>\n",
       "    <tr>\n",
       "      <th>3</th>\n",
       "      <td>1.862278</td>\n",
       "      <td>0.363567</td>\n",
       "      <td>-0.438848</td>\n",
       "      <td>-0.308771</td>\n",
       "      <td>1.012302</td>\n",
       "      <td>-0.285340</td>\n",
       "      <td>-0.025953</td>\n",
       "      <td>-0.048971</td>\n",
       "      <td>-0.010534</td>\n",
       "      <td>-0.015527</td>\n",
       "      <td>0.008896</td>\n",
       "      <td>0.007205</td>\n",
       "      <td>0.000749</td>\n",
       "      <td>-0.001935</td>\n",
       "      <td>0.000853</td>\n",
       "    </tr>\n",
       "    <tr>\n",
       "      <th>4</th>\n",
       "      <td>0.792620</td>\n",
       "      <td>0.365085</td>\n",
       "      <td>0.446245</td>\n",
       "      <td>-0.590895</td>\n",
       "      <td>-0.107892</td>\n",
       "      <td>0.150153</td>\n",
       "      <td>-0.010033</td>\n",
       "      <td>-0.050658</td>\n",
       "      <td>-0.022386</td>\n",
       "      <td>-0.011161</td>\n",
       "      <td>0.003560</td>\n",
       "      <td>-0.005345</td>\n",
       "      <td>0.000680</td>\n",
       "      <td>-0.000656</td>\n",
       "      <td>-0.000186</td>\n",
       "    </tr>\n",
       "    <tr>\n",
       "      <th>...</th>\n",
       "      <td>...</td>\n",
       "      <td>...</td>\n",
       "      <td>...</td>\n",
       "      <td>...</td>\n",
       "      <td>...</td>\n",
       "      <td>...</td>\n",
       "      <td>...</td>\n",
       "      <td>...</td>\n",
       "      <td>...</td>\n",
       "      <td>...</td>\n",
       "      <td>...</td>\n",
       "      <td>...</td>\n",
       "      <td>...</td>\n",
       "      <td>...</td>\n",
       "      <td>...</td>\n",
       "    </tr>\n",
       "    <tr>\n",
       "      <th>10829</th>\n",
       "      <td>2.709300</td>\n",
       "      <td>1.550427</td>\n",
       "      <td>0.286070</td>\n",
       "      <td>-0.030713</td>\n",
       "      <td>-0.017381</td>\n",
       "      <td>0.152362</td>\n",
       "      <td>-0.057757</td>\n",
       "      <td>0.015064</td>\n",
       "      <td>-0.011664</td>\n",
       "      <td>-0.032399</td>\n",
       "      <td>-0.007922</td>\n",
       "      <td>-0.003881</td>\n",
       "      <td>0.001871</td>\n",
       "      <td>-0.000476</td>\n",
       "      <td>-0.000944</td>\n",
       "    </tr>\n",
       "    <tr>\n",
       "      <th>10830</th>\n",
       "      <td>2.712862</td>\n",
       "      <td>-1.266799</td>\n",
       "      <td>0.298548</td>\n",
       "      <td>-0.378634</td>\n",
       "      <td>0.169819</td>\n",
       "      <td>-0.229146</td>\n",
       "      <td>0.013928</td>\n",
       "      <td>-0.049081</td>\n",
       "      <td>0.003070</td>\n",
       "      <td>0.001596</td>\n",
       "      <td>-0.002963</td>\n",
       "      <td>-0.002364</td>\n",
       "      <td>-0.000698</td>\n",
       "      <td>0.000243</td>\n",
       "      <td>0.001161</td>\n",
       "    </tr>\n",
       "    <tr>\n",
       "      <th>10831</th>\n",
       "      <td>-3.539610</td>\n",
       "      <td>0.861748</td>\n",
       "      <td>-1.767937</td>\n",
       "      <td>-0.188115</td>\n",
       "      <td>-0.474879</td>\n",
       "      <td>0.244370</td>\n",
       "      <td>-0.156359</td>\n",
       "      <td>-0.060217</td>\n",
       "      <td>0.021551</td>\n",
       "      <td>0.015040</td>\n",
       "      <td>0.004708</td>\n",
       "      <td>0.001453</td>\n",
       "      <td>-0.002350</td>\n",
       "      <td>0.003702</td>\n",
       "      <td>-0.000892</td>\n",
       "    </tr>\n",
       "    <tr>\n",
       "      <th>10832</th>\n",
       "      <td>-0.489641</td>\n",
       "      <td>-0.044222</td>\n",
       "      <td>0.486397</td>\n",
       "      <td>-1.237707</td>\n",
       "      <td>-0.705870</td>\n",
       "      <td>-0.004758</td>\n",
       "      <td>0.005489</td>\n",
       "      <td>-0.047917</td>\n",
       "      <td>-0.022516</td>\n",
       "      <td>0.008479</td>\n",
       "      <td>0.011787</td>\n",
       "      <td>-0.007183</td>\n",
       "      <td>0.000174</td>\n",
       "      <td>-0.000027</td>\n",
       "      <td>-0.000564</td>\n",
       "    </tr>\n",
       "    <tr>\n",
       "      <th>10833</th>\n",
       "      <td>5.284366</td>\n",
       "      <td>0.168463</td>\n",
       "      <td>-0.161980</td>\n",
       "      <td>0.073121</td>\n",
       "      <td>0.458272</td>\n",
       "      <td>-0.020836</td>\n",
       "      <td>-0.203845</td>\n",
       "      <td>-0.033056</td>\n",
       "      <td>0.043629</td>\n",
       "      <td>-0.035663</td>\n",
       "      <td>-0.027139</td>\n",
       "      <td>0.006639</td>\n",
       "      <td>0.004217</td>\n",
       "      <td>-0.001720</td>\n",
       "      <td>-0.001271</td>\n",
       "    </tr>\n",
       "  </tbody>\n",
       "</table>\n",
       "<p>10834 rows × 15 columns</p>\n",
       "</div>"
      ],
      "text/plain": [
       "             0         1         2         3         4         5         6   \\\n",
       "0     -3.130611 -2.514651 -0.871964 -2.278586  1.485130 -0.302092 -0.103509   \n",
       "1      2.673735  3.355934 -1.420872 -0.786132 -1.344043  0.411875  0.089358   \n",
       "2      3.384680 -0.321911 -0.213683  1.106841  0.226526 -0.351137 -0.036755   \n",
       "3      1.862278  0.363567 -0.438848 -0.308771  1.012302 -0.285340 -0.025953   \n",
       "4      0.792620  0.365085  0.446245 -0.590895 -0.107892  0.150153 -0.010033   \n",
       "...         ...       ...       ...       ...       ...       ...       ...   \n",
       "10829  2.709300  1.550427  0.286070 -0.030713 -0.017381  0.152362 -0.057757   \n",
       "10830  2.712862 -1.266799  0.298548 -0.378634  0.169819 -0.229146  0.013928   \n",
       "10831 -3.539610  0.861748 -1.767937 -0.188115 -0.474879  0.244370 -0.156359   \n",
       "10832 -0.489641 -0.044222  0.486397 -1.237707 -0.705870 -0.004758  0.005489   \n",
       "10833  5.284366  0.168463 -0.161980  0.073121  0.458272 -0.020836 -0.203845   \n",
       "\n",
       "             7         8         9         10        11        12        13  \\\n",
       "0      0.093677  0.021888 -0.030558 -0.012789  0.001787 -0.000761 -0.000287   \n",
       "1      0.071130 -0.009699 -0.025564  0.024794 -0.001831 -0.000136  0.003323   \n",
       "2     -0.022813  0.002818 -0.016667 -0.006034 -0.004494 -0.001334  0.000387   \n",
       "3     -0.048971 -0.010534 -0.015527  0.008896  0.007205  0.000749 -0.001935   \n",
       "4     -0.050658 -0.022386 -0.011161  0.003560 -0.005345  0.000680 -0.000656   \n",
       "...         ...       ...       ...       ...       ...       ...       ...   \n",
       "10829  0.015064 -0.011664 -0.032399 -0.007922 -0.003881  0.001871 -0.000476   \n",
       "10830 -0.049081  0.003070  0.001596 -0.002963 -0.002364 -0.000698  0.000243   \n",
       "10831 -0.060217  0.021551  0.015040  0.004708  0.001453 -0.002350  0.003702   \n",
       "10832 -0.047917 -0.022516  0.008479  0.011787 -0.007183  0.000174 -0.000027   \n",
       "10833 -0.033056  0.043629 -0.035663 -0.027139  0.006639  0.004217 -0.001720   \n",
       "\n",
       "             14  \n",
       "0      0.003406  \n",
       "1      0.001614  \n",
       "2      0.000322  \n",
       "3      0.000853  \n",
       "4     -0.000186  \n",
       "...         ...  \n",
       "10829 -0.000944  \n",
       "10830  0.001161  \n",
       "10831 -0.000892  \n",
       "10832 -0.000564  \n",
       "10833 -0.001271  \n",
       "\n",
       "[10834 rows x 15 columns]"
      ]
     },
     "execution_count": 23,
     "metadata": {},
     "output_type": "execute_result"
    }
   ],
   "source": [
    "X_train_transformed"
   ]
  },
  {
   "cell_type": "code",
   "execution_count": 24,
   "id": "2aa9a0b0",
   "metadata": {
    "execution": {
     "iopub.execute_input": "2022-05-30T21:29:23.640268Z",
     "iopub.status.busy": "2022-05-30T21:29:23.639067Z",
     "iopub.status.idle": "2022-05-30T21:29:23.643650Z",
     "shell.execute_reply": "2022-05-30T21:29:23.642933Z"
    },
    "papermill": {
     "duration": 0.038442,
     "end_time": "2022-05-30T21:29:23.645732",
     "exception": false,
     "start_time": "2022-05-30T21:29:23.607290",
     "status": "completed"
    },
    "tags": []
   },
   "outputs": [],
   "source": [
    "X_train = X_train_transformed\n",
    "y_train = y_encoded_train"
   ]
  },
  {
   "cell_type": "code",
   "execution_count": 25,
   "id": "d811ca7e",
   "metadata": {
    "execution": {
     "iopub.execute_input": "2022-05-30T21:29:23.707199Z",
     "iopub.status.busy": "2022-05-30T21:29:23.706316Z",
     "iopub.status.idle": "2022-05-30T21:29:23.752332Z",
     "shell.execute_reply": "2022-05-30T21:29:23.751657Z"
    },
    "papermill": {
     "duration": 0.079002,
     "end_time": "2022-05-30T21:29:23.754302",
     "exception": false,
     "start_time": "2022-05-30T21:29:23.675300",
     "status": "completed"
    },
    "tags": []
   },
   "outputs": [
    {
     "data": {
      "text/html": [
       "<div>\n",
       "<style scoped>\n",
       "    .dataframe tbody tr th:only-of-type {\n",
       "        vertical-align: middle;\n",
       "    }\n",
       "\n",
       "    .dataframe tbody tr th {\n",
       "        vertical-align: top;\n",
       "    }\n",
       "\n",
       "    .dataframe thead th {\n",
       "        text-align: right;\n",
       "    }\n",
       "</style>\n",
       "<table border=\"1\" class=\"dataframe\">\n",
       "  <thead>\n",
       "    <tr style=\"text-align: right;\">\n",
       "      <th></th>\n",
       "      <th>ID</th>\n",
       "      <th>Area</th>\n",
       "      <th>Perimeter</th>\n",
       "      <th>MajorAxisLength</th>\n",
       "      <th>MinorAxisLength</th>\n",
       "      <th>AspectRation</th>\n",
       "      <th>Eccentricity</th>\n",
       "      <th>ConvexArea</th>\n",
       "      <th>EquivDiameter</th>\n",
       "      <th>Extent</th>\n",
       "      <th>Solidity</th>\n",
       "      <th>roundness</th>\n",
       "      <th>Compactness</th>\n",
       "      <th>ShapeFactor1</th>\n",
       "      <th>ShapeFactor2</th>\n",
       "      <th>ShapeFactor3</th>\n",
       "      <th>ShapeFactor4</th>\n",
       "    </tr>\n",
       "  </thead>\n",
       "  <tbody>\n",
       "    <tr>\n",
       "      <th>0</th>\n",
       "      <td>10834</td>\n",
       "      <td>57659</td>\n",
       "      <td>955.434</td>\n",
       "      <td>387.757607</td>\n",
       "      <td>196.625782</td>\n",
       "      <td>1.972059</td>\n",
       "      <td>0.861896</td>\n",
       "      <td>60188</td>\n",
       "      <td>270.949661</td>\n",
       "      <td>0.620790</td>\n",
       "      <td>0.957982</td>\n",
       "      <td>0.793735</td>\n",
       "      <td>0.698760</td>\n",
       "      <td>0.006725</td>\n",
       "      <td>0.000989</td>\n",
       "      <td>0.488266</td>\n",
       "      <td>0.962889</td>\n",
       "    </tr>\n",
       "    <tr>\n",
       "      <th>1</th>\n",
       "      <td>10835</td>\n",
       "      <td>28772</td>\n",
       "      <td>630.362</td>\n",
       "      <td>229.990785</td>\n",
       "      <td>159.609367</td>\n",
       "      <td>1.440960</td>\n",
       "      <td>0.719993</td>\n",
       "      <td>29127</td>\n",
       "      <td>191.399185</td>\n",
       "      <td>0.767458</td>\n",
       "      <td>0.987812</td>\n",
       "      <td>0.909913</td>\n",
       "      <td>0.832204</td>\n",
       "      <td>0.007994</td>\n",
       "      <td>0.002365</td>\n",
       "      <td>0.692563</td>\n",
       "      <td>0.997956</td>\n",
       "    </tr>\n",
       "    <tr>\n",
       "      <th>2</th>\n",
       "      <td>10836</td>\n",
       "      <td>54677</td>\n",
       "      <td>911.022</td>\n",
       "      <td>308.853903</td>\n",
       "      <td>226.398571</td>\n",
       "      <td>1.364204</td>\n",
       "      <td>0.680198</td>\n",
       "      <td>55858</td>\n",
       "      <td>263.850182</td>\n",
       "      <td>0.753013</td>\n",
       "      <td>0.978857</td>\n",
       "      <td>0.827860</td>\n",
       "      <td>0.854288</td>\n",
       "      <td>0.005649</td>\n",
       "      <td>0.001856</td>\n",
       "      <td>0.729808</td>\n",
       "      <td>0.995607</td>\n",
       "    </tr>\n",
       "    <tr>\n",
       "      <th>3</th>\n",
       "      <td>10837</td>\n",
       "      <td>24827</td>\n",
       "      <td>578.304</td>\n",
       "      <td>214.192699</td>\n",
       "      <td>147.788172</td>\n",
       "      <td>1.449322</td>\n",
       "      <td>0.723831</td>\n",
       "      <td>25121</td>\n",
       "      <td>177.794033</td>\n",
       "      <td>0.716508</td>\n",
       "      <td>0.988297</td>\n",
       "      <td>0.932871</td>\n",
       "      <td>0.830066</td>\n",
       "      <td>0.008627</td>\n",
       "      <td>0.002526</td>\n",
       "      <td>0.689009</td>\n",
       "      <td>0.998596</td>\n",
       "    </tr>\n",
       "    <tr>\n",
       "      <th>4</th>\n",
       "      <td>10838</td>\n",
       "      <td>141850</td>\n",
       "      <td>1432.847</td>\n",
       "      <td>524.923471</td>\n",
       "      <td>346.910920</td>\n",
       "      <td>1.513136</td>\n",
       "      <td>0.750492</td>\n",
       "      <td>143680</td>\n",
       "      <td>424.981211</td>\n",
       "      <td>0.804617</td>\n",
       "      <td>0.987263</td>\n",
       "      <td>0.868240</td>\n",
       "      <td>0.809606</td>\n",
       "      <td>0.003701</td>\n",
       "      <td>0.000981</td>\n",
       "      <td>0.655462</td>\n",
       "      <td>0.991803</td>\n",
       "    </tr>\n",
       "  </tbody>\n",
       "</table>\n",
       "</div>"
      ],
      "text/plain": [
       "      ID    Area  Perimeter  MajorAxisLength  MinorAxisLength  AspectRation  \\\n",
       "0  10834   57659    955.434       387.757607       196.625782      1.972059   \n",
       "1  10835   28772    630.362       229.990785       159.609367      1.440960   \n",
       "2  10836   54677    911.022       308.853903       226.398571      1.364204   \n",
       "3  10837   24827    578.304       214.192699       147.788172      1.449322   \n",
       "4  10838  141850   1432.847       524.923471       346.910920      1.513136   \n",
       "\n",
       "   Eccentricity  ConvexArea  EquivDiameter    Extent  Solidity  roundness  \\\n",
       "0      0.861896       60188     270.949661  0.620790  0.957982   0.793735   \n",
       "1      0.719993       29127     191.399185  0.767458  0.987812   0.909913   \n",
       "2      0.680198       55858     263.850182  0.753013  0.978857   0.827860   \n",
       "3      0.723831       25121     177.794033  0.716508  0.988297   0.932871   \n",
       "4      0.750492      143680     424.981211  0.804617  0.987263   0.868240   \n",
       "\n",
       "   Compactness  ShapeFactor1  ShapeFactor2  ShapeFactor3  ShapeFactor4  \n",
       "0     0.698760      0.006725      0.000989      0.488266      0.962889  \n",
       "1     0.832204      0.007994      0.002365      0.692563      0.997956  \n",
       "2     0.854288      0.005649      0.001856      0.729808      0.995607  \n",
       "3     0.830066      0.008627      0.002526      0.689009      0.998596  \n",
       "4     0.809606      0.003701      0.000981      0.655462      0.991803  "
      ]
     },
     "execution_count": 25,
     "metadata": {},
     "output_type": "execute_result"
    }
   ],
   "source": [
    "test_data = pd.read_csv('../input/dry-beans-classification-iti-ai-pro-intake02/test.csv')\n",
    "test_data.head()"
   ]
  },
  {
   "cell_type": "code",
   "execution_count": 26,
   "id": "ef89144d",
   "metadata": {
    "execution": {
     "iopub.execute_input": "2022-05-30T21:29:23.817648Z",
     "iopub.status.busy": "2022-05-30T21:29:23.816962Z",
     "iopub.status.idle": "2022-05-30T21:29:23.829656Z",
     "shell.execute_reply": "2022-05-30T21:29:23.828857Z"
    },
    "papermill": {
     "duration": 0.047153,
     "end_time": "2022-05-30T21:29:23.832637",
     "exception": false,
     "start_time": "2022-05-30T21:29:23.785484",
     "status": "completed"
    },
    "tags": []
   },
   "outputs": [
    {
     "name": "stdout",
     "output_type": "stream",
     "text": [
      "<class 'pandas.core.frame.DataFrame'>\n",
      "RangeIndex: 2709 entries, 0 to 2708\n",
      "Data columns (total 17 columns):\n",
      " #   Column           Non-Null Count  Dtype  \n",
      "---  ------           --------------  -----  \n",
      " 0   ID               2709 non-null   int64  \n",
      " 1   Area             2709 non-null   int64  \n",
      " 2   Perimeter        2709 non-null   float64\n",
      " 3   MajorAxisLength  2709 non-null   float64\n",
      " 4   MinorAxisLength  2709 non-null   float64\n",
      " 5   AspectRation     2709 non-null   float64\n",
      " 6   Eccentricity     2709 non-null   float64\n",
      " 7   ConvexArea       2709 non-null   int64  \n",
      " 8   EquivDiameter    2709 non-null   float64\n",
      " 9   Extent           2709 non-null   float64\n",
      " 10  Solidity         2709 non-null   float64\n",
      " 11  roundness        2709 non-null   float64\n",
      " 12  Compactness      2709 non-null   float64\n",
      " 13  ShapeFactor1     2709 non-null   float64\n",
      " 14  ShapeFactor2     2709 non-null   float64\n",
      " 15  ShapeFactor3     2709 non-null   float64\n",
      " 16  ShapeFactor4     2709 non-null   float64\n",
      "dtypes: float64(14), int64(3)\n",
      "memory usage: 359.9 KB\n"
     ]
    }
   ],
   "source": [
    "test_data.info()"
   ]
  },
  {
   "cell_type": "code",
   "execution_count": 27,
   "id": "ebb4bbbd",
   "metadata": {
    "execution": {
     "iopub.execute_input": "2022-05-30T21:29:23.898282Z",
     "iopub.status.busy": "2022-05-30T21:29:23.897372Z",
     "iopub.status.idle": "2022-05-30T21:29:23.903082Z",
     "shell.execute_reply": "2022-05-30T21:29:23.902265Z"
    },
    "papermill": {
     "duration": 0.041982,
     "end_time": "2022-05-30T21:29:23.905047",
     "exception": false,
     "start_time": "2022-05-30T21:29:23.863065",
     "status": "completed"
    },
    "tags": []
   },
   "outputs": [],
   "source": [
    "targeted_features_test = list(test_data.columns) \n",
    "targeted_features_test.remove('ID')"
   ]
  },
  {
   "cell_type": "code",
   "execution_count": 28,
   "id": "83589ec3",
   "metadata": {
    "execution": {
     "iopub.execute_input": "2022-05-30T21:29:23.968888Z",
     "iopub.status.busy": "2022-05-30T21:29:23.968480Z",
     "iopub.status.idle": "2022-05-30T21:29:23.974442Z",
     "shell.execute_reply": "2022-05-30T21:29:23.973200Z"
    },
    "papermill": {
     "duration": 0.041059,
     "end_time": "2022-05-30T21:29:23.976486",
     "exception": false,
     "start_time": "2022-05-30T21:29:23.935427",
     "status": "completed"
    },
    "tags": []
   },
   "outputs": [],
   "source": [
    "X_test = test_data[targeted_features_test]"
   ]
  },
  {
   "cell_type": "code",
   "execution_count": 29,
   "id": "12256be3",
   "metadata": {
    "execution": {
     "iopub.execute_input": "2022-05-30T21:29:24.041398Z",
     "iopub.status.busy": "2022-05-30T21:29:24.040981Z",
     "iopub.status.idle": "2022-05-30T21:29:24.056022Z",
     "shell.execute_reply": "2022-05-30T21:29:24.055066Z"
    },
    "papermill": {
     "duration": 0.05176,
     "end_time": "2022-05-30T21:29:24.058343",
     "exception": false,
     "start_time": "2022-05-30T21:29:24.006583",
     "status": "completed"
    },
    "tags": []
   },
   "outputs": [],
   "source": [
    "#scaled = scaler.transform(X_test[X_train_features])\n",
    "#scaled_l = np.log(X_test[skewed])\n",
    "#scaled = pd.DataFrame(scaled,columns = X_train_features)\n",
    "#scaled_l = pd.DataFrame(scaled_l,columns = skewed)\n",
    "#X_test_transformed = pd.concat([scaled_l, scaled], axis=1)\n",
    "\n",
    "scaled = scaler.transform(X_test[X_train_features])\n",
    "scaled_l = transformer1.transform(X_test[skewed])\n",
    "scaled = pd.DataFrame(scaled,columns = X_train_features)\n",
    "scaled_l = pd.DataFrame(scaled_l,columns = skewed)\n",
    "X_test_transformed = pd.concat([scaled_l, scaled], axis=1)"
   ]
  },
  {
   "cell_type": "code",
   "execution_count": 30,
   "id": "37472d3d",
   "metadata": {
    "execution": {
     "iopub.execute_input": "2022-05-30T21:29:24.123095Z",
     "iopub.status.busy": "2022-05-30T21:29:24.122654Z",
     "iopub.status.idle": "2022-05-30T21:29:24.141323Z",
     "shell.execute_reply": "2022-05-30T21:29:24.140260Z"
    },
    "papermill": {
     "duration": 0.054361,
     "end_time": "2022-05-30T21:29:24.143933",
     "exception": false,
     "start_time": "2022-05-30T21:29:24.089572",
     "status": "completed"
    },
    "tags": []
   },
   "outputs": [
    {
     "data": {
      "text/plain": [
       "Series([], dtype: bool)"
      ]
     },
     "execution_count": 30,
     "metadata": {},
     "output_type": "execute_result"
    }
   ],
   "source": [
    "X_test_transformed.duplicated()[(X_test_transformed.duplicated() == True)]"
   ]
  },
  {
   "cell_type": "code",
   "execution_count": 31,
   "id": "f54a64a4",
   "metadata": {
    "execution": {
     "iopub.execute_input": "2022-05-30T21:29:24.207912Z",
     "iopub.status.busy": "2022-05-30T21:29:24.207508Z",
     "iopub.status.idle": "2022-05-30T21:29:24.235050Z",
     "shell.execute_reply": "2022-05-30T21:29:24.234154Z"
    },
    "papermill": {
     "duration": 0.062182,
     "end_time": "2022-05-30T21:29:24.237139",
     "exception": false,
     "start_time": "2022-05-30T21:29:24.174957",
     "status": "completed"
    },
    "tags": []
   },
   "outputs": [
    {
     "data": {
      "text/html": [
       "<div>\n",
       "<style scoped>\n",
       "    .dataframe tbody tr th:only-of-type {\n",
       "        vertical-align: middle;\n",
       "    }\n",
       "\n",
       "    .dataframe tbody tr th {\n",
       "        vertical-align: top;\n",
       "    }\n",
       "\n",
       "    .dataframe thead th {\n",
       "        text-align: right;\n",
       "    }\n",
       "</style>\n",
       "<table border=\"1\" class=\"dataframe\">\n",
       "  <thead>\n",
       "    <tr style=\"text-align: right;\">\n",
       "      <th></th>\n",
       "      <th>Area</th>\n",
       "      <th>ConvexArea</th>\n",
       "      <th>MinorAxisLength</th>\n",
       "      <th>EquivDiameter</th>\n",
       "      <th>Perimeter</th>\n",
       "      <th>MajorAxisLength</th>\n",
       "      <th>AspectRation</th>\n",
       "      <th>ShapeFactor1</th>\n",
       "      <th>roundness</th>\n",
       "      <th>Extent</th>\n",
       "      <th>Eccentricity</th>\n",
       "      <th>Solidity</th>\n",
       "      <th>ShapeFactor4</th>\n",
       "      <th>Compactness</th>\n",
       "      <th>ShapeFactor2</th>\n",
       "      <th>ShapeFactor3</th>\n",
       "    </tr>\n",
       "  </thead>\n",
       "  <tbody>\n",
       "    <tr>\n",
       "      <th>0</th>\n",
       "      <td>0.616869</td>\n",
       "      <td>0.683605</td>\n",
       "      <td>0.126396</td>\n",
       "      <td>0.616869</td>\n",
       "      <td>0.754479</td>\n",
       "      <td>0.981016</td>\n",
       "      <td>1.495793</td>\n",
       "      <td>0.076135</td>\n",
       "      <td>-1.321206</td>\n",
       "      <td>-2.031323</td>\n",
       "      <td>1.480434</td>\n",
       "      <td>-2.445381</td>\n",
       "      <td>-2.216411</td>\n",
       "      <td>-1.452366</td>\n",
       "      <td>-0.705225</td>\n",
       "      <td>-1.363941</td>\n",
       "    </tr>\n",
       "    <tr>\n",
       "      <th>1</th>\n",
       "      <td>-1.524261</td>\n",
       "      <td>-1.521724</td>\n",
       "      <td>-1.380747</td>\n",
       "      <td>-1.524261</td>\n",
       "      <td>-1.462907</td>\n",
       "      <td>-1.377643</td>\n",
       "      <td>-0.515087</td>\n",
       "      <td>1.366260</td>\n",
       "      <td>0.567715</td>\n",
       "      <td>0.242309</td>\n",
       "      <td>-0.523674</td>\n",
       "      <td>-0.090909</td>\n",
       "      <td>0.844118</td>\n",
       "      <td>0.435358</td>\n",
       "      <td>0.658999</td>\n",
       "      <td>0.445220</td>\n",
       "    </tr>\n",
       "    <tr>\n",
       "      <th>2</th>\n",
       "      <td>0.493021</td>\n",
       "      <td>0.512761</td>\n",
       "      <td>0.859449</td>\n",
       "      <td>0.493021</td>\n",
       "      <td>0.562247</td>\n",
       "      <td>0.123386</td>\n",
       "      <td>-0.893361</td>\n",
       "      <td>-0.865147</td>\n",
       "      <td>-0.856811</td>\n",
       "      <td>-0.102154</td>\n",
       "      <td>-0.926013</td>\n",
       "      <td>-1.726885</td>\n",
       "      <td>-0.182878</td>\n",
       "      <td>0.747768</td>\n",
       "      <td>0.154199</td>\n",
       "      <td>0.775044</td>\n",
       "    </tr>\n",
       "    <tr>\n",
       "      <th>3</th>\n",
       "      <td>-2.158753</td>\n",
       "      <td>-2.157396</td>\n",
       "      <td>-2.102358</td>\n",
       "      <td>-2.158753</td>\n",
       "      <td>-2.111773</td>\n",
       "      <td>-1.822287</td>\n",
       "      <td>-0.475598</td>\n",
       "      <td>2.082847</td>\n",
       "      <td>1.055187</td>\n",
       "      <td>-0.833569</td>\n",
       "      <td>-0.481552</td>\n",
       "      <td>0.061332</td>\n",
       "      <td>1.204287</td>\n",
       "      <td>0.405115</td>\n",
       "      <td>0.819016</td>\n",
       "      <td>0.413749</td>\n",
       "    </tr>\n",
       "    <tr>\n",
       "      <th>4</th>\n",
       "      <td>2.066907</td>\n",
       "      <td>2.060650</td>\n",
       "      <td>2.197507</td>\n",
       "      <td>2.066907</td>\n",
       "      <td>1.954855</td>\n",
       "      <td>1.825923</td>\n",
       "      <td>-0.184484</td>\n",
       "      <td>-2.199426</td>\n",
       "      <td>-0.214135</td>\n",
       "      <td>1.296794</td>\n",
       "      <td>-0.171903</td>\n",
       "      <td>-0.252430</td>\n",
       "      <td>-1.171025</td>\n",
       "      <td>0.115685</td>\n",
       "      <td>-0.713419</td>\n",
       "      <td>0.116669</td>\n",
       "    </tr>\n",
       "    <tr>\n",
       "      <th>...</th>\n",
       "      <td>...</td>\n",
       "      <td>...</td>\n",
       "      <td>...</td>\n",
       "      <td>...</td>\n",
       "      <td>...</td>\n",
       "      <td>...</td>\n",
       "      <td>...</td>\n",
       "      <td>...</td>\n",
       "      <td>...</td>\n",
       "      <td>...</td>\n",
       "      <td>...</td>\n",
       "      <td>...</td>\n",
       "      <td>...</td>\n",
       "      <td>...</td>\n",
       "      <td>...</td>\n",
       "      <td>...</td>\n",
       "    </tr>\n",
       "    <tr>\n",
       "      <th>2704</th>\n",
       "      <td>0.934051</td>\n",
       "      <td>0.934847</td>\n",
       "      <td>0.597649</td>\n",
       "      <td>0.934051</td>\n",
       "      <td>0.992309</td>\n",
       "      <td>1.084967</td>\n",
       "      <td>1.166692</td>\n",
       "      <td>-0.581252</td>\n",
       "      <td>-1.110017</td>\n",
       "      <td>0.050838</td>\n",
       "      <td>1.183264</td>\n",
       "      <td>-0.602370</td>\n",
       "      <td>-1.224570</td>\n",
       "      <td>-1.030948</td>\n",
       "      <td>-0.653489</td>\n",
       "      <td>-0.987406</td>\n",
       "    </tr>\n",
       "    <tr>\n",
       "      <th>2705</th>\n",
       "      <td>-0.313250</td>\n",
       "      <td>-0.325951</td>\n",
       "      <td>0.402514</td>\n",
       "      <td>-0.313250</td>\n",
       "      <td>-0.563512</td>\n",
       "      <td>-0.884922</td>\n",
       "      <td>-1.726899</td>\n",
       "      <td>-0.418757</td>\n",
       "      <td>1.913933</td>\n",
       "      <td>0.242830</td>\n",
       "      <td>-1.767172</td>\n",
       "      <td>1.577287</td>\n",
       "      <td>0.826495</td>\n",
       "      <td>1.487018</td>\n",
       "      <td>0.866641</td>\n",
       "      <td>1.589905</td>\n",
       "    </tr>\n",
       "    <tr>\n",
       "      <th>2706</th>\n",
       "      <td>0.750488</td>\n",
       "      <td>0.813181</td>\n",
       "      <td>0.207726</td>\n",
       "      <td>0.750488</td>\n",
       "      <td>0.957052</td>\n",
       "      <td>1.145911</td>\n",
       "      <td>1.719213</td>\n",
       "      <td>0.022293</td>\n",
       "      <td>-1.752835</td>\n",
       "      <td>-2.105031</td>\n",
       "      <td>1.673195</td>\n",
       "      <td>-2.444306</td>\n",
       "      <td>-2.220207</td>\n",
       "      <td>-1.661958</td>\n",
       "      <td>-0.793464</td>\n",
       "      <td>-1.545357</td>\n",
       "    </tr>\n",
       "    <tr>\n",
       "      <th>2707</th>\n",
       "      <td>-0.868594</td>\n",
       "      <td>-0.860886</td>\n",
       "      <td>-0.822539</td>\n",
       "      <td>-0.868594</td>\n",
       "      <td>-0.784610</td>\n",
       "      <td>-0.776426</td>\n",
       "      <td>-0.255354</td>\n",
       "      <td>0.812511</td>\n",
       "      <td>0.011017</td>\n",
       "      <td>-0.681887</td>\n",
       "      <td>-0.247058</td>\n",
       "      <td>-0.583671</td>\n",
       "      <td>0.496992</td>\n",
       "      <td>0.207969</td>\n",
       "      <td>0.341546</td>\n",
       "      <td>0.210587</td>\n",
       "    </tr>\n",
       "    <tr>\n",
       "      <th>2708</th>\n",
       "      <td>0.228840</td>\n",
       "      <td>0.221747</td>\n",
       "      <td>0.291025</td>\n",
       "      <td>0.228840</td>\n",
       "      <td>0.137952</td>\n",
       "      <td>0.144083</td>\n",
       "      <td>-0.093436</td>\n",
       "      <td>-0.302575</td>\n",
       "      <td>0.371069</td>\n",
       "      <td>1.094885</td>\n",
       "      <td>-0.075674</td>\n",
       "      <td>0.706050</td>\n",
       "      <td>0.419311</td>\n",
       "      <td>0.068185</td>\n",
       "      <td>-0.054836</td>\n",
       "      <td>0.068622</td>\n",
       "    </tr>\n",
       "  </tbody>\n",
       "</table>\n",
       "<p>2709 rows × 16 columns</p>\n",
       "</div>"
      ],
      "text/plain": [
       "          Area  ConvexArea  MinorAxisLength  EquivDiameter  Perimeter  \\\n",
       "0     0.616869    0.683605         0.126396       0.616869   0.754479   \n",
       "1    -1.524261   -1.521724        -1.380747      -1.524261  -1.462907   \n",
       "2     0.493021    0.512761         0.859449       0.493021   0.562247   \n",
       "3    -2.158753   -2.157396        -2.102358      -2.158753  -2.111773   \n",
       "4     2.066907    2.060650         2.197507       2.066907   1.954855   \n",
       "...        ...         ...              ...            ...        ...   \n",
       "2704  0.934051    0.934847         0.597649       0.934051   0.992309   \n",
       "2705 -0.313250   -0.325951         0.402514      -0.313250  -0.563512   \n",
       "2706  0.750488    0.813181         0.207726       0.750488   0.957052   \n",
       "2707 -0.868594   -0.860886        -0.822539      -0.868594  -0.784610   \n",
       "2708  0.228840    0.221747         0.291025       0.228840   0.137952   \n",
       "\n",
       "      MajorAxisLength  AspectRation  ShapeFactor1  roundness    Extent  \\\n",
       "0            0.981016      1.495793      0.076135  -1.321206 -2.031323   \n",
       "1           -1.377643     -0.515087      1.366260   0.567715  0.242309   \n",
       "2            0.123386     -0.893361     -0.865147  -0.856811 -0.102154   \n",
       "3           -1.822287     -0.475598      2.082847   1.055187 -0.833569   \n",
       "4            1.825923     -0.184484     -2.199426  -0.214135  1.296794   \n",
       "...               ...           ...           ...        ...       ...   \n",
       "2704         1.084967      1.166692     -0.581252  -1.110017  0.050838   \n",
       "2705        -0.884922     -1.726899     -0.418757   1.913933  0.242830   \n",
       "2706         1.145911      1.719213      0.022293  -1.752835 -2.105031   \n",
       "2707        -0.776426     -0.255354      0.812511   0.011017 -0.681887   \n",
       "2708         0.144083     -0.093436     -0.302575   0.371069  1.094885   \n",
       "\n",
       "      Eccentricity  Solidity  ShapeFactor4  Compactness  ShapeFactor2  \\\n",
       "0         1.480434 -2.445381     -2.216411    -1.452366     -0.705225   \n",
       "1        -0.523674 -0.090909      0.844118     0.435358      0.658999   \n",
       "2        -0.926013 -1.726885     -0.182878     0.747768      0.154199   \n",
       "3        -0.481552  0.061332      1.204287     0.405115      0.819016   \n",
       "4        -0.171903 -0.252430     -1.171025     0.115685     -0.713419   \n",
       "...            ...       ...           ...          ...           ...   \n",
       "2704      1.183264 -0.602370     -1.224570    -1.030948     -0.653489   \n",
       "2705     -1.767172  1.577287      0.826495     1.487018      0.866641   \n",
       "2706      1.673195 -2.444306     -2.220207    -1.661958     -0.793464   \n",
       "2707     -0.247058 -0.583671      0.496992     0.207969      0.341546   \n",
       "2708     -0.075674  0.706050      0.419311     0.068185     -0.054836   \n",
       "\n",
       "      ShapeFactor3  \n",
       "0        -1.363941  \n",
       "1         0.445220  \n",
       "2         0.775044  \n",
       "3         0.413749  \n",
       "4         0.116669  \n",
       "...            ...  \n",
       "2704     -0.987406  \n",
       "2705      1.589905  \n",
       "2706     -1.545357  \n",
       "2707      0.210587  \n",
       "2708      0.068622  \n",
       "\n",
       "[2709 rows x 16 columns]"
      ]
     },
     "execution_count": 31,
     "metadata": {},
     "output_type": "execute_result"
    }
   ],
   "source": [
    "X_test_transformed"
   ]
  },
  {
   "cell_type": "code",
   "execution_count": 32,
   "id": "04a945cb",
   "metadata": {
    "execution": {
     "iopub.execute_input": "2022-05-30T21:29:24.301803Z",
     "iopub.status.busy": "2022-05-30T21:29:24.301355Z",
     "iopub.status.idle": "2022-05-30T21:29:24.363190Z",
     "shell.execute_reply": "2022-05-30T21:29:24.362237Z"
    },
    "papermill": {
     "duration": 0.096707,
     "end_time": "2022-05-30T21:29:24.365624",
     "exception": false,
     "start_time": "2022-05-30T21:29:24.268917",
     "status": "completed"
    },
    "tags": []
   },
   "outputs": [
    {
     "data": {
      "text/html": [
       "<div>\n",
       "<style scoped>\n",
       "    .dataframe tbody tr th:only-of-type {\n",
       "        vertical-align: middle;\n",
       "    }\n",
       "\n",
       "    .dataframe tbody tr th {\n",
       "        vertical-align: top;\n",
       "    }\n",
       "\n",
       "    .dataframe thead th {\n",
       "        text-align: right;\n",
       "    }\n",
       "</style>\n",
       "<table border=\"1\" class=\"dataframe\">\n",
       "  <thead>\n",
       "    <tr style=\"text-align: right;\">\n",
       "      <th></th>\n",
       "      <th>Area</th>\n",
       "      <th>ConvexArea</th>\n",
       "      <th>MinorAxisLength</th>\n",
       "      <th>EquivDiameter</th>\n",
       "      <th>Perimeter</th>\n",
       "      <th>MajorAxisLength</th>\n",
       "      <th>AspectRation</th>\n",
       "      <th>ShapeFactor1</th>\n",
       "      <th>roundness</th>\n",
       "      <th>Extent</th>\n",
       "      <th>Eccentricity</th>\n",
       "      <th>Solidity</th>\n",
       "      <th>ShapeFactor4</th>\n",
       "      <th>Compactness</th>\n",
       "      <th>ShapeFactor2</th>\n",
       "      <th>ShapeFactor3</th>\n",
       "    </tr>\n",
       "  </thead>\n",
       "  <tbody>\n",
       "    <tr>\n",
       "      <th>count</th>\n",
       "      <td>2709.000000</td>\n",
       "      <td>2709.000000</td>\n",
       "      <td>2709.000000</td>\n",
       "      <td>2709.000000</td>\n",
       "      <td>2709.000000</td>\n",
       "      <td>2709.000000</td>\n",
       "      <td>2709.000000</td>\n",
       "      <td>2709.000000</td>\n",
       "      <td>2709.000000</td>\n",
       "      <td>2709.000000</td>\n",
       "      <td>2709.000000</td>\n",
       "      <td>2709.000000</td>\n",
       "      <td>2709.000000</td>\n",
       "      <td>2709.000000</td>\n",
       "      <td>2709.000000</td>\n",
       "      <td>2709.000000</td>\n",
       "    </tr>\n",
       "    <tr>\n",
       "      <th>mean</th>\n",
       "      <td>-0.011724</td>\n",
       "      <td>-0.011708</td>\n",
       "      <td>-0.009689</td>\n",
       "      <td>-0.011724</td>\n",
       "      <td>-0.011641</td>\n",
       "      <td>-0.012099</td>\n",
       "      <td>-0.008793</td>\n",
       "      <td>0.009966</td>\n",
       "      <td>0.003551</td>\n",
       "      <td>-0.012380</td>\n",
       "      <td>-0.009735</td>\n",
       "      <td>0.004835</td>\n",
       "      <td>-0.000637</td>\n",
       "      <td>-0.009123</td>\n",
       "      <td>0.025292</td>\n",
       "      <td>0.025328</td>\n",
       "    </tr>\n",
       "    <tr>\n",
       "      <th>std</th>\n",
       "      <td>1.016388</td>\n",
       "      <td>1.016425</td>\n",
       "      <td>1.018316</td>\n",
       "      <td>1.016388</td>\n",
       "      <td>1.016826</td>\n",
       "      <td>1.014625</td>\n",
       "      <td>1.019464</td>\n",
       "      <td>1.018355</td>\n",
       "      <td>1.009479</td>\n",
       "      <td>0.999450</td>\n",
       "      <td>1.019038</td>\n",
       "      <td>0.992192</td>\n",
       "      <td>0.986046</td>\n",
       "      <td>0.882845</td>\n",
       "      <td>0.598610</td>\n",
       "      <td>0.887261</td>\n",
       "    </tr>\n",
       "    <tr>\n",
       "      <th>min</th>\n",
       "      <td>-3.094138</td>\n",
       "      <td>-3.083186</td>\n",
       "      <td>-4.362553</td>\n",
       "      <td>-3.094138</td>\n",
       "      <td>-2.946191</td>\n",
       "      <td>-2.903319</td>\n",
       "      <td>-2.927049</td>\n",
       "      <td>-2.658904</td>\n",
       "      <td>-3.026176</td>\n",
       "      <td>-2.354220</td>\n",
       "      <td>-2.596047</td>\n",
       "      <td>-2.489574</td>\n",
       "      <td>-2.222086</td>\n",
       "      <td>-2.275448</td>\n",
       "      <td>-1.089176</td>\n",
       "      <td>-2.054032</td>\n",
       "    </tr>\n",
       "    <tr>\n",
       "      <th>25%</th>\n",
       "      <td>-0.682841</td>\n",
       "      <td>-0.689794</td>\n",
       "      <td>-0.627333</td>\n",
       "      <td>-0.682841</td>\n",
       "      <td>-0.770344</td>\n",
       "      <td>-0.865291</td>\n",
       "      <td>-0.589207</td>\n",
       "      <td>-0.653691</td>\n",
       "      <td>-0.782989</td>\n",
       "      <td>-0.798120</td>\n",
       "      <td>-0.602738</td>\n",
       "      <td>-0.618589</td>\n",
       "      <td>-0.735405</td>\n",
       "      <td>-0.546018</td>\n",
       "      <td>-0.544160</td>\n",
       "      <td>-0.534674</td>\n",
       "    </tr>\n",
       "    <tr>\n",
       "      <th>50%</th>\n",
       "      <td>-0.048577</td>\n",
       "      <td>-0.045404</td>\n",
       "      <td>-0.005715</td>\n",
       "      <td>-0.048577</td>\n",
       "      <td>-0.066735</td>\n",
       "      <td>-0.035073</td>\n",
       "      <td>-0.031914</td>\n",
       "      <td>0.002429</td>\n",
       "      <td>0.058254</td>\n",
       "      <td>0.027036</td>\n",
       "      <td>-0.010895</td>\n",
       "      <td>0.054834</td>\n",
       "      <td>0.112810</td>\n",
       "      <td>0.008267</td>\n",
       "      <td>0.000383</td>\n",
       "      <td>0.008298</td>\n",
       "    </tr>\n",
       "    <tr>\n",
       "      <th>75%</th>\n",
       "      <td>0.764590</td>\n",
       "      <td>0.768278</td>\n",
       "      <td>0.641407</td>\n",
       "      <td>0.764590</td>\n",
       "      <td>0.848936</td>\n",
       "      <td>0.883943</td>\n",
       "      <td>0.602815</td>\n",
       "      <td>0.619151</td>\n",
       "      <td>0.720612</td>\n",
       "      <td>0.754833</td>\n",
       "      <td>0.640574</td>\n",
       "      <td>0.689278</td>\n",
       "      <td>0.788728</td>\n",
       "      <td>0.484482</td>\n",
       "      <td>0.485026</td>\n",
       "      <td>0.496510</td>\n",
       "    </tr>\n",
       "    <tr>\n",
       "      <th>max</th>\n",
       "      <td>2.503372</td>\n",
       "      <td>2.491519</td>\n",
       "      <td>2.648276</td>\n",
       "      <td>2.503371</td>\n",
       "      <td>2.419390</td>\n",
       "      <td>2.431279</td>\n",
       "      <td>2.697440</td>\n",
       "      <td>4.407043</td>\n",
       "      <td>2.327338</td>\n",
       "      <td>2.659483</td>\n",
       "      <td>2.426765</td>\n",
       "      <td>3.013425</td>\n",
       "      <td>1.931374</td>\n",
       "      <td>2.548915</td>\n",
       "      <td>1.703672</td>\n",
       "      <td>2.845050</td>\n",
       "    </tr>\n",
       "  </tbody>\n",
       "</table>\n",
       "</div>"
      ],
      "text/plain": [
       "              Area   ConvexArea  MinorAxisLength  EquivDiameter    Perimeter  \\\n",
       "count  2709.000000  2709.000000      2709.000000    2709.000000  2709.000000   \n",
       "mean     -0.011724    -0.011708        -0.009689      -0.011724    -0.011641   \n",
       "std       1.016388     1.016425         1.018316       1.016388     1.016826   \n",
       "min      -3.094138    -3.083186        -4.362553      -3.094138    -2.946191   \n",
       "25%      -0.682841    -0.689794        -0.627333      -0.682841    -0.770344   \n",
       "50%      -0.048577    -0.045404        -0.005715      -0.048577    -0.066735   \n",
       "75%       0.764590     0.768278         0.641407       0.764590     0.848936   \n",
       "max       2.503372     2.491519         2.648276       2.503371     2.419390   \n",
       "\n",
       "       MajorAxisLength  AspectRation  ShapeFactor1    roundness       Extent  \\\n",
       "count      2709.000000   2709.000000   2709.000000  2709.000000  2709.000000   \n",
       "mean         -0.012099     -0.008793      0.009966     0.003551    -0.012380   \n",
       "std           1.014625      1.019464      1.018355     1.009479     0.999450   \n",
       "min          -2.903319     -2.927049     -2.658904    -3.026176    -2.354220   \n",
       "25%          -0.865291     -0.589207     -0.653691    -0.782989    -0.798120   \n",
       "50%          -0.035073     -0.031914      0.002429     0.058254     0.027036   \n",
       "75%           0.883943      0.602815      0.619151     0.720612     0.754833   \n",
       "max           2.431279      2.697440      4.407043     2.327338     2.659483   \n",
       "\n",
       "       Eccentricity     Solidity  ShapeFactor4  Compactness  ShapeFactor2  \\\n",
       "count   2709.000000  2709.000000   2709.000000  2709.000000   2709.000000   \n",
       "mean      -0.009735     0.004835     -0.000637    -0.009123      0.025292   \n",
       "std        1.019038     0.992192      0.986046     0.882845      0.598610   \n",
       "min       -2.596047    -2.489574     -2.222086    -2.275448     -1.089176   \n",
       "25%       -0.602738    -0.618589     -0.735405    -0.546018     -0.544160   \n",
       "50%       -0.010895     0.054834      0.112810     0.008267      0.000383   \n",
       "75%        0.640574     0.689278      0.788728     0.484482      0.485026   \n",
       "max        2.426765     3.013425      1.931374     2.548915      1.703672   \n",
       "\n",
       "       ShapeFactor3  \n",
       "count   2709.000000  \n",
       "mean       0.025328  \n",
       "std        0.887261  \n",
       "min       -2.054032  \n",
       "25%       -0.534674  \n",
       "50%        0.008298  \n",
       "75%        0.496510  \n",
       "max        2.845050  "
      ]
     },
     "execution_count": 32,
     "metadata": {},
     "output_type": "execute_result"
    }
   ],
   "source": [
    "X_test_transformed.describe()"
   ]
  },
  {
   "cell_type": "code",
   "execution_count": 33,
   "id": "df0bb16c",
   "metadata": {
    "execution": {
     "iopub.execute_input": "2022-05-30T21:29:24.429281Z",
     "iopub.status.busy": "2022-05-30T21:29:24.428857Z",
     "iopub.status.idle": "2022-05-30T21:29:24.443147Z",
     "shell.execute_reply": "2022-05-30T21:29:24.441282Z"
    },
    "papermill": {
     "duration": 0.049968,
     "end_time": "2022-05-30T21:29:24.446455",
     "exception": false,
     "start_time": "2022-05-30T21:29:24.396487",
     "status": "completed"
    },
    "tags": []
   },
   "outputs": [
    {
     "name": "stdout",
     "output_type": "stream",
     "text": [
      "[5.92190671e-01 2.45028701e-01 6.98149073e-02 5.78174292e-02\n",
      " 2.71328915e-02 6.58644905e-03 9.14119449e-04 3.71241219e-04\n",
      " 5.38468962e-05 4.69942208e-05 3.24166474e-05 8.49088467e-06\n",
      " 1.05221133e-06 4.68933647e-07 3.20850041e-07 4.00279631e-20]\n"
     ]
    }
   ],
   "source": [
    "X_test_transformed = pca.transform(X_test_transformed)\n",
    "print(pca.explained_variance_ratio_)"
   ]
  },
  {
   "cell_type": "code",
   "execution_count": 34,
   "id": "80250335",
   "metadata": {
    "execution": {
     "iopub.execute_input": "2022-05-30T21:29:24.563117Z",
     "iopub.status.busy": "2022-05-30T21:29:24.562704Z",
     "iopub.status.idle": "2022-05-30T21:29:24.567655Z",
     "shell.execute_reply": "2022-05-30T21:29:24.566761Z"
    },
    "papermill": {
     "duration": 0.064576,
     "end_time": "2022-05-30T21:29:24.569588",
     "exception": false,
     "start_time": "2022-05-30T21:29:24.505012",
     "status": "completed"
    },
    "tags": []
   },
   "outputs": [],
   "source": [
    "X_test_transformed = pd.DataFrame(X_test_transformed[:,:15])"
   ]
  },
  {
   "cell_type": "code",
   "execution_count": 35,
   "id": "9a66dc4b",
   "metadata": {
    "execution": {
     "iopub.execute_input": "2022-05-30T21:29:24.635757Z",
     "iopub.status.busy": "2022-05-30T21:29:24.634566Z",
     "iopub.status.idle": "2022-05-30T21:29:24.643530Z",
     "shell.execute_reply": "2022-05-30T21:29:24.642815Z"
    },
    "papermill": {
     "duration": 0.044275,
     "end_time": "2022-05-30T21:29:24.645612",
     "exception": false,
     "start_time": "2022-05-30T21:29:24.601337",
     "status": "completed"
    },
    "tags": []
   },
   "outputs": [
    {
     "data": {
      "text/plain": [
       "\"\\nlinkages = ['ward', 'complete', 'average', 'single']\\naffinities = ['euclidean', 'l1', 'l2', 'manhattan', 'cosine']\\nnum_clusters = [7]\\nscores = []\\nbest_score = 0\\nbest_model = {}\\nfor c in num_clusters:\\n    for l in linkages:\\n        if l == 'ward':\\n            model = AgglomerativeClustering(affinity='euclidean',n_clusters = c,linkage='ward')#,distance_threshold=100,n_clusters = 10)\\n            clustering = model.fit(X_train)\\n            labels = clustering.labels_\\n            score = silhouette_score(X_train, labels)\\n            scores.append(score)\\n            if score > best_score:\\n                best_score = score\\n                best_model['num_clusters'] = c\\n                best_model['linkage'] = l\\n                best_model['affinity'] = 'euclidean'\\n                best_model['score'] = score\\n            pass \\n        else:\\n            for a in affinities:\\n                model = AgglomerativeClustering(affinity= a,n_clusters = c ,linkage= l)\\n                clustering = model.fit(X_train)\\n                labels = clustering.labels_\\n                score = silhouette_score(X_train, labels)\\n                scores.append(score)\\n                if score > best_score:\\n                    best_score = score\\n                    best_model['num_clusters'] = c\\n                    best_model['linkage'] = l\\n                    best_model['affinity'] = a\\n                    best_model['score'] = score\\n\""
      ]
     },
     "execution_count": 35,
     "metadata": {},
     "output_type": "execute_result"
    }
   ],
   "source": [
    "from sklearn.metrics import silhouette_score,silhouette_samples\n",
    "from sklearn.cluster import AgglomerativeClustering\n",
    "\"\"\"\n",
    "linkages = ['ward', 'complete', 'average', 'single']\n",
    "affinities = ['euclidean', 'l1', 'l2', 'manhattan', 'cosine']\n",
    "num_clusters = [7]\n",
    "scores = []\n",
    "best_score = 0\n",
    "best_model = {}\n",
    "for c in num_clusters:\n",
    "    for l in linkages:\n",
    "        if l == 'ward':\n",
    "            model = AgglomerativeClustering(affinity='euclidean',n_clusters = c,linkage='ward')#,distance_threshold=100,n_clusters = 10)\n",
    "            clustering = model.fit(X_train)\n",
    "            labels = clustering.labels_\n",
    "            score = silhouette_score(X_train, labels)\n",
    "            scores.append(score)\n",
    "            if score > best_score:\n",
    "                best_score = score\n",
    "                best_model['num_clusters'] = c\n",
    "                best_model['linkage'] = l\n",
    "                best_model['affinity'] = 'euclidean'\n",
    "                best_model['score'] = score\n",
    "            pass \n",
    "        else:\n",
    "            for a in affinities:\n",
    "                model = AgglomerativeClustering(affinity= a,n_clusters = c ,linkage= l)\n",
    "                clustering = model.fit(X_train)\n",
    "                labels = clustering.labels_\n",
    "                score = silhouette_score(X_train, labels)\n",
    "                scores.append(score)\n",
    "                if score > best_score:\n",
    "                    best_score = score\n",
    "                    best_model['num_clusters'] = c\n",
    "                    best_model['linkage'] = l\n",
    "                    best_model['affinity'] = a\n",
    "                    best_model['score'] = score\n",
    "\"\"\""
   ]
  },
  {
   "cell_type": "code",
   "execution_count": 36,
   "id": "bf409020",
   "metadata": {
    "execution": {
     "iopub.execute_input": "2022-05-30T21:29:24.712502Z",
     "iopub.status.busy": "2022-05-30T21:29:24.711465Z",
     "iopub.status.idle": "2022-05-30T21:29:24.715604Z",
     "shell.execute_reply": "2022-05-30T21:29:24.714830Z"
    },
    "papermill": {
     "duration": 0.038953,
     "end_time": "2022-05-30T21:29:24.717749",
     "exception": false,
     "start_time": "2022-05-30T21:29:24.678796",
     "status": "completed"
    },
    "tags": []
   },
   "outputs": [],
   "source": [
    "#best_model"
   ]
  },
  {
   "cell_type": "code",
   "execution_count": 37,
   "id": "02655750",
   "metadata": {
    "execution": {
     "iopub.execute_input": "2022-05-30T21:29:24.782172Z",
     "iopub.status.busy": "2022-05-30T21:29:24.781403Z",
     "iopub.status.idle": "2022-05-30T21:29:24.786562Z",
     "shell.execute_reply": "2022-05-30T21:29:24.785798Z"
    },
    "papermill": {
     "duration": 0.039588,
     "end_time": "2022-05-30T21:29:24.788625",
     "exception": false,
     "start_time": "2022-05-30T21:29:24.749037",
     "status": "completed"
    },
    "tags": []
   },
   "outputs": [],
   "source": [
    "best_model = {'num_clusters': 7,\n",
    " 'linkage': 'ward',\n",
    " 'affinity': 'euclidean'}"
   ]
  },
  {
   "cell_type": "code",
   "execution_count": 38,
   "id": "42be07ca",
   "metadata": {
    "execution": {
     "iopub.execute_input": "2022-05-30T21:29:24.853303Z",
     "iopub.status.busy": "2022-05-30T21:29:24.852630Z",
     "iopub.status.idle": "2022-05-30T21:29:30.462468Z",
     "shell.execute_reply": "2022-05-30T21:29:30.461314Z"
    },
    "papermill": {
     "duration": 5.645416,
     "end_time": "2022-05-30T21:29:30.465144",
     "exception": false,
     "start_time": "2022-05-30T21:29:24.819728",
     "status": "completed"
    },
    "tags": []
   },
   "outputs": [],
   "source": [
    "model = AgglomerativeClustering(affinity= best_model['affinity'],n_clusters = 7 ,linkage= best_model['linkage'])\n",
    "clustering = model.fit(X_train)\n",
    "y_pred_k = clustering.labels_"
   ]
  },
  {
   "cell_type": "code",
   "execution_count": 39,
   "id": "288cef5f",
   "metadata": {
    "execution": {
     "iopub.execute_input": "2022-05-30T21:29:30.530047Z",
     "iopub.status.busy": "2022-05-30T21:29:30.529624Z",
     "iopub.status.idle": "2022-05-30T21:29:30.534645Z",
     "shell.execute_reply": "2022-05-30T21:29:30.533646Z"
    },
    "papermill": {
     "duration": 0.040048,
     "end_time": "2022-05-30T21:29:30.536651",
     "exception": false,
     "start_time": "2022-05-30T21:29:30.496603",
     "status": "completed"
    },
    "tags": []
   },
   "outputs": [],
   "source": [
    "y_pred_k = pd.DataFrame({'y_pred_k':y_pred_k})"
   ]
  },
  {
   "cell_type": "code",
   "execution_count": 40,
   "id": "0f3e1d72",
   "metadata": {
    "execution": {
     "iopub.execute_input": "2022-05-30T21:29:30.602775Z",
     "iopub.status.busy": "2022-05-30T21:29:30.601953Z",
     "iopub.status.idle": "2022-05-30T21:29:30.627708Z",
     "shell.execute_reply": "2022-05-30T21:29:30.626937Z"
    },
    "papermill": {
     "duration": 0.061001,
     "end_time": "2022-05-30T21:29:30.629767",
     "exception": false,
     "start_time": "2022-05-30T21:29:30.568766",
     "status": "completed"
    },
    "scrolled": true,
    "tags": []
   },
   "outputs": [
    {
     "data": {
      "text/html": [
       "<div>\n",
       "<style scoped>\n",
       "    .dataframe tbody tr th:only-of-type {\n",
       "        vertical-align: middle;\n",
       "    }\n",
       "\n",
       "    .dataframe tbody tr th {\n",
       "        vertical-align: top;\n",
       "    }\n",
       "\n",
       "    .dataframe thead th {\n",
       "        text-align: right;\n",
       "    }\n",
       "</style>\n",
       "<table border=\"1\" class=\"dataframe\">\n",
       "  <thead>\n",
       "    <tr style=\"text-align: right;\">\n",
       "      <th></th>\n",
       "      <th>0</th>\n",
       "      <th>1</th>\n",
       "      <th>2</th>\n",
       "      <th>3</th>\n",
       "      <th>4</th>\n",
       "      <th>5</th>\n",
       "      <th>6</th>\n",
       "      <th>7</th>\n",
       "      <th>8</th>\n",
       "      <th>9</th>\n",
       "      <th>10</th>\n",
       "      <th>11</th>\n",
       "      <th>12</th>\n",
       "      <th>13</th>\n",
       "      <th>14</th>\n",
       "      <th>15</th>\n",
       "    </tr>\n",
       "  </thead>\n",
       "  <tbody>\n",
       "    <tr>\n",
       "      <th>0</th>\n",
       "      <td>-3.130611</td>\n",
       "      <td>-2.514651</td>\n",
       "      <td>-0.871964</td>\n",
       "      <td>-2.278586</td>\n",
       "      <td>1.485130</td>\n",
       "      <td>-0.302092</td>\n",
       "      <td>-0.103509</td>\n",
       "      <td>0.093677</td>\n",
       "      <td>0.021888</td>\n",
       "      <td>-0.030558</td>\n",
       "      <td>-0.012789</td>\n",
       "      <td>0.001787</td>\n",
       "      <td>-0.000761</td>\n",
       "      <td>-0.000287</td>\n",
       "      <td>0.003406</td>\n",
       "      <td>1</td>\n",
       "    </tr>\n",
       "    <tr>\n",
       "      <th>1</th>\n",
       "      <td>2.673735</td>\n",
       "      <td>3.355934</td>\n",
       "      <td>-1.420872</td>\n",
       "      <td>-0.786132</td>\n",
       "      <td>-1.344043</td>\n",
       "      <td>0.411875</td>\n",
       "      <td>0.089358</td>\n",
       "      <td>0.071130</td>\n",
       "      <td>-0.009699</td>\n",
       "      <td>-0.025564</td>\n",
       "      <td>0.024794</td>\n",
       "      <td>-0.001831</td>\n",
       "      <td>-0.000136</td>\n",
       "      <td>0.003323</td>\n",
       "      <td>0.001614</td>\n",
       "      <td>2</td>\n",
       "    </tr>\n",
       "    <tr>\n",
       "      <th>2</th>\n",
       "      <td>3.384680</td>\n",
       "      <td>-0.321911</td>\n",
       "      <td>-0.213683</td>\n",
       "      <td>1.106841</td>\n",
       "      <td>0.226526</td>\n",
       "      <td>-0.351137</td>\n",
       "      <td>-0.036755</td>\n",
       "      <td>-0.022813</td>\n",
       "      <td>0.002818</td>\n",
       "      <td>-0.016667</td>\n",
       "      <td>-0.006034</td>\n",
       "      <td>-0.004494</td>\n",
       "      <td>-0.001334</td>\n",
       "      <td>0.000387</td>\n",
       "      <td>0.000322</td>\n",
       "      <td>4</td>\n",
       "    </tr>\n",
       "    <tr>\n",
       "      <th>3</th>\n",
       "      <td>1.862278</td>\n",
       "      <td>0.363567</td>\n",
       "      <td>-0.438848</td>\n",
       "      <td>-0.308771</td>\n",
       "      <td>1.012302</td>\n",
       "      <td>-0.285340</td>\n",
       "      <td>-0.025953</td>\n",
       "      <td>-0.048971</td>\n",
       "      <td>-0.010534</td>\n",
       "      <td>-0.015527</td>\n",
       "      <td>0.008896</td>\n",
       "      <td>0.007205</td>\n",
       "      <td>0.000749</td>\n",
       "      <td>-0.001935</td>\n",
       "      <td>0.000853</td>\n",
       "      <td>0</td>\n",
       "    </tr>\n",
       "    <tr>\n",
       "      <th>4</th>\n",
       "      <td>0.792620</td>\n",
       "      <td>0.365085</td>\n",
       "      <td>0.446245</td>\n",
       "      <td>-0.590895</td>\n",
       "      <td>-0.107892</td>\n",
       "      <td>0.150153</td>\n",
       "      <td>-0.010033</td>\n",
       "      <td>-0.050658</td>\n",
       "      <td>-0.022386</td>\n",
       "      <td>-0.011161</td>\n",
       "      <td>0.003560</td>\n",
       "      <td>-0.005345</td>\n",
       "      <td>0.000680</td>\n",
       "      <td>-0.000656</td>\n",
       "      <td>-0.000186</td>\n",
       "      <td>0</td>\n",
       "    </tr>\n",
       "    <tr>\n",
       "      <th>...</th>\n",
       "      <td>...</td>\n",
       "      <td>...</td>\n",
       "      <td>...</td>\n",
       "      <td>...</td>\n",
       "      <td>...</td>\n",
       "      <td>...</td>\n",
       "      <td>...</td>\n",
       "      <td>...</td>\n",
       "      <td>...</td>\n",
       "      <td>...</td>\n",
       "      <td>...</td>\n",
       "      <td>...</td>\n",
       "      <td>...</td>\n",
       "      <td>...</td>\n",
       "      <td>...</td>\n",
       "      <td>...</td>\n",
       "    </tr>\n",
       "    <tr>\n",
       "      <th>10829</th>\n",
       "      <td>2.709300</td>\n",
       "      <td>1.550427</td>\n",
       "      <td>0.286070</td>\n",
       "      <td>-0.030713</td>\n",
       "      <td>-0.017381</td>\n",
       "      <td>0.152362</td>\n",
       "      <td>-0.057757</td>\n",
       "      <td>0.015064</td>\n",
       "      <td>-0.011664</td>\n",
       "      <td>-0.032399</td>\n",
       "      <td>-0.007922</td>\n",
       "      <td>-0.003881</td>\n",
       "      <td>0.001871</td>\n",
       "      <td>-0.000476</td>\n",
       "      <td>-0.000944</td>\n",
       "      <td>2</td>\n",
       "    </tr>\n",
       "    <tr>\n",
       "      <th>10830</th>\n",
       "      <td>2.712862</td>\n",
       "      <td>-1.266799</td>\n",
       "      <td>0.298548</td>\n",
       "      <td>-0.378634</td>\n",
       "      <td>0.169819</td>\n",
       "      <td>-0.229146</td>\n",
       "      <td>0.013928</td>\n",
       "      <td>-0.049081</td>\n",
       "      <td>0.003070</td>\n",
       "      <td>0.001596</td>\n",
       "      <td>-0.002963</td>\n",
       "      <td>-0.002364</td>\n",
       "      <td>-0.000698</td>\n",
       "      <td>0.000243</td>\n",
       "      <td>0.001161</td>\n",
       "      <td>4</td>\n",
       "    </tr>\n",
       "    <tr>\n",
       "      <th>10831</th>\n",
       "      <td>-3.539610</td>\n",
       "      <td>0.861748</td>\n",
       "      <td>-1.767937</td>\n",
       "      <td>-0.188115</td>\n",
       "      <td>-0.474879</td>\n",
       "      <td>0.244370</td>\n",
       "      <td>-0.156359</td>\n",
       "      <td>-0.060217</td>\n",
       "      <td>0.021551</td>\n",
       "      <td>0.015040</td>\n",
       "      <td>0.004708</td>\n",
       "      <td>0.001453</td>\n",
       "      <td>-0.002350</td>\n",
       "      <td>0.003702</td>\n",
       "      <td>-0.000892</td>\n",
       "      <td>3</td>\n",
       "    </tr>\n",
       "    <tr>\n",
       "      <th>10832</th>\n",
       "      <td>-0.489641</td>\n",
       "      <td>-0.044222</td>\n",
       "      <td>0.486397</td>\n",
       "      <td>-1.237707</td>\n",
       "      <td>-0.705870</td>\n",
       "      <td>-0.004758</td>\n",
       "      <td>0.005489</td>\n",
       "      <td>-0.047917</td>\n",
       "      <td>-0.022516</td>\n",
       "      <td>0.008479</td>\n",
       "      <td>0.011787</td>\n",
       "      <td>-0.007183</td>\n",
       "      <td>0.000174</td>\n",
       "      <td>-0.000027</td>\n",
       "      <td>-0.000564</td>\n",
       "      <td>0</td>\n",
       "    </tr>\n",
       "    <tr>\n",
       "      <th>10833</th>\n",
       "      <td>5.284366</td>\n",
       "      <td>0.168463</td>\n",
       "      <td>-0.161980</td>\n",
       "      <td>0.073121</td>\n",
       "      <td>0.458272</td>\n",
       "      <td>-0.020836</td>\n",
       "      <td>-0.203845</td>\n",
       "      <td>-0.033056</td>\n",
       "      <td>0.043629</td>\n",
       "      <td>-0.035663</td>\n",
       "      <td>-0.027139</td>\n",
       "      <td>0.006639</td>\n",
       "      <td>0.004217</td>\n",
       "      <td>-0.001720</td>\n",
       "      <td>-0.001271</td>\n",
       "      <td>4</td>\n",
       "    </tr>\n",
       "  </tbody>\n",
       "</table>\n",
       "<p>10834 rows × 16 columns</p>\n",
       "</div>"
      ],
      "text/plain": [
       "             0         1         2         3         4         5         6   \\\n",
       "0     -3.130611 -2.514651 -0.871964 -2.278586  1.485130 -0.302092 -0.103509   \n",
       "1      2.673735  3.355934 -1.420872 -0.786132 -1.344043  0.411875  0.089358   \n",
       "2      3.384680 -0.321911 -0.213683  1.106841  0.226526 -0.351137 -0.036755   \n",
       "3      1.862278  0.363567 -0.438848 -0.308771  1.012302 -0.285340 -0.025953   \n",
       "4      0.792620  0.365085  0.446245 -0.590895 -0.107892  0.150153 -0.010033   \n",
       "...         ...       ...       ...       ...       ...       ...       ...   \n",
       "10829  2.709300  1.550427  0.286070 -0.030713 -0.017381  0.152362 -0.057757   \n",
       "10830  2.712862 -1.266799  0.298548 -0.378634  0.169819 -0.229146  0.013928   \n",
       "10831 -3.539610  0.861748 -1.767937 -0.188115 -0.474879  0.244370 -0.156359   \n",
       "10832 -0.489641 -0.044222  0.486397 -1.237707 -0.705870 -0.004758  0.005489   \n",
       "10833  5.284366  0.168463 -0.161980  0.073121  0.458272 -0.020836 -0.203845   \n",
       "\n",
       "             7         8         9         10        11        12        13  \\\n",
       "0      0.093677  0.021888 -0.030558 -0.012789  0.001787 -0.000761 -0.000287   \n",
       "1      0.071130 -0.009699 -0.025564  0.024794 -0.001831 -0.000136  0.003323   \n",
       "2     -0.022813  0.002818 -0.016667 -0.006034 -0.004494 -0.001334  0.000387   \n",
       "3     -0.048971 -0.010534 -0.015527  0.008896  0.007205  0.000749 -0.001935   \n",
       "4     -0.050658 -0.022386 -0.011161  0.003560 -0.005345  0.000680 -0.000656   \n",
       "...         ...       ...       ...       ...       ...       ...       ...   \n",
       "10829  0.015064 -0.011664 -0.032399 -0.007922 -0.003881  0.001871 -0.000476   \n",
       "10830 -0.049081  0.003070  0.001596 -0.002963 -0.002364 -0.000698  0.000243   \n",
       "10831 -0.060217  0.021551  0.015040  0.004708  0.001453 -0.002350  0.003702   \n",
       "10832 -0.047917 -0.022516  0.008479  0.011787 -0.007183  0.000174 -0.000027   \n",
       "10833 -0.033056  0.043629 -0.035663 -0.027139  0.006639  0.004217 -0.001720   \n",
       "\n",
       "             14  15  \n",
       "0      0.003406   1  \n",
       "1      0.001614   2  \n",
       "2      0.000322   4  \n",
       "3      0.000853   0  \n",
       "4     -0.000186   0  \n",
       "...         ...  ..  \n",
       "10829 -0.000944   2  \n",
       "10830  0.001161   4  \n",
       "10831 -0.000892   3  \n",
       "10832 -0.000564   0  \n",
       "10833 -0.001271   4  \n",
       "\n",
       "[10834 rows x 16 columns]"
      ]
     },
     "execution_count": 40,
     "metadata": {},
     "output_type": "execute_result"
    }
   ],
   "source": [
    "result_x_train = pd.concat([X_train, y_pred_k],axis=1, ignore_index=True)\n",
    "result_x_train"
   ]
  },
  {
   "cell_type": "code",
   "execution_count": 41,
   "id": "aa9ac23d",
   "metadata": {
    "execution": {
     "iopub.execute_input": "2022-05-30T21:29:30.696021Z",
     "iopub.status.busy": "2022-05-30T21:29:30.695645Z",
     "iopub.status.idle": "2022-05-30T21:29:30.986166Z",
     "shell.execute_reply": "2022-05-30T21:29:30.985350Z"
    },
    "papermill": {
     "duration": 0.325896,
     "end_time": "2022-05-30T21:29:30.988095",
     "exception": false,
     "start_time": "2022-05-30T21:29:30.662199",
     "status": "completed"
    },
    "scrolled": true,
    "tags": []
   },
   "outputs": [
    {
     "data": {
      "text/html": [
       "<div>\n",
       "<style scoped>\n",
       "    .dataframe tbody tr th:only-of-type {\n",
       "        vertical-align: middle;\n",
       "    }\n",
       "\n",
       "    .dataframe tbody tr th {\n",
       "        vertical-align: top;\n",
       "    }\n",
       "\n",
       "    .dataframe thead th {\n",
       "        text-align: right;\n",
       "    }\n",
       "</style>\n",
       "<table border=\"1\" class=\"dataframe\">\n",
       "  <thead>\n",
       "    <tr style=\"text-align: right;\">\n",
       "      <th></th>\n",
       "      <th>0</th>\n",
       "      <th>1</th>\n",
       "      <th>2</th>\n",
       "      <th>3</th>\n",
       "      <th>4</th>\n",
       "      <th>5</th>\n",
       "      <th>6</th>\n",
       "      <th>7</th>\n",
       "      <th>8</th>\n",
       "      <th>9</th>\n",
       "      <th>10</th>\n",
       "      <th>11</th>\n",
       "      <th>12</th>\n",
       "      <th>13</th>\n",
       "      <th>14</th>\n",
       "      <th>y_pred_k_test</th>\n",
       "    </tr>\n",
       "  </thead>\n",
       "  <tbody>\n",
       "    <tr>\n",
       "      <th>0</th>\n",
       "      <td>-3.962535</td>\n",
       "      <td>-2.736434</td>\n",
       "      <td>2.041327</td>\n",
       "      <td>-0.512712</td>\n",
       "      <td>-0.735816</td>\n",
       "      <td>-0.518545</td>\n",
       "      <td>-0.064789</td>\n",
       "      <td>0.073983</td>\n",
       "      <td>-0.021492</td>\n",
       "      <td>-0.075179</td>\n",
       "      <td>0.007313</td>\n",
       "      <td>0.131461</td>\n",
       "      <td>-0.009879</td>\n",
       "      <td>0.003070</td>\n",
       "      <td>0.000712</td>\n",
       "      <td>0</td>\n",
       "    </tr>\n",
       "    <tr>\n",
       "      <th>1</th>\n",
       "      <td>3.875263</td>\n",
       "      <td>-1.341740</td>\n",
       "      <td>0.270718</td>\n",
       "      <td>0.404439</td>\n",
       "      <td>0.386885</td>\n",
       "      <td>-0.073789</td>\n",
       "      <td>-0.030477</td>\n",
       "      <td>-0.058736</td>\n",
       "      <td>0.024310</td>\n",
       "      <td>-0.011301</td>\n",
       "      <td>-0.013291</td>\n",
       "      <td>-0.001454</td>\n",
       "      <td>-0.000479</td>\n",
       "      <td>-0.000357</td>\n",
       "      <td>0.001422</td>\n",
       "      <td>3</td>\n",
       "    </tr>\n",
       "    <tr>\n",
       "      <th>2</th>\n",
       "      <td>-0.828706</td>\n",
       "      <td>1.645336</td>\n",
       "      <td>2.253190</td>\n",
       "      <td>0.245572</td>\n",
       "      <td>0.736420</td>\n",
       "      <td>0.281488</td>\n",
       "      <td>0.080615</td>\n",
       "      <td>0.005777</td>\n",
       "      <td>-0.043774</td>\n",
       "      <td>-0.023832</td>\n",
       "      <td>-0.017988</td>\n",
       "      <td>-0.010742</td>\n",
       "      <td>-0.000780</td>\n",
       "      <td>0.005640</td>\n",
       "      <td>-0.000379</td>\n",
       "      <td>6</td>\n",
       "    </tr>\n",
       "    <tr>\n",
       "      <th>3</th>\n",
       "      <td>5.335197</td>\n",
       "      <td>-2.482509</td>\n",
       "      <td>0.356983</td>\n",
       "      <td>-0.529335</td>\n",
       "      <td>0.187326</td>\n",
       "      <td>-0.364607</td>\n",
       "      <td>0.023944</td>\n",
       "      <td>-0.071568</td>\n",
       "      <td>0.051749</td>\n",
       "      <td>-0.002067</td>\n",
       "      <td>-0.036808</td>\n",
       "      <td>0.003160</td>\n",
       "      <td>-0.000671</td>\n",
       "      <td>0.001385</td>\n",
       "      <td>0.001994</td>\n",
       "      <td>3</td>\n",
       "    </tr>\n",
       "    <tr>\n",
       "      <th>4</th>\n",
       "      <td>-4.464626</td>\n",
       "      <td>3.508267</td>\n",
       "      <td>-0.035685</td>\n",
       "      <td>0.936321</td>\n",
       "      <td>-0.423227</td>\n",
       "      <td>-0.073876</td>\n",
       "      <td>0.307055</td>\n",
       "      <td>-0.018709</td>\n",
       "      <td>0.036999</td>\n",
       "      <td>-0.005901</td>\n",
       "      <td>-0.020027</td>\n",
       "      <td>-0.005881</td>\n",
       "      <td>0.002753</td>\n",
       "      <td>-0.000060</td>\n",
       "      <td>-0.000121</td>\n",
       "      <td>5</td>\n",
       "    </tr>\n",
       "    <tr>\n",
       "      <th>...</th>\n",
       "      <td>...</td>\n",
       "      <td>...</td>\n",
       "      <td>...</td>\n",
       "      <td>...</td>\n",
       "      <td>...</td>\n",
       "      <td>...</td>\n",
       "      <td>...</td>\n",
       "      <td>...</td>\n",
       "      <td>...</td>\n",
       "      <td>...</td>\n",
       "      <td>...</td>\n",
       "      <td>...</td>\n",
       "      <td>...</td>\n",
       "      <td>...</td>\n",
       "      <td>...</td>\n",
       "      <td>...</td>\n",
       "    </tr>\n",
       "    <tr>\n",
       "      <th>2704</th>\n",
       "      <td>-3.612743</td>\n",
       "      <td>-0.720169</td>\n",
       "      <td>-0.094123</td>\n",
       "      <td>0.411704</td>\n",
       "      <td>-0.205501</td>\n",
       "      <td>0.064500</td>\n",
       "      <td>-0.156402</td>\n",
       "      <td>0.000296</td>\n",
       "      <td>0.003106</td>\n",
       "      <td>0.014495</td>\n",
       "      <td>-0.005299</td>\n",
       "      <td>-0.005653</td>\n",
       "      <td>-0.003007</td>\n",
       "      <td>-0.001037</td>\n",
       "      <td>0.001160</td>\n",
       "      <td>4</td>\n",
       "    </tr>\n",
       "    <tr>\n",
       "      <th>2705</th>\n",
       "      <td>3.201685</td>\n",
       "      <td>2.999267</td>\n",
       "      <td>-0.319251</td>\n",
       "      <td>-0.560570</td>\n",
       "      <td>-0.721140</td>\n",
       "      <td>0.035549</td>\n",
       "      <td>0.015422</td>\n",
       "      <td>0.114806</td>\n",
       "      <td>-0.002661</td>\n",
       "      <td>-0.010502</td>\n",
       "      <td>0.012443</td>\n",
       "      <td>-0.003350</td>\n",
       "      <td>-0.000003</td>\n",
       "      <td>0.000404</td>\n",
       "      <td>0.000409</td>\n",
       "      <td>2</td>\n",
       "    </tr>\n",
       "    <tr>\n",
       "      <th>2706</th>\n",
       "      <td>-4.557562</td>\n",
       "      <td>-2.940272</td>\n",
       "      <td>1.953066</td>\n",
       "      <td>-0.591066</td>\n",
       "      <td>-0.539919</td>\n",
       "      <td>-0.315088</td>\n",
       "      <td>-0.113878</td>\n",
       "      <td>0.079909</td>\n",
       "      <td>-0.006042</td>\n",
       "      <td>-0.108276</td>\n",
       "      <td>0.006375</td>\n",
       "      <td>0.153502</td>\n",
       "      <td>-0.009960</td>\n",
       "      <td>-0.007275</td>\n",
       "      <td>0.003800</td>\n",
       "      <td>0</td>\n",
       "    </tr>\n",
       "    <tr>\n",
       "      <th>2707</th>\n",
       "      <td>1.957550</td>\n",
       "      <td>-1.159883</td>\n",
       "      <td>0.844435</td>\n",
       "      <td>-0.352770</td>\n",
       "      <td>0.393230</td>\n",
       "      <td>-0.075952</td>\n",
       "      <td>-0.002790</td>\n",
       "      <td>-0.048959</td>\n",
       "      <td>0.000592</td>\n",
       "      <td>-0.000378</td>\n",
       "      <td>0.005478</td>\n",
       "      <td>-0.004915</td>\n",
       "      <td>-0.000690</td>\n",
       "      <td>0.000354</td>\n",
       "      <td>0.000977</td>\n",
       "      <td>3</td>\n",
       "    </tr>\n",
       "    <tr>\n",
       "      <th>2708</th>\n",
       "      <td>-0.026426</td>\n",
       "      <td>0.965546</td>\n",
       "      <td>-1.057177</td>\n",
       "      <td>0.568647</td>\n",
       "      <td>0.166368</td>\n",
       "      <td>-0.078967</td>\n",
       "      <td>0.002125</td>\n",
       "      <td>-0.039360</td>\n",
       "      <td>-0.023073</td>\n",
       "      <td>-0.000120</td>\n",
       "      <td>0.018781</td>\n",
       "      <td>-0.000667</td>\n",
       "      <td>-0.000129</td>\n",
       "      <td>-0.000170</td>\n",
       "      <td>-0.000507</td>\n",
       "      <td>1</td>\n",
       "    </tr>\n",
       "  </tbody>\n",
       "</table>\n",
       "<p>2709 rows × 16 columns</p>\n",
       "</div>"
      ],
      "text/plain": [
       "             0         1         2         3         4         5         6  \\\n",
       "0    -3.962535 -2.736434  2.041327 -0.512712 -0.735816 -0.518545 -0.064789   \n",
       "1     3.875263 -1.341740  0.270718  0.404439  0.386885 -0.073789 -0.030477   \n",
       "2    -0.828706  1.645336  2.253190  0.245572  0.736420  0.281488  0.080615   \n",
       "3     5.335197 -2.482509  0.356983 -0.529335  0.187326 -0.364607  0.023944   \n",
       "4    -4.464626  3.508267 -0.035685  0.936321 -0.423227 -0.073876  0.307055   \n",
       "...        ...       ...       ...       ...       ...       ...       ...   \n",
       "2704 -3.612743 -0.720169 -0.094123  0.411704 -0.205501  0.064500 -0.156402   \n",
       "2705  3.201685  2.999267 -0.319251 -0.560570 -0.721140  0.035549  0.015422   \n",
       "2706 -4.557562 -2.940272  1.953066 -0.591066 -0.539919 -0.315088 -0.113878   \n",
       "2707  1.957550 -1.159883  0.844435 -0.352770  0.393230 -0.075952 -0.002790   \n",
       "2708 -0.026426  0.965546 -1.057177  0.568647  0.166368 -0.078967  0.002125   \n",
       "\n",
       "             7         8         9        10        11        12        13  \\\n",
       "0     0.073983 -0.021492 -0.075179  0.007313  0.131461 -0.009879  0.003070   \n",
       "1    -0.058736  0.024310 -0.011301 -0.013291 -0.001454 -0.000479 -0.000357   \n",
       "2     0.005777 -0.043774 -0.023832 -0.017988 -0.010742 -0.000780  0.005640   \n",
       "3    -0.071568  0.051749 -0.002067 -0.036808  0.003160 -0.000671  0.001385   \n",
       "4    -0.018709  0.036999 -0.005901 -0.020027 -0.005881  0.002753 -0.000060   \n",
       "...        ...       ...       ...       ...       ...       ...       ...   \n",
       "2704  0.000296  0.003106  0.014495 -0.005299 -0.005653 -0.003007 -0.001037   \n",
       "2705  0.114806 -0.002661 -0.010502  0.012443 -0.003350 -0.000003  0.000404   \n",
       "2706  0.079909 -0.006042 -0.108276  0.006375  0.153502 -0.009960 -0.007275   \n",
       "2707 -0.048959  0.000592 -0.000378  0.005478 -0.004915 -0.000690  0.000354   \n",
       "2708 -0.039360 -0.023073 -0.000120  0.018781 -0.000667 -0.000129 -0.000170   \n",
       "\n",
       "            14  y_pred_k_test  \n",
       "0     0.000712              0  \n",
       "1     0.001422              3  \n",
       "2    -0.000379              6  \n",
       "3     0.001994              3  \n",
       "4    -0.000121              5  \n",
       "...        ...            ...  \n",
       "2704  0.001160              4  \n",
       "2705  0.000409              2  \n",
       "2706  0.003800              0  \n",
       "2707  0.000977              3  \n",
       "2708 -0.000507              1  \n",
       "\n",
       "[2709 rows x 16 columns]"
      ]
     },
     "execution_count": 41,
     "metadata": {},
     "output_type": "execute_result"
    }
   ],
   "source": [
    "clustering = model.fit(X_test_transformed)\n",
    "y_pred_k_test = clustering.labels_\n",
    "y_pred_k_test = pd.DataFrame({'y_pred_k_test':y_pred_k_test})\n",
    "result_x_test = pd.concat([X_test_transformed, y_pred_k_test],axis=1)\n",
    "result_x_test"
   ]
  },
  {
   "cell_type": "code",
   "execution_count": 42,
   "id": "74caf28e",
   "metadata": {
    "execution": {
     "iopub.execute_input": "2022-05-30T21:29:31.055308Z",
     "iopub.status.busy": "2022-05-30T21:29:31.054437Z",
     "iopub.status.idle": "2022-05-30T21:29:31.059434Z",
     "shell.execute_reply": "2022-05-30T21:29:31.058688Z"
    },
    "papermill": {
     "duration": 0.04044,
     "end_time": "2022-05-30T21:29:31.061322",
     "exception": false,
     "start_time": "2022-05-30T21:29:31.020882",
     "status": "completed"
    },
    "tags": []
   },
   "outputs": [],
   "source": [
    "result_x_test.rename(columns={'y_pred_k_test': 15},\n",
    "          inplace=True, errors='raise')"
   ]
  },
  {
   "cell_type": "markdown",
   "id": "ef552bb7",
   "metadata": {
    "papermill": {
     "duration": 0.032035,
     "end_time": "2022-05-30T21:29:31.125690",
     "exception": false,
     "start_time": "2022-05-30T21:29:31.093655",
     "status": "completed"
    },
    "tags": []
   },
   "source": [
    "# LGB"
   ]
  },
  {
   "cell_type": "code",
   "execution_count": 43,
   "id": "2fda0cf0",
   "metadata": {
    "execution": {
     "iopub.execute_input": "2022-05-30T21:29:31.192225Z",
     "iopub.status.busy": "2022-05-30T21:29:31.191350Z",
     "iopub.status.idle": "2022-05-30T21:29:31.759583Z",
     "shell.execute_reply": "2022-05-30T21:29:31.758792Z"
    },
    "papermill": {
     "duration": 0.604072,
     "end_time": "2022-05-30T21:29:31.762090",
     "exception": false,
     "start_time": "2022-05-30T21:29:31.158018",
     "status": "completed"
    },
    "tags": []
   },
   "outputs": [
    {
     "name": "stderr",
     "output_type": "stream",
     "text": [
      "/opt/conda/lib/python3.7/site-packages/sklearn/preprocessing/_label.py:98: DataConversionWarning: A column-vector y was passed when a 1d array was expected. Please change the shape of y to (n_samples, ), for example using ravel().\n",
      "  y = column_or_1d(y, warn=True)\n",
      "/opt/conda/lib/python3.7/site-packages/sklearn/preprocessing/_label.py:133: DataConversionWarning: A column-vector y was passed when a 1d array was expected. Please change the shape of y to (n_samples, ), for example using ravel().\n",
      "  y = column_or_1d(y, warn=True)\n"
     ]
    },
    {
     "data": {
      "text/plain": [
       "LGBMClassifier(max_depth=5, min_child_weight=3, n_estimators=50,\n",
       "               objective='multiclass', random_state=12)"
      ]
     },
     "execution_count": 43,
     "metadata": {},
     "output_type": "execute_result"
    }
   ],
   "source": [
    "lgb_model = LGBMClassifier(objective='multiclass', random_state=12, boosting_type ='gbdt', learning_rate=0.1, n_estimators= 50,max_depth=5,min_child_weight=3)\n",
    "lgb_model.fit(result_x_train, y_train)"
   ]
  },
  {
   "cell_type": "code",
   "execution_count": 44,
   "id": "dc90c91c",
   "metadata": {
    "execution": {
     "iopub.execute_input": "2022-05-30T21:29:31.831141Z",
     "iopub.status.busy": "2022-05-30T21:29:31.830319Z",
     "iopub.status.idle": "2022-05-30T21:29:31.837108Z",
     "shell.execute_reply": "2022-05-30T21:29:31.836115Z"
    },
    "papermill": {
     "duration": 0.043161,
     "end_time": "2022-05-30T21:29:31.839325",
     "exception": false,
     "start_time": "2022-05-30T21:29:31.796164",
     "status": "completed"
    },
    "tags": []
   },
   "outputs": [
    {
     "data": {
      "text/plain": [
       "\"\\nlgb_model2 = LGBMClassifier(objective='multiclass', random_state=42, learning_rate=0.03, reg_alpha=0.0001)\\nlgb_model2.fit(result_x_train, y_train)\\n\""
      ]
     },
     "execution_count": 44,
     "metadata": {},
     "output_type": "execute_result"
    }
   ],
   "source": [
    "\"\"\"\n",
    "lgb_model2 = LGBMClassifier(objective='multiclass', random_state=42, learning_rate=0.03, reg_alpha=0.0001)\n",
    "lgb_model2.fit(result_x_train, y_train)\n",
    "\"\"\""
   ]
  },
  {
   "cell_type": "markdown",
   "id": "3cc301bf",
   "metadata": {
    "papermill": {
     "duration": 0.032967,
     "end_time": "2022-05-30T21:29:31.905418",
     "exception": false,
     "start_time": "2022-05-30T21:29:31.872451",
     "status": "completed"
    },
    "tags": []
   },
   "source": [
    "# Cat"
   ]
  },
  {
   "cell_type": "code",
   "execution_count": 45,
   "id": "e4b6cad0",
   "metadata": {
    "execution": {
     "iopub.execute_input": "2022-05-30T21:29:31.973916Z",
     "iopub.status.busy": "2022-05-30T21:29:31.973508Z",
     "iopub.status.idle": "2022-05-30T21:29:31.979571Z",
     "shell.execute_reply": "2022-05-30T21:29:31.978625Z"
    },
    "papermill": {
     "duration": 0.043478,
     "end_time": "2022-05-30T21:29:31.982107",
     "exception": false,
     "start_time": "2022-05-30T21:29:31.938629",
     "status": "completed"
    },
    "tags": []
   },
   "outputs": [
    {
     "data": {
      "text/plain": [
       "\"\\ncbc = CatBoostClassifier(loss_function= 'MultiClass',eval_metric='Accuracy', verbose=False, task_type='CPU',random_state=42)\\n\\n\\nparams = { 'learning_rate':[0.05],\\n         'depth': [5],\\n         'l2_leaf_reg': [10],\\n          'bagging_temperature':[0.3,0.9]}\\n\\n\\nGrid_CBC = GridSearchCV(estimator=cbc, param_grid = params, cv = 9,refit=True, n_jobs=-1,verbose=3)\\nGrid_CBC.fit(result_x_train, y_train)\\nGrid_CBC_winner = Grid_CBC.best_estimator_\\n\""
      ]
     },
     "execution_count": 45,
     "metadata": {},
     "output_type": "execute_result"
    }
   ],
   "source": [
    "\"\"\"\n",
    "cbc = CatBoostClassifier(loss_function= 'MultiClass',eval_metric='Accuracy', verbose=False, task_type='CPU',random_state=42)\n",
    "\n",
    "\n",
    "params = { 'learning_rate':[0.05],\n",
    "         'depth': [5],\n",
    "         'l2_leaf_reg': [10],\n",
    "          'bagging_temperature':[0.3,0.9]}\n",
    "\n",
    "\n",
    "Grid_CBC = GridSearchCV(estimator=cbc, param_grid = params, cv = 9,refit=True, n_jobs=-1,verbose=3)\n",
    "Grid_CBC.fit(result_x_train, y_train)\n",
    "Grid_CBC_winner = Grid_CBC.best_estimator_\n",
    "\"\"\""
   ]
  },
  {
   "cell_type": "code",
   "execution_count": 46,
   "id": "7aa98463",
   "metadata": {
    "execution": {
     "iopub.execute_input": "2022-05-30T21:29:32.049507Z",
     "iopub.status.busy": "2022-05-30T21:29:32.048911Z",
     "iopub.status.idle": "2022-05-30T21:29:32.053177Z",
     "shell.execute_reply": "2022-05-30T21:29:32.052409Z"
    },
    "papermill": {
     "duration": 0.040593,
     "end_time": "2022-05-30T21:29:32.055359",
     "exception": false,
     "start_time": "2022-05-30T21:29:32.014766",
     "status": "completed"
    },
    "tags": []
   },
   "outputs": [],
   "source": [
    "#Grid_CBC_winner.get_params()"
   ]
  },
  {
   "cell_type": "code",
   "execution_count": 47,
   "id": "eb7d4e30",
   "metadata": {
    "execution": {
     "iopub.execute_input": "2022-05-30T21:29:32.123688Z",
     "iopub.status.busy": "2022-05-30T21:29:32.123258Z",
     "iopub.status.idle": "2022-05-30T21:29:32.128485Z",
     "shell.execute_reply": "2022-05-30T21:29:32.127781Z"
    },
    "papermill": {
     "duration": 0.041781,
     "end_time": "2022-05-30T21:29:32.130570",
     "exception": false,
     "start_time": "2022-05-30T21:29:32.088789",
     "status": "completed"
    },
    "tags": []
   },
   "outputs": [
    {
     "data": {
      "text/plain": [
       "\"\\nGrid_CBC_winner = CatBoostClassifier(loss_function= 'MultiClass',eval_metric='Accuracy', verbose=False, task_type='CPU',random_state=42,\\n                        learning_rate= 0.05,depth= 5,l2_leaf_reg= 10,bagging_temperature= 0.3)\\nGrid_CBC_winner.fit(result_x_train, y_train)\\n\""
      ]
     },
     "execution_count": 47,
     "metadata": {},
     "output_type": "execute_result"
    }
   ],
   "source": [
    "\"\"\"\n",
    "Grid_CBC_winner = CatBoostClassifier(loss_function= 'MultiClass',eval_metric='Accuracy', verbose=False, task_type='CPU',random_state=42,\n",
    "                        learning_rate= 0.05,depth= 5,l2_leaf_reg= 10,bagging_temperature= 0.3)\n",
    "Grid_CBC_winner.fit(result_x_train, y_train)\n",
    "\"\"\""
   ]
  },
  {
   "cell_type": "markdown",
   "id": "488c8fa8",
   "metadata": {
    "papermill": {
     "duration": 0.032514,
     "end_time": "2022-05-30T21:29:32.195979",
     "exception": false,
     "start_time": "2022-05-30T21:29:32.163465",
     "status": "completed"
    },
    "tags": []
   },
   "source": [
    "# Logistic regression"
   ]
  },
  {
   "cell_type": "code",
   "execution_count": 48,
   "id": "fd9457c1",
   "metadata": {
    "execution": {
     "iopub.execute_input": "2022-05-30T21:29:32.263224Z",
     "iopub.status.busy": "2022-05-30T21:29:32.262852Z",
     "iopub.status.idle": "2022-05-30T21:29:32.268214Z",
     "shell.execute_reply": "2022-05-30T21:29:32.267538Z"
    },
    "papermill": {
     "duration": 0.041626,
     "end_time": "2022-05-30T21:29:32.270369",
     "exception": false,
     "start_time": "2022-05-30T21:29:32.228743",
     "status": "completed"
    },
    "tags": []
   },
   "outputs": [
    {
     "data": {
      "text/plain": [
       "'\\nstart = time.time()\\nprint(\"hello\")\\n\\nparam_log = {\\'C\\':[0.01,0.1,1,10],\\n             \\'penalty\\':[\\'l1\\', \\'l2\\', \\'elasticnet\\', \\'none\\'],\\n              \\'solver\\':[\\'newton-cg\\', \\'lbfgs\\', \\'liblinear\\', \\'sag\\', \\'saga\\']}\\nlog = LogisticRegression(random_state=0)\\n\\nlog_gs = GridSearchCV(estimator = log,\\n                      param_grid = param_log, cv = 9, scoring=\\'accuracy\\',verbose=3)\\nlog_gs.fit(result_x_train, y_train)\\nlog_gs_winner = log_gs.best_estimator_\\nend = time.time()\\nprint(end - start)\\n'"
      ]
     },
     "execution_count": 48,
     "metadata": {},
     "output_type": "execute_result"
    }
   ],
   "source": [
    "\"\"\"\n",
    "start = time.time()\n",
    "print(\"hello\")\n",
    "\n",
    "param_log = {'C':[0.01,0.1,1,10],\n",
    "             'penalty':['l1', 'l2', 'elasticnet', 'none'],\n",
    "              'solver':['newton-cg', 'lbfgs', 'liblinear', 'sag', 'saga']}\n",
    "log = LogisticRegression(random_state=0)\n",
    "\n",
    "log_gs = GridSearchCV(estimator = log,\n",
    "                      param_grid = param_log, cv = 9, scoring='accuracy',verbose=3)\n",
    "log_gs.fit(result_x_train, y_train)\n",
    "log_gs_winner = log_gs.best_estimator_\n",
    "end = time.time()\n",
    "print(end - start)\n",
    "\"\"\""
   ]
  },
  {
   "cell_type": "code",
   "execution_count": 49,
   "id": "48c89029",
   "metadata": {
    "execution": {
     "iopub.execute_input": "2022-05-30T21:29:32.338156Z",
     "iopub.status.busy": "2022-05-30T21:29:32.337787Z",
     "iopub.status.idle": "2022-05-30T21:29:32.341436Z",
     "shell.execute_reply": "2022-05-30T21:29:32.340467Z"
    },
    "papermill": {
     "duration": 0.04015,
     "end_time": "2022-05-30T21:29:32.343565",
     "exception": false,
     "start_time": "2022-05-30T21:29:32.303415",
     "status": "completed"
    },
    "tags": []
   },
   "outputs": [],
   "source": [
    "#log_gs_winner"
   ]
  },
  {
   "cell_type": "markdown",
   "id": "58567837",
   "metadata": {
    "papermill": {
     "duration": 0.032841,
     "end_time": "2022-05-30T21:29:32.409462",
     "exception": false,
     "start_time": "2022-05-30T21:29:32.376621",
     "status": "completed"
    },
    "tags": []
   },
   "source": [
    "# Logistic_Winner"
   ]
  },
  {
   "cell_type": "code",
   "execution_count": 50,
   "id": "4be5a7ff",
   "metadata": {
    "execution": {
     "iopub.execute_input": "2022-05-30T21:29:32.476868Z",
     "iopub.status.busy": "2022-05-30T21:29:32.476499Z",
     "iopub.status.idle": "2022-05-30T21:30:02.469141Z",
     "shell.execute_reply": "2022-05-30T21:30:02.467892Z"
    },
    "papermill": {
     "duration": 30.034172,
     "end_time": "2022-05-30T21:30:02.476544",
     "exception": false,
     "start_time": "2022-05-30T21:29:32.442372",
     "status": "completed"
    },
    "tags": []
   },
   "outputs": [
    {
     "name": "stderr",
     "output_type": "stream",
     "text": [
      "/opt/conda/lib/python3.7/site-packages/sklearn/linear_model/_logistic.py:1484: UserWarning: Setting penalty='none' will ignore the C and l1_ratio parameters\n",
      "  \"Setting penalty='none' will ignore the C and l1_ratio parameters\"\n",
      "/opt/conda/lib/python3.7/site-packages/sklearn/utils/validation.py:993: DataConversionWarning: A column-vector y was passed when a 1d array was expected. Please change the shape of y to (n_samples, ), for example using ravel().\n",
      "  y = column_or_1d(y, warn=True)\n",
      "/opt/conda/lib/python3.7/site-packages/sklearn/utils/optimize.py:212: ConvergenceWarning: newton-cg failed to converge. Increase the number of iterations.\n",
      "  ConvergenceWarning,\n"
     ]
    },
    {
     "data": {
      "text/plain": [
       "LogisticRegression(C=0.01, penalty='none', random_state=0, solver='newton-cg')"
      ]
     },
     "execution_count": 50,
     "metadata": {},
     "output_type": "execute_result"
    }
   ],
   "source": [
    "log_gs_winner = LogisticRegression(C=0.01, penalty='none', random_state=0, solver='newton-cg')\n",
    "log_gs_winner.fit(result_x_train, y_train)"
   ]
  },
  {
   "cell_type": "markdown",
   "id": "90ea4bb1",
   "metadata": {
    "papermill": {
     "duration": 0.053224,
     "end_time": "2022-05-30T21:30:02.604654",
     "exception": false,
     "start_time": "2022-05-30T21:30:02.551430",
     "status": "completed"
    },
    "tags": []
   },
   "source": [
    "# Decicision Tree"
   ]
  },
  {
   "cell_type": "code",
   "execution_count": 51,
   "id": "0def8459",
   "metadata": {
    "execution": {
     "iopub.execute_input": "2022-05-30T21:30:02.680455Z",
     "iopub.status.busy": "2022-05-30T21:30:02.680036Z",
     "iopub.status.idle": "2022-05-30T21:30:02.687130Z",
     "shell.execute_reply": "2022-05-30T21:30:02.686155Z"
    },
    "papermill": {
     "duration": 0.047094,
     "end_time": "2022-05-30T21:30:02.689214",
     "exception": false,
     "start_time": "2022-05-30T21:30:02.642120",
     "status": "completed"
    },
    "tags": []
   },
   "outputs": [
    {
     "data": {
      "text/plain": [
       "'\\nclf = tree.DecisionTreeClassifier()\\nclf = clf.fit(result_x_train, y_train)\\n'"
      ]
     },
     "execution_count": 51,
     "metadata": {},
     "output_type": "execute_result"
    }
   ],
   "source": [
    "\"\"\"\n",
    "clf = tree.DecisionTreeClassifier()\n",
    "clf = clf.fit(result_x_train, y_train)\n",
    "\"\"\""
   ]
  },
  {
   "cell_type": "code",
   "execution_count": 52,
   "id": "11fb59a3",
   "metadata": {
    "execution": {
     "iopub.execute_input": "2022-05-30T21:30:02.762296Z",
     "iopub.status.busy": "2022-05-30T21:30:02.761637Z",
     "iopub.status.idle": "2022-05-30T21:30:02.769581Z",
     "shell.execute_reply": "2022-05-30T21:30:02.768426Z"
    },
    "papermill": {
     "duration": 0.048048,
     "end_time": "2022-05-30T21:30:02.772195",
     "exception": false,
     "start_time": "2022-05-30T21:30:02.724147",
     "status": "completed"
    },
    "scrolled": true,
    "tags": []
   },
   "outputs": [
    {
     "data": {
      "text/plain": [
       "\"\\nmin_samples_in_split = [10,15,20]#,100,500]\\nmax_depth = [8,10,12]#,20,30,40,clf.get_depth()]\\nmax_leafs = [80,100]#,100,1000,10000,15000,20000] 5,10\\nmax_leafs = list(max_leafs)\\nmin_samples_leaf = [1,3]\\n#max_leafs.extend([None]) \\ncriterion = ['entropy','gini']\\n\\nDec_Tree_parameters = {'max_depth': max_depth,\\n                  'min_samples_split': min_samples_in_split,\\n                  'max_leaf_nodes': max_leafs,\\n                  'criterion': criterion,\\n                  'min_samples_leaf': min_samples_leaf\\n                }\\nclf_dec_tree = tree.DecisionTreeClassifier()\\nclf_dec_tree_gs = GridSearchCV(estimator = clf_dec_tree,\\n                      param_grid = Dec_Tree_parameters, cv = 8, scoring='accuracy',verbose=3)\\nclf_dec_tree_gs.fit(result_x_train, y_train)\\n\""
      ]
     },
     "execution_count": 52,
     "metadata": {},
     "output_type": "execute_result"
    }
   ],
   "source": [
    "\"\"\"\n",
    "min_samples_in_split = [10,15,20]#,100,500]\n",
    "max_depth = [8,10,12]#,20,30,40,clf.get_depth()]\n",
    "max_leafs = [80,100]#,100,1000,10000,15000,20000] 5,10\n",
    "max_leafs = list(max_leafs)\n",
    "min_samples_leaf = [1,3]\n",
    "#max_leafs.extend([None]) \n",
    "criterion = ['entropy','gini']\n",
    "\n",
    "Dec_Tree_parameters = {'max_depth': max_depth,\n",
    "                  'min_samples_split': min_samples_in_split,\n",
    "                  'max_leaf_nodes': max_leafs,\n",
    "                  'criterion': criterion,\n",
    "                  'min_samples_leaf': min_samples_leaf\n",
    "                }\n",
    "clf_dec_tree = tree.DecisionTreeClassifier()\n",
    "clf_dec_tree_gs = GridSearchCV(estimator = clf_dec_tree,\n",
    "                      param_grid = Dec_Tree_parameters, cv = 8, scoring='accuracy',verbose=3)\n",
    "clf_dec_tree_gs.fit(result_x_train, y_train)\n",
    "\"\"\"\n"
   ]
  },
  {
   "cell_type": "code",
   "execution_count": 53,
   "id": "82fe25c1",
   "metadata": {
    "execution": {
     "iopub.execute_input": "2022-05-30T21:30:02.845911Z",
     "iopub.status.busy": "2022-05-30T21:30:02.845270Z",
     "iopub.status.idle": "2022-05-30T21:30:02.849884Z",
     "shell.execute_reply": "2022-05-30T21:30:02.849014Z"
    },
    "papermill": {
     "duration": 0.043134,
     "end_time": "2022-05-30T21:30:02.852188",
     "exception": false,
     "start_time": "2022-05-30T21:30:02.809054",
     "status": "completed"
    },
    "tags": []
   },
   "outputs": [],
   "source": [
    "#clf_dec_tree_winner = clf_dec_tree_gs.best_estimator_"
   ]
  },
  {
   "cell_type": "code",
   "execution_count": 54,
   "id": "61a580c4",
   "metadata": {
    "execution": {
     "iopub.execute_input": "2022-05-30T21:30:02.924157Z",
     "iopub.status.busy": "2022-05-30T21:30:02.923572Z",
     "iopub.status.idle": "2022-05-30T21:30:02.927760Z",
     "shell.execute_reply": "2022-05-30T21:30:02.927035Z"
    },
    "papermill": {
     "duration": 0.042451,
     "end_time": "2022-05-30T21:30:02.929832",
     "exception": false,
     "start_time": "2022-05-30T21:30:02.887381",
     "status": "completed"
    },
    "scrolled": true,
    "tags": []
   },
   "outputs": [],
   "source": [
    "#clf_dec_tree_winner"
   ]
  },
  {
   "cell_type": "code",
   "execution_count": 55,
   "id": "62477c43",
   "metadata": {
    "execution": {
     "iopub.execute_input": "2022-05-30T21:30:03.002474Z",
     "iopub.status.busy": "2022-05-30T21:30:03.001859Z",
     "iopub.status.idle": "2022-05-30T21:30:03.006701Z",
     "shell.execute_reply": "2022-05-30T21:30:03.005531Z"
    },
    "papermill": {
     "duration": 0.044083,
     "end_time": "2022-05-30T21:30:03.009092",
     "exception": false,
     "start_time": "2022-05-30T21:30:02.965009",
     "status": "completed"
    },
    "tags": []
   },
   "outputs": [],
   "source": [
    "#clf_dec_tree_winner.get_params()"
   ]
  },
  {
   "cell_type": "markdown",
   "id": "73293583",
   "metadata": {
    "papermill": {
     "duration": 0.034643,
     "end_time": "2022-05-30T21:30:03.079071",
     "exception": false,
     "start_time": "2022-05-30T21:30:03.044428",
     "status": "completed"
    },
    "tags": []
   },
   "source": [
    "# Gboost"
   ]
  },
  {
   "cell_type": "code",
   "execution_count": 56,
   "id": "d7c4237e",
   "metadata": {
    "execution": {
     "iopub.execute_input": "2022-05-30T21:30:03.151728Z",
     "iopub.status.busy": "2022-05-30T21:30:03.151010Z",
     "iopub.status.idle": "2022-05-30T21:30:03.158099Z",
     "shell.execute_reply": "2022-05-30T21:30:03.157177Z"
    },
    "papermill": {
     "duration": 0.046168,
     "end_time": "2022-05-30T21:30:03.160268",
     "exception": false,
     "start_time": "2022-05-30T21:30:03.114100",
     "status": "completed"
    },
    "scrolled": true,
    "tags": []
   },
   "outputs": [
    {
     "data": {
      "text/plain": [
       "'\\nstart = time.time()\\nprint(\"hello\")\\n\\nparam_grid_gBoost_d = {\\'max_depth\\':[12], #15\\n              \\'min_samples_leaf\\':[3,5], #20\\n              \\'min_samples_split\\': [15,20],\\n              \\'max_leaf_nodes\\':[80],\\n              \\'n_estimators\\':[75],\\n              \\'learning_rate\\':[0.1]}\\n\\nGboost = GradientBoostingClassifier(random_state=0)\\n\\nGboost_gs = GridSearchCV(estimator = Gboost,\\n                      param_grid = param_grid_gBoost_d, cv = 9, scoring=\\'accuracy\\',verbose=4)\\nGboost_gs.fit(result_x_train, y_train)\\nGboost_gs_winner = Gboost_gs.best_estimator_\\nend = time.time()\\nprint(end - start)\\n'"
      ]
     },
     "execution_count": 56,
     "metadata": {},
     "output_type": "execute_result"
    }
   ],
   "source": [
    "\"\"\"\n",
    "start = time.time()\n",
    "print(\"hello\")\n",
    "\n",
    "param_grid_gBoost_d = {'max_depth':[12], #15\n",
    "              'min_samples_leaf':[3,5], #20\n",
    "              'min_samples_split': [15,20],\n",
    "              'max_leaf_nodes':[80],\n",
    "              'n_estimators':[75],\n",
    "              'learning_rate':[0.1]}\n",
    "\n",
    "Gboost = GradientBoostingClassifier(random_state=0)\n",
    "\n",
    "Gboost_gs = GridSearchCV(estimator = Gboost,\n",
    "                      param_grid = param_grid_gBoost_d, cv = 9, scoring='accuracy',verbose=4)\n",
    "Gboost_gs.fit(result_x_train, y_train)\n",
    "Gboost_gs_winner = Gboost_gs.best_estimator_\n",
    "end = time.time()\n",
    "print(end - start)\n",
    "\"\"\""
   ]
  },
  {
   "cell_type": "code",
   "execution_count": 57,
   "id": "42fd9e98",
   "metadata": {
    "execution": {
     "iopub.execute_input": "2022-05-30T21:30:03.233621Z",
     "iopub.status.busy": "2022-05-30T21:30:03.233157Z",
     "iopub.status.idle": "2022-05-30T21:30:03.239592Z",
     "shell.execute_reply": "2022-05-30T21:30:03.238381Z"
    },
    "papermill": {
     "duration": 0.047517,
     "end_time": "2022-05-30T21:30:03.242001",
     "exception": false,
     "start_time": "2022-05-30T21:30:03.194484",
     "status": "completed"
    },
    "scrolled": true,
    "tags": []
   },
   "outputs": [],
   "source": [
    "#Gboost_gs_winner"
   ]
  },
  {
   "cell_type": "code",
   "execution_count": 58,
   "id": "85f9d1d6",
   "metadata": {
    "execution": {
     "iopub.execute_input": "2022-05-30T21:30:03.317169Z",
     "iopub.status.busy": "2022-05-30T21:30:03.316785Z",
     "iopub.status.idle": "2022-05-30T21:30:03.321228Z",
     "shell.execute_reply": "2022-05-30T21:30:03.320063Z"
    },
    "papermill": {
     "duration": 0.044479,
     "end_time": "2022-05-30T21:30:03.323413",
     "exception": false,
     "start_time": "2022-05-30T21:30:03.278934",
     "status": "completed"
    },
    "tags": []
   },
   "outputs": [],
   "source": [
    "#Gboost_gs_winner.get_params()"
   ]
  },
  {
   "cell_type": "markdown",
   "id": "93469840",
   "metadata": {
    "papermill": {
     "duration": 0.034965,
     "end_time": "2022-05-30T21:30:03.395265",
     "exception": false,
     "start_time": "2022-05-30T21:30:03.360300",
     "status": "completed"
    },
    "tags": []
   },
   "source": [
    "# Gboost_Winner"
   ]
  },
  {
   "cell_type": "code",
   "execution_count": 59,
   "id": "741ab4ae",
   "metadata": {
    "execution": {
     "iopub.execute_input": "2022-05-30T21:30:03.470498Z",
     "iopub.status.busy": "2022-05-30T21:30:03.469877Z",
     "iopub.status.idle": "2022-05-30T21:31:27.974985Z",
     "shell.execute_reply": "2022-05-30T21:31:27.973999Z"
    },
    "papermill": {
     "duration": 84.582065,
     "end_time": "2022-05-30T21:31:28.012819",
     "exception": false,
     "start_time": "2022-05-30T21:30:03.430754",
     "status": "completed"
    },
    "tags": []
   },
   "outputs": [
    {
     "name": "stderr",
     "output_type": "stream",
     "text": [
      "/opt/conda/lib/python3.7/site-packages/sklearn/ensemble/_gb.py:494: DataConversionWarning: A column-vector y was passed when a 1d array was expected. Please change the shape of y to (n_samples, ), for example using ravel().\n",
      "  y = column_or_1d(y, warn=True)\n"
     ]
    },
    {
     "data": {
      "text/plain": [
       "GradientBoostingClassifier(max_depth=12, max_leaf_nodes=80, min_samples_leaf=5,\n",
       "                           min_samples_split=20, n_estimators=75,\n",
       "                           random_state=0)"
      ]
     },
     "execution_count": 59,
     "metadata": {},
     "output_type": "execute_result"
    }
   ],
   "source": [
    "Gboost_gs_winner = GradientBoostingClassifier(max_depth=12, max_leaf_nodes=80, min_samples_leaf=5,\n",
    "                           min_samples_split=20, n_estimators=75,\n",
    "                           random_state=0)\n",
    "Gboost_gs_winner.fit(result_x_train, y_train)"
   ]
  },
  {
   "cell_type": "markdown",
   "id": "badad11c",
   "metadata": {
    "papermill": {
     "duration": 0.034766,
     "end_time": "2022-05-30T21:31:28.083585",
     "exception": false,
     "start_time": "2022-05-30T21:31:28.048819",
     "status": "completed"
    },
    "tags": []
   },
   "source": [
    "# Adaboost"
   ]
  },
  {
   "cell_type": "code",
   "execution_count": 60,
   "id": "627ac149",
   "metadata": {
    "execution": {
     "iopub.execute_input": "2022-05-30T21:31:28.154992Z",
     "iopub.status.busy": "2022-05-30T21:31:28.154557Z",
     "iopub.status.idle": "2022-05-30T21:31:28.161426Z",
     "shell.execute_reply": "2022-05-30T21:31:28.160688Z"
    },
    "papermill": {
     "duration": 0.045322,
     "end_time": "2022-05-30T21:31:28.163647",
     "exception": false,
     "start_time": "2022-05-30T21:31:28.118325",
     "status": "completed"
    },
    "scrolled": true,
    "tags": []
   },
   "outputs": [
    {
     "data": {
      "text/plain": [
       "'\\nstart = time.time()\\nprint(\"hello\")\\n\\nparam_grid_AdaBoost_d = {\\'base_estimator__max_depth\\':[20,25,30], #15\\n              \\'base_estimator__min_samples_leaf\\':[30,35], #20\\n              \\'base_estimator__min_samples_split\\': [20],\\n              \\'base_estimator__criterion\\':[\\'gini\\',\\'entropy\\'],\\n              \\'base_estimator__max_leaf_nodes\\':[150,170],\\n              \\'n_estimators\\':[75],\\n              \\'learning_rate\\':[0.01]}\\n\\n\\nAdaBoost = AdaBoostClassifier(base_estimator=tree.DecisionTreeClassifier(), random_state=0)\\n\\nAdaBoost_gs = GridSearchCV(estimator = AdaBoost,\\n                      param_grid = param_grid_AdaBoost_d, cv = 9, scoring=\\'accuracy\\',verbose=3)\\nAdaBoost_gs.fit(result_x_train, y_train)\\nAdaBoost_gs_winner = AdaBoost_gs.best_estimator_\\nend = time.time()\\nprint(end - start)\\n'"
      ]
     },
     "execution_count": 60,
     "metadata": {},
     "output_type": "execute_result"
    }
   ],
   "source": [
    "\"\"\"\n",
    "start = time.time()\n",
    "print(\"hello\")\n",
    "\n",
    "param_grid_AdaBoost_d = {'base_estimator__max_depth':[20,25,30], #15\n",
    "              'base_estimator__min_samples_leaf':[30,35], #20\n",
    "              'base_estimator__min_samples_split': [20],\n",
    "              'base_estimator__criterion':['gini','entropy'],\n",
    "              'base_estimator__max_leaf_nodes':[150,170],\n",
    "              'n_estimators':[75],\n",
    "              'learning_rate':[0.01]}\n",
    "\n",
    "\n",
    "AdaBoost = AdaBoostClassifier(base_estimator=tree.DecisionTreeClassifier(), random_state=0)\n",
    "\n",
    "AdaBoost_gs = GridSearchCV(estimator = AdaBoost,\n",
    "                      param_grid = param_grid_AdaBoost_d, cv = 9, scoring='accuracy',verbose=3)\n",
    "AdaBoost_gs.fit(result_x_train, y_train)\n",
    "AdaBoost_gs_winner = AdaBoost_gs.best_estimator_\n",
    "end = time.time()\n",
    "print(end - start)\n",
    "\"\"\""
   ]
  },
  {
   "cell_type": "code",
   "execution_count": 61,
   "id": "603b7ffb",
   "metadata": {
    "execution": {
     "iopub.execute_input": "2022-05-30T21:31:28.236725Z",
     "iopub.status.busy": "2022-05-30T21:31:28.236117Z",
     "iopub.status.idle": "2022-05-30T21:31:28.240097Z",
     "shell.execute_reply": "2022-05-30T21:31:28.239434Z"
    },
    "papermill": {
     "duration": 0.042654,
     "end_time": "2022-05-30T21:31:28.241951",
     "exception": false,
     "start_time": "2022-05-30T21:31:28.199297",
     "status": "completed"
    },
    "tags": []
   },
   "outputs": [],
   "source": [
    "#AdaBoost_gs_winner"
   ]
  },
  {
   "cell_type": "code",
   "execution_count": 62,
   "id": "14a55198",
   "metadata": {
    "execution": {
     "iopub.execute_input": "2022-05-30T21:31:28.313992Z",
     "iopub.status.busy": "2022-05-30T21:31:28.313442Z",
     "iopub.status.idle": "2022-05-30T21:31:28.317256Z",
     "shell.execute_reply": "2022-05-30T21:31:28.316123Z"
    },
    "papermill": {
     "duration": 0.041862,
     "end_time": "2022-05-30T21:31:28.319726",
     "exception": false,
     "start_time": "2022-05-30T21:31:28.277864",
     "status": "completed"
    },
    "tags": []
   },
   "outputs": [],
   "source": [
    "#AdaBoost_gs_winner.get_params()"
   ]
  },
  {
   "cell_type": "markdown",
   "id": "f9fae151",
   "metadata": {
    "papermill": {
     "duration": 0.034057,
     "end_time": "2022-05-30T21:31:28.388967",
     "exception": false,
     "start_time": "2022-05-30T21:31:28.354910",
     "status": "completed"
    },
    "tags": []
   },
   "source": [
    "# AdaBoost Winner"
   ]
  },
  {
   "cell_type": "code",
   "execution_count": 63,
   "id": "90d0b327",
   "metadata": {
    "execution": {
     "iopub.execute_input": "2022-05-30T21:31:28.458842Z",
     "iopub.status.busy": "2022-05-30T21:31:28.458156Z",
     "iopub.status.idle": "2022-05-30T21:31:42.237118Z",
     "shell.execute_reply": "2022-05-30T21:31:42.235915Z"
    },
    "papermill": {
     "duration": 13.816734,
     "end_time": "2022-05-30T21:31:42.239608",
     "exception": false,
     "start_time": "2022-05-30T21:31:28.422874",
     "status": "completed"
    },
    "tags": []
   },
   "outputs": [
    {
     "name": "stderr",
     "output_type": "stream",
     "text": [
      "/opt/conda/lib/python3.7/site-packages/sklearn/utils/validation.py:993: DataConversionWarning: A column-vector y was passed when a 1d array was expected. Please change the shape of y to (n_samples, ), for example using ravel().\n",
      "  y = column_or_1d(y, warn=True)\n"
     ]
    },
    {
     "data": {
      "text/plain": [
       "AdaBoostClassifier(base_estimator=DecisionTreeClassifier(max_depth=25,\n",
       "                                                         max_leaf_nodes=150,\n",
       "                                                         min_samples_leaf=35,\n",
       "                                                         min_samples_split=20),\n",
       "                   learning_rate=0.01, n_estimators=75, random_state=0)"
      ]
     },
     "execution_count": 63,
     "metadata": {},
     "output_type": "execute_result"
    }
   ],
   "source": [
    "AdaBoost_gs_winner = AdaBoostClassifier(base_estimator=tree.DecisionTreeClassifier(max_depth=25,\n",
    "                                                         max_leaf_nodes=150,\n",
    "                                                         min_samples_leaf=35,\n",
    "                                                         min_samples_split=20),\n",
    "                   learning_rate=0.01, n_estimators=75, random_state=0)\n",
    "AdaBoost_gs_winner.fit(result_x_train, y_train)"
   ]
  },
  {
   "cell_type": "markdown",
   "id": "233d5bb2",
   "metadata": {
    "papermill": {
     "duration": 0.035302,
     "end_time": "2022-05-30T21:31:42.309981",
     "exception": false,
     "start_time": "2022-05-30T21:31:42.274679",
     "status": "completed"
    },
    "tags": []
   },
   "source": [
    "# SVM"
   ]
  },
  {
   "cell_type": "code",
   "execution_count": 64,
   "id": "3fcc8a5e",
   "metadata": {
    "execution": {
     "iopub.execute_input": "2022-05-30T21:31:42.383582Z",
     "iopub.status.busy": "2022-05-30T21:31:42.383148Z",
     "iopub.status.idle": "2022-05-30T21:31:42.389639Z",
     "shell.execute_reply": "2022-05-30T21:31:42.388947Z"
    },
    "papermill": {
     "duration": 0.046345,
     "end_time": "2022-05-30T21:31:42.391582",
     "exception": false,
     "start_time": "2022-05-30T21:31:42.345237",
     "status": "completed"
    },
    "scrolled": true,
    "tags": []
   },
   "outputs": [
    {
     "data": {
      "text/plain": [
       "'\\nstart = time.time()\\nprint(\"hello\")\\n\\nparam_svc = {\\'C\\':[0.01,0.1,1,10],\\n              \\'kernel\\':[\\'linear\\', \\'poly\\', \\'rbf\\', \\'sigmoid\\']}\\nsvc = SVC()\\n\\nsvc_gs = GridSearchCV(estimator = svc,\\n                      param_grid = param_svc, cv = 9, scoring=\\'accuracy\\',verbose=3)\\nsvc_gs.fit(result_x_train, y_train)\\nsvc_gs_winner = svc_gs.best_estimator_\\nend = time.time()\\nprint(end - start)\\n'"
      ]
     },
     "execution_count": 64,
     "metadata": {},
     "output_type": "execute_result"
    }
   ],
   "source": [
    "\"\"\"\n",
    "start = time.time()\n",
    "print(\"hello\")\n",
    "\n",
    "param_svc = {'C':[0.01,0.1,1,10],\n",
    "              'kernel':['linear', 'poly', 'rbf', 'sigmoid']}\n",
    "svc = SVC()\n",
    "\n",
    "svc_gs = GridSearchCV(estimator = svc,\n",
    "                      param_grid = param_svc, cv = 9, scoring='accuracy',verbose=3)\n",
    "svc_gs.fit(result_x_train, y_train)\n",
    "svc_gs_winner = svc_gs.best_estimator_\n",
    "end = time.time()\n",
    "print(end - start)\n",
    "\"\"\""
   ]
  },
  {
   "cell_type": "code",
   "execution_count": 65,
   "id": "c716daf4",
   "metadata": {
    "execution": {
     "iopub.execute_input": "2022-05-30T21:31:42.467011Z",
     "iopub.status.busy": "2022-05-30T21:31:42.466194Z",
     "iopub.status.idle": "2022-05-30T21:31:42.470889Z",
     "shell.execute_reply": "2022-05-30T21:31:42.469840Z"
    },
    "papermill": {
     "duration": 0.045006,
     "end_time": "2022-05-30T21:31:42.472964",
     "exception": false,
     "start_time": "2022-05-30T21:31:42.427958",
     "status": "completed"
    },
    "tags": []
   },
   "outputs": [],
   "source": [
    "#svc_gs_winner"
   ]
  },
  {
   "cell_type": "code",
   "execution_count": 66,
   "id": "eeedba12",
   "metadata": {
    "execution": {
     "iopub.execute_input": "2022-05-30T21:31:42.556208Z",
     "iopub.status.busy": "2022-05-30T21:31:42.555348Z",
     "iopub.status.idle": "2022-05-30T21:31:42.732042Z",
     "shell.execute_reply": "2022-05-30T21:31:42.729892Z"
    },
    "papermill": {
     "duration": 0.221293,
     "end_time": "2022-05-30T21:31:42.735414",
     "exception": false,
     "start_time": "2022-05-30T21:31:42.514121",
     "status": "completed"
    },
    "scrolled": true,
    "tags": []
   },
   "outputs": [],
   "source": [
    "predict_test_models = pd.DataFrame({'AdaBoost_gs_winner':AdaBoost_gs_winner.predict(result_x_test),'Gboost_gs_winner':Gboost_gs_winner.predict(result_x_test),\n",
    "                                    'log_gs_winner':log_gs_winner.predict(result_x_test)})"
   ]
  },
  {
   "cell_type": "code",
   "execution_count": 67,
   "id": "cc30e24b",
   "metadata": {
    "execution": {
     "iopub.execute_input": "2022-05-30T21:31:42.893009Z",
     "iopub.status.busy": "2022-05-30T21:31:42.891849Z",
     "iopub.status.idle": "2022-05-30T21:31:42.906089Z",
     "shell.execute_reply": "2022-05-30T21:31:42.905124Z"
    },
    "papermill": {
     "duration": 0.063528,
     "end_time": "2022-05-30T21:31:42.908525",
     "exception": false,
     "start_time": "2022-05-30T21:31:42.844997",
     "status": "completed"
    },
    "tags": []
   },
   "outputs": [
    {
     "data": {
      "text/html": [
       "<div>\n",
       "<style scoped>\n",
       "    .dataframe tbody tr th:only-of-type {\n",
       "        vertical-align: middle;\n",
       "    }\n",
       "\n",
       "    .dataframe tbody tr th {\n",
       "        vertical-align: top;\n",
       "    }\n",
       "\n",
       "    .dataframe thead th {\n",
       "        text-align: right;\n",
       "    }\n",
       "</style>\n",
       "<table border=\"1\" class=\"dataframe\">\n",
       "  <thead>\n",
       "    <tr style=\"text-align: right;\">\n",
       "      <th></th>\n",
       "      <th>AdaBoost_gs_winner</th>\n",
       "      <th>Gboost_gs_winner</th>\n",
       "      <th>log_gs_winner</th>\n",
       "    </tr>\n",
       "  </thead>\n",
       "  <tbody>\n",
       "    <tr>\n",
       "      <th>0</th>\n",
       "      <td>4</td>\n",
       "      <td>4</td>\n",
       "      <td>4</td>\n",
       "    </tr>\n",
       "    <tr>\n",
       "      <th>1</th>\n",
       "      <td>3</td>\n",
       "      <td>3</td>\n",
       "      <td>3</td>\n",
       "    </tr>\n",
       "    <tr>\n",
       "      <th>2</th>\n",
       "      <td>0</td>\n",
       "      <td>0</td>\n",
       "      <td>0</td>\n",
       "    </tr>\n",
       "    <tr>\n",
       "      <th>3</th>\n",
       "      <td>3</td>\n",
       "      <td>3</td>\n",
       "      <td>3</td>\n",
       "    </tr>\n",
       "    <tr>\n",
       "      <th>4</th>\n",
       "      <td>1</td>\n",
       "      <td>1</td>\n",
       "      <td>1</td>\n",
       "    </tr>\n",
       "    <tr>\n",
       "      <th>5</th>\n",
       "      <td>3</td>\n",
       "      <td>3</td>\n",
       "      <td>3</td>\n",
       "    </tr>\n",
       "    <tr>\n",
       "      <th>6</th>\n",
       "      <td>3</td>\n",
       "      <td>3</td>\n",
       "      <td>3</td>\n",
       "    </tr>\n",
       "    <tr>\n",
       "      <th>7</th>\n",
       "      <td>5</td>\n",
       "      <td>5</td>\n",
       "      <td>5</td>\n",
       "    </tr>\n",
       "    <tr>\n",
       "      <th>8</th>\n",
       "      <td>3</td>\n",
       "      <td>3</td>\n",
       "      <td>3</td>\n",
       "    </tr>\n",
       "    <tr>\n",
       "      <th>9</th>\n",
       "      <td>6</td>\n",
       "      <td>6</td>\n",
       "      <td>6</td>\n",
       "    </tr>\n",
       "    <tr>\n",
       "      <th>10</th>\n",
       "      <td>3</td>\n",
       "      <td>3</td>\n",
       "      <td>3</td>\n",
       "    </tr>\n",
       "    <tr>\n",
       "      <th>11</th>\n",
       "      <td>6</td>\n",
       "      <td>6</td>\n",
       "      <td>6</td>\n",
       "    </tr>\n",
       "    <tr>\n",
       "      <th>12</th>\n",
       "      <td>2</td>\n",
       "      <td>2</td>\n",
       "      <td>2</td>\n",
       "    </tr>\n",
       "    <tr>\n",
       "      <th>13</th>\n",
       "      <td>3</td>\n",
       "      <td>3</td>\n",
       "      <td>3</td>\n",
       "    </tr>\n",
       "    <tr>\n",
       "      <th>14</th>\n",
       "      <td>2</td>\n",
       "      <td>2</td>\n",
       "      <td>2</td>\n",
       "    </tr>\n",
       "    <tr>\n",
       "      <th>15</th>\n",
       "      <td>2</td>\n",
       "      <td>2</td>\n",
       "      <td>2</td>\n",
       "    </tr>\n",
       "    <tr>\n",
       "      <th>16</th>\n",
       "      <td>4</td>\n",
       "      <td>4</td>\n",
       "      <td>4</td>\n",
       "    </tr>\n",
       "    <tr>\n",
       "      <th>17</th>\n",
       "      <td>3</td>\n",
       "      <td>3</td>\n",
       "      <td>3</td>\n",
       "    </tr>\n",
       "    <tr>\n",
       "      <th>18</th>\n",
       "      <td>4</td>\n",
       "      <td>4</td>\n",
       "      <td>4</td>\n",
       "    </tr>\n",
       "    <tr>\n",
       "      <th>19</th>\n",
       "      <td>3</td>\n",
       "      <td>3</td>\n",
       "      <td>3</td>\n",
       "    </tr>\n",
       "  </tbody>\n",
       "</table>\n",
       "</div>"
      ],
      "text/plain": [
       "    AdaBoost_gs_winner  Gboost_gs_winner  log_gs_winner\n",
       "0                    4                 4              4\n",
       "1                    3                 3              3\n",
       "2                    0                 0              0\n",
       "3                    3                 3              3\n",
       "4                    1                 1              1\n",
       "5                    3                 3              3\n",
       "6                    3                 3              3\n",
       "7                    5                 5              5\n",
       "8                    3                 3              3\n",
       "9                    6                 6              6\n",
       "10                   3                 3              3\n",
       "11                   6                 6              6\n",
       "12                   2                 2              2\n",
       "13                   3                 3              3\n",
       "14                   2                 2              2\n",
       "15                   2                 2              2\n",
       "16                   4                 4              4\n",
       "17                   3                 3              3\n",
       "18                   4                 4              4\n",
       "19                   3                 3              3"
      ]
     },
     "execution_count": 67,
     "metadata": {},
     "output_type": "execute_result"
    }
   ],
   "source": [
    "predict_test_models.head(20)"
   ]
  },
  {
   "cell_type": "code",
   "execution_count": 68,
   "id": "c99ae01a",
   "metadata": {
    "execution": {
     "iopub.execute_input": "2022-05-30T21:31:43.007742Z",
     "iopub.status.busy": "2022-05-30T21:31:43.006801Z",
     "iopub.status.idle": "2022-05-30T21:31:44.132515Z",
     "shell.execute_reply": "2022-05-30T21:31:44.131416Z"
    },
    "papermill": {
     "duration": 1.171494,
     "end_time": "2022-05-30T21:31:44.135186",
     "exception": false,
     "start_time": "2022-05-30T21:31:42.963692",
     "status": "completed"
    },
    "tags": []
   },
   "outputs": [],
   "source": [
    "ypred = pd.DataFrame(predict_test_models.mode(axis=1)[0])"
   ]
  },
  {
   "cell_type": "code",
   "execution_count": 69,
   "id": "b16fc99f",
   "metadata": {
    "execution": {
     "iopub.execute_input": "2022-05-30T21:31:44.211367Z",
     "iopub.status.busy": "2022-05-30T21:31:44.210738Z",
     "iopub.status.idle": "2022-05-30T21:31:44.221980Z",
     "shell.execute_reply": "2022-05-30T21:31:44.221293Z"
    },
    "papermill": {
     "duration": 0.051984,
     "end_time": "2022-05-30T21:31:44.224098",
     "exception": false,
     "start_time": "2022-05-30T21:31:44.172114",
     "status": "completed"
    },
    "tags": []
   },
   "outputs": [
    {
     "data": {
      "text/html": [
       "<div>\n",
       "<style scoped>\n",
       "    .dataframe tbody tr th:only-of-type {\n",
       "        vertical-align: middle;\n",
       "    }\n",
       "\n",
       "    .dataframe tbody tr th {\n",
       "        vertical-align: top;\n",
       "    }\n",
       "\n",
       "    .dataframe thead th {\n",
       "        text-align: right;\n",
       "    }\n",
       "</style>\n",
       "<table border=\"1\" class=\"dataframe\">\n",
       "  <thead>\n",
       "    <tr style=\"text-align: right;\">\n",
       "      <th></th>\n",
       "      <th>0</th>\n",
       "    </tr>\n",
       "  </thead>\n",
       "  <tbody>\n",
       "    <tr>\n",
       "      <th>0</th>\n",
       "      <td>4.0</td>\n",
       "    </tr>\n",
       "    <tr>\n",
       "      <th>1</th>\n",
       "      <td>3.0</td>\n",
       "    </tr>\n",
       "    <tr>\n",
       "      <th>2</th>\n",
       "      <td>0.0</td>\n",
       "    </tr>\n",
       "    <tr>\n",
       "      <th>3</th>\n",
       "      <td>3.0</td>\n",
       "    </tr>\n",
       "    <tr>\n",
       "      <th>4</th>\n",
       "      <td>1.0</td>\n",
       "    </tr>\n",
       "    <tr>\n",
       "      <th>...</th>\n",
       "      <td>...</td>\n",
       "    </tr>\n",
       "    <tr>\n",
       "      <th>2704</th>\n",
       "      <td>2.0</td>\n",
       "    </tr>\n",
       "    <tr>\n",
       "      <th>2705</th>\n",
       "      <td>5.0</td>\n",
       "    </tr>\n",
       "    <tr>\n",
       "      <th>2706</th>\n",
       "      <td>4.0</td>\n",
       "    </tr>\n",
       "    <tr>\n",
       "      <th>2707</th>\n",
       "      <td>3.0</td>\n",
       "    </tr>\n",
       "    <tr>\n",
       "      <th>2708</th>\n",
       "      <td>6.0</td>\n",
       "    </tr>\n",
       "  </tbody>\n",
       "</table>\n",
       "<p>2709 rows × 1 columns</p>\n",
       "</div>"
      ],
      "text/plain": [
       "        0\n",
       "0     4.0\n",
       "1     3.0\n",
       "2     0.0\n",
       "3     3.0\n",
       "4     1.0\n",
       "...   ...\n",
       "2704  2.0\n",
       "2705  5.0\n",
       "2706  4.0\n",
       "2707  3.0\n",
       "2708  6.0\n",
       "\n",
       "[2709 rows x 1 columns]"
      ]
     },
     "execution_count": 69,
     "metadata": {},
     "output_type": "execute_result"
    }
   ],
   "source": [
    "ypred"
   ]
  },
  {
   "cell_type": "code",
   "execution_count": 70,
   "id": "34db081f",
   "metadata": {
    "execution": {
     "iopub.execute_input": "2022-05-30T21:31:44.301196Z",
     "iopub.status.busy": "2022-05-30T21:31:44.300202Z",
     "iopub.status.idle": "2022-05-30T21:31:44.311869Z",
     "shell.execute_reply": "2022-05-30T21:31:44.310773Z"
    },
    "papermill": {
     "duration": 0.051644,
     "end_time": "2022-05-30T21:31:44.314122",
     "exception": false,
     "start_time": "2022-05-30T21:31:44.262478",
     "status": "completed"
    },
    "tags": []
   },
   "outputs": [
    {
     "data": {
      "text/plain": [
       "3.0    724\n",
       "6.0    525\n",
       "5.0    403\n",
       "4.0    367\n",
       "2.0    326\n",
       "0.0    259\n",
       "1.0    105\n",
       "dtype: int64"
      ]
     },
     "execution_count": 70,
     "metadata": {},
     "output_type": "execute_result"
    }
   ],
   "source": [
    "ypred.value_counts()"
   ]
  },
  {
   "cell_type": "code",
   "execution_count": 71,
   "id": "75c6a054",
   "metadata": {
    "execution": {
     "iopub.execute_input": "2022-05-30T21:31:44.389656Z",
     "iopub.status.busy": "2022-05-30T21:31:44.388932Z",
     "iopub.status.idle": "2022-05-30T21:31:44.393105Z",
     "shell.execute_reply": "2022-05-30T21:31:44.392306Z"
    },
    "papermill": {
     "duration": 0.045249,
     "end_time": "2022-05-30T21:31:44.395353",
     "exception": false,
     "start_time": "2022-05-30T21:31:44.350104",
     "status": "completed"
    },
    "tags": []
   },
   "outputs": [],
   "source": [
    "df = ypred"
   ]
  },
  {
   "cell_type": "markdown",
   "id": "019c48a6",
   "metadata": {
    "papermill": {
     "duration": 0.037538,
     "end_time": "2022-05-30T21:31:44.470548",
     "exception": false,
     "start_time": "2022-05-30T21:31:44.433010",
     "status": "completed"
    },
    "tags": []
   },
   "source": [
    "DERMASON    3\n",
    "SIRA        6\n",
    "SEKER       5\n",
    "HOROZ       4\n",
    "CALI        2\n",
    "BARBUNYA    0\n",
    "BOMBAY      1"
   ]
  },
  {
   "cell_type": "code",
   "execution_count": 72,
   "id": "9421d826",
   "metadata": {
    "execution": {
     "iopub.execute_input": "2022-05-30T21:31:44.546555Z",
     "iopub.status.busy": "2022-05-30T21:31:44.545890Z",
     "iopub.status.idle": "2022-05-30T21:31:44.555293Z",
     "shell.execute_reply": "2022-05-30T21:31:44.554642Z"
    },
    "papermill": {
     "duration": 0.049406,
     "end_time": "2022-05-30T21:31:44.557201",
     "exception": false,
     "start_time": "2022-05-30T21:31:44.507795",
     "status": "completed"
    },
    "tags": []
   },
   "outputs": [
    {
     "data": {
      "text/plain": [
       "3.0    724\n",
       "6.0    525\n",
       "5.0    403\n",
       "4.0    367\n",
       "2.0    326\n",
       "0.0    259\n",
       "1.0    105\n",
       "dtype: int64"
      ]
     },
     "execution_count": 72,
     "metadata": {},
     "output_type": "execute_result"
    }
   ],
   "source": [
    "df.value_counts()"
   ]
  },
  {
   "cell_type": "code",
   "execution_count": 73,
   "id": "8177f476",
   "metadata": {
    "execution": {
     "iopub.execute_input": "2022-05-30T21:31:44.634466Z",
     "iopub.status.busy": "2022-05-30T21:31:44.633744Z",
     "iopub.status.idle": "2022-05-30T21:31:44.654506Z",
     "shell.execute_reply": "2022-05-30T21:31:44.653440Z"
    },
    "papermill": {
     "duration": 0.062132,
     "end_time": "2022-05-30T21:31:44.657087",
     "exception": false,
     "start_time": "2022-05-30T21:31:44.594955",
     "status": "completed"
    },
    "tags": []
   },
   "outputs": [
    {
     "data": {
      "text/html": [
       "<div>\n",
       "<style scoped>\n",
       "    .dataframe tbody tr th:only-of-type {\n",
       "        vertical-align: middle;\n",
       "    }\n",
       "\n",
       "    .dataframe tbody tr th {\n",
       "        vertical-align: top;\n",
       "    }\n",
       "\n",
       "    .dataframe thead th {\n",
       "        text-align: right;\n",
       "    }\n",
       "</style>\n",
       "<table border=\"1\" class=\"dataframe\">\n",
       "  <thead>\n",
       "    <tr style=\"text-align: right;\">\n",
       "      <th></th>\n",
       "      <th>0</th>\n",
       "    </tr>\n",
       "  </thead>\n",
       "  <tbody>\n",
       "    <tr>\n",
       "      <th>0</th>\n",
       "      <td>HOROZ</td>\n",
       "    </tr>\n",
       "    <tr>\n",
       "      <th>1</th>\n",
       "      <td>DERMASON</td>\n",
       "    </tr>\n",
       "    <tr>\n",
       "      <th>2</th>\n",
       "      <td>BARBUNYA</td>\n",
       "    </tr>\n",
       "    <tr>\n",
       "      <th>3</th>\n",
       "      <td>DERMASON</td>\n",
       "    </tr>\n",
       "    <tr>\n",
       "      <th>4</th>\n",
       "      <td>BOMBAY</td>\n",
       "    </tr>\n",
       "    <tr>\n",
       "      <th>...</th>\n",
       "      <td>...</td>\n",
       "    </tr>\n",
       "    <tr>\n",
       "      <th>2704</th>\n",
       "      <td>CALI</td>\n",
       "    </tr>\n",
       "    <tr>\n",
       "      <th>2705</th>\n",
       "      <td>SEKER</td>\n",
       "    </tr>\n",
       "    <tr>\n",
       "      <th>2706</th>\n",
       "      <td>HOROZ</td>\n",
       "    </tr>\n",
       "    <tr>\n",
       "      <th>2707</th>\n",
       "      <td>DERMASON</td>\n",
       "    </tr>\n",
       "    <tr>\n",
       "      <th>2708</th>\n",
       "      <td>SIRA</td>\n",
       "    </tr>\n",
       "  </tbody>\n",
       "</table>\n",
       "<p>2709 rows × 1 columns</p>\n",
       "</div>"
      ],
      "text/plain": [
       "             0\n",
       "0        HOROZ\n",
       "1     DERMASON\n",
       "2     BARBUNYA\n",
       "3     DERMASON\n",
       "4       BOMBAY\n",
       "...        ...\n",
       "2704      CALI\n",
       "2705     SEKER\n",
       "2706     HOROZ\n",
       "2707  DERMASON\n",
       "2708      SIRA\n",
       "\n",
       "[2709 rows x 1 columns]"
      ]
     },
     "execution_count": 73,
     "metadata": {},
     "output_type": "execute_result"
    }
   ],
   "source": [
    "df.replace(3, 'DERMASON',inplace=True)\n",
    "df.replace(6, 'SIRA',inplace=True)\n",
    "df.replace(5, 'SEKER',inplace=True)\n",
    "df.replace(4, 'HOROZ',inplace=True)\n",
    "df.replace(2, 'CALI',inplace=True)\n",
    "df.replace(0, 'BARBUNYA',inplace=True)\n",
    "df.replace(1, 'BOMBAY',inplace=True)\n",
    "df"
   ]
  },
  {
   "cell_type": "code",
   "execution_count": 74,
   "id": "36517c4e",
   "metadata": {
    "execution": {
     "iopub.execute_input": "2022-05-30T21:31:44.732247Z",
     "iopub.status.busy": "2022-05-30T21:31:44.731022Z",
     "iopub.status.idle": "2022-05-30T21:31:44.741456Z",
     "shell.execute_reply": "2022-05-30T21:31:44.740289Z"
    },
    "papermill": {
     "duration": 0.050034,
     "end_time": "2022-05-30T21:31:44.743604",
     "exception": false,
     "start_time": "2022-05-30T21:31:44.693570",
     "status": "completed"
    },
    "tags": []
   },
   "outputs": [
    {
     "data": {
      "text/plain": [
       "DERMASON    724\n",
       "SIRA        525\n",
       "SEKER       403\n",
       "HOROZ       367\n",
       "CALI        326\n",
       "BARBUNYA    259\n",
       "BOMBAY      105\n",
       "dtype: int64"
      ]
     },
     "execution_count": 74,
     "metadata": {},
     "output_type": "execute_result"
    }
   ],
   "source": [
    "df.value_counts()"
   ]
  },
  {
   "cell_type": "code",
   "execution_count": 75,
   "id": "1855e01c",
   "metadata": {
    "execution": {
     "iopub.execute_input": "2022-05-30T21:31:44.817309Z",
     "iopub.status.busy": "2022-05-30T21:31:44.816877Z",
     "iopub.status.idle": "2022-05-30T21:31:44.822897Z",
     "shell.execute_reply": "2022-05-30T21:31:44.822049Z"
    },
    "papermill": {
     "duration": 0.045701,
     "end_time": "2022-05-30T21:31:44.825230",
     "exception": false,
     "start_time": "2022-05-30T21:31:44.779529",
     "status": "completed"
    },
    "tags": []
   },
   "outputs": [],
   "source": [
    "X_test_final = pd.concat([test_data['ID'], df], axis=1)"
   ]
  },
  {
   "cell_type": "code",
   "execution_count": 76,
   "id": "030d2a3e",
   "metadata": {
    "execution": {
     "iopub.execute_input": "2022-05-30T21:31:44.905106Z",
     "iopub.status.busy": "2022-05-30T21:31:44.903923Z",
     "iopub.status.idle": "2022-05-30T21:31:44.917732Z",
     "shell.execute_reply": "2022-05-30T21:31:44.917002Z"
    },
    "papermill": {
     "duration": 0.052977,
     "end_time": "2022-05-30T21:31:44.919953",
     "exception": false,
     "start_time": "2022-05-30T21:31:44.866976",
     "status": "completed"
    },
    "tags": []
   },
   "outputs": [
    {
     "data": {
      "text/html": [
       "<div>\n",
       "<style scoped>\n",
       "    .dataframe tbody tr th:only-of-type {\n",
       "        vertical-align: middle;\n",
       "    }\n",
       "\n",
       "    .dataframe tbody tr th {\n",
       "        vertical-align: top;\n",
       "    }\n",
       "\n",
       "    .dataframe thead th {\n",
       "        text-align: right;\n",
       "    }\n",
       "</style>\n",
       "<table border=\"1\" class=\"dataframe\">\n",
       "  <thead>\n",
       "    <tr style=\"text-align: right;\">\n",
       "      <th></th>\n",
       "      <th>ID</th>\n",
       "      <th>0</th>\n",
       "    </tr>\n",
       "  </thead>\n",
       "  <tbody>\n",
       "    <tr>\n",
       "      <th>0</th>\n",
       "      <td>10834</td>\n",
       "      <td>HOROZ</td>\n",
       "    </tr>\n",
       "    <tr>\n",
       "      <th>1</th>\n",
       "      <td>10835</td>\n",
       "      <td>DERMASON</td>\n",
       "    </tr>\n",
       "    <tr>\n",
       "      <th>2</th>\n",
       "      <td>10836</td>\n",
       "      <td>BARBUNYA</td>\n",
       "    </tr>\n",
       "    <tr>\n",
       "      <th>3</th>\n",
       "      <td>10837</td>\n",
       "      <td>DERMASON</td>\n",
       "    </tr>\n",
       "    <tr>\n",
       "      <th>4</th>\n",
       "      <td>10838</td>\n",
       "      <td>BOMBAY</td>\n",
       "    </tr>\n",
       "    <tr>\n",
       "      <th>...</th>\n",
       "      <td>...</td>\n",
       "      <td>...</td>\n",
       "    </tr>\n",
       "    <tr>\n",
       "      <th>2704</th>\n",
       "      <td>13538</td>\n",
       "      <td>CALI</td>\n",
       "    </tr>\n",
       "    <tr>\n",
       "      <th>2705</th>\n",
       "      <td>13539</td>\n",
       "      <td>SEKER</td>\n",
       "    </tr>\n",
       "    <tr>\n",
       "      <th>2706</th>\n",
       "      <td>13540</td>\n",
       "      <td>HOROZ</td>\n",
       "    </tr>\n",
       "    <tr>\n",
       "      <th>2707</th>\n",
       "      <td>13541</td>\n",
       "      <td>DERMASON</td>\n",
       "    </tr>\n",
       "    <tr>\n",
       "      <th>2708</th>\n",
       "      <td>13542</td>\n",
       "      <td>SIRA</td>\n",
       "    </tr>\n",
       "  </tbody>\n",
       "</table>\n",
       "<p>2709 rows × 2 columns</p>\n",
       "</div>"
      ],
      "text/plain": [
       "         ID         0\n",
       "0     10834     HOROZ\n",
       "1     10835  DERMASON\n",
       "2     10836  BARBUNYA\n",
       "3     10837  DERMASON\n",
       "4     10838    BOMBAY\n",
       "...     ...       ...\n",
       "2704  13538      CALI\n",
       "2705  13539     SEKER\n",
       "2706  13540     HOROZ\n",
       "2707  13541  DERMASON\n",
       "2708  13542      SIRA\n",
       "\n",
       "[2709 rows x 2 columns]"
      ]
     },
     "execution_count": 76,
     "metadata": {},
     "output_type": "execute_result"
    }
   ],
   "source": [
    "X_test_final"
   ]
  },
  {
   "cell_type": "code",
   "execution_count": 77,
   "id": "c9c13199",
   "metadata": {
    "execution": {
     "iopub.execute_input": "2022-05-30T21:31:44.995093Z",
     "iopub.status.busy": "2022-05-30T21:31:44.994720Z",
     "iopub.status.idle": "2022-05-30T21:31:44.999883Z",
     "shell.execute_reply": "2022-05-30T21:31:44.998936Z"
    },
    "papermill": {
     "duration": 0.045245,
     "end_time": "2022-05-30T21:31:45.001918",
     "exception": false,
     "start_time": "2022-05-30T21:31:44.956673",
     "status": "completed"
    },
    "tags": []
   },
   "outputs": [],
   "source": [
    "X_test_final.rename(columns={0: 'y'},inplace=True)"
   ]
  },
  {
   "cell_type": "code",
   "execution_count": 78,
   "id": "42829153",
   "metadata": {
    "execution": {
     "iopub.execute_input": "2022-05-30T21:31:45.076538Z",
     "iopub.status.busy": "2022-05-30T21:31:45.075465Z",
     "iopub.status.idle": "2022-05-30T21:31:45.088566Z",
     "shell.execute_reply": "2022-05-30T21:31:45.087467Z"
    },
    "papermill": {
     "duration": 0.052745,
     "end_time": "2022-05-30T21:31:45.090735",
     "exception": false,
     "start_time": "2022-05-30T21:31:45.037990",
     "status": "completed"
    },
    "scrolled": true,
    "tags": []
   },
   "outputs": [
    {
     "data": {
      "text/html": [
       "<div>\n",
       "<style scoped>\n",
       "    .dataframe tbody tr th:only-of-type {\n",
       "        vertical-align: middle;\n",
       "    }\n",
       "\n",
       "    .dataframe tbody tr th {\n",
       "        vertical-align: top;\n",
       "    }\n",
       "\n",
       "    .dataframe thead th {\n",
       "        text-align: right;\n",
       "    }\n",
       "</style>\n",
       "<table border=\"1\" class=\"dataframe\">\n",
       "  <thead>\n",
       "    <tr style=\"text-align: right;\">\n",
       "      <th></th>\n",
       "      <th>ID</th>\n",
       "      <th>y</th>\n",
       "    </tr>\n",
       "  </thead>\n",
       "  <tbody>\n",
       "    <tr>\n",
       "      <th>0</th>\n",
       "      <td>10834</td>\n",
       "      <td>HOROZ</td>\n",
       "    </tr>\n",
       "    <tr>\n",
       "      <th>1</th>\n",
       "      <td>10835</td>\n",
       "      <td>DERMASON</td>\n",
       "    </tr>\n",
       "    <tr>\n",
       "      <th>2</th>\n",
       "      <td>10836</td>\n",
       "      <td>BARBUNYA</td>\n",
       "    </tr>\n",
       "    <tr>\n",
       "      <th>3</th>\n",
       "      <td>10837</td>\n",
       "      <td>DERMASON</td>\n",
       "    </tr>\n",
       "    <tr>\n",
       "      <th>4</th>\n",
       "      <td>10838</td>\n",
       "      <td>BOMBAY</td>\n",
       "    </tr>\n",
       "    <tr>\n",
       "      <th>...</th>\n",
       "      <td>...</td>\n",
       "      <td>...</td>\n",
       "    </tr>\n",
       "    <tr>\n",
       "      <th>2704</th>\n",
       "      <td>13538</td>\n",
       "      <td>CALI</td>\n",
       "    </tr>\n",
       "    <tr>\n",
       "      <th>2705</th>\n",
       "      <td>13539</td>\n",
       "      <td>SEKER</td>\n",
       "    </tr>\n",
       "    <tr>\n",
       "      <th>2706</th>\n",
       "      <td>13540</td>\n",
       "      <td>HOROZ</td>\n",
       "    </tr>\n",
       "    <tr>\n",
       "      <th>2707</th>\n",
       "      <td>13541</td>\n",
       "      <td>DERMASON</td>\n",
       "    </tr>\n",
       "    <tr>\n",
       "      <th>2708</th>\n",
       "      <td>13542</td>\n",
       "      <td>SIRA</td>\n",
       "    </tr>\n",
       "  </tbody>\n",
       "</table>\n",
       "<p>2709 rows × 2 columns</p>\n",
       "</div>"
      ],
      "text/plain": [
       "         ID         y\n",
       "0     10834     HOROZ\n",
       "1     10835  DERMASON\n",
       "2     10836  BARBUNYA\n",
       "3     10837  DERMASON\n",
       "4     10838    BOMBAY\n",
       "...     ...       ...\n",
       "2704  13538      CALI\n",
       "2705  13539     SEKER\n",
       "2706  13540     HOROZ\n",
       "2707  13541  DERMASON\n",
       "2708  13542      SIRA\n",
       "\n",
       "[2709 rows x 2 columns]"
      ]
     },
     "execution_count": 78,
     "metadata": {},
     "output_type": "execute_result"
    }
   ],
   "source": [
    "X_test_final"
   ]
  },
  {
   "cell_type": "code",
   "execution_count": 79,
   "id": "7a79129f",
   "metadata": {
    "execution": {
     "iopub.execute_input": "2022-05-30T21:31:45.165741Z",
     "iopub.status.busy": "2022-05-30T21:31:45.165182Z",
     "iopub.status.idle": "2022-05-30T21:31:45.179965Z",
     "shell.execute_reply": "2022-05-30T21:31:45.179094Z"
    },
    "papermill": {
     "duration": 0.05477,
     "end_time": "2022-05-30T21:31:45.182197",
     "exception": false,
     "start_time": "2022-05-30T21:31:45.127427",
     "status": "completed"
    },
    "tags": []
   },
   "outputs": [],
   "source": [
    "X_test_final[['ID', 'y']].to_csv('/kaggle/working/submission.csv', index=False)"
   ]
  },
  {
   "cell_type": "code",
   "execution_count": null,
   "id": "f1c0a51e",
   "metadata": {
    "papermill": {
     "duration": 0.035675,
     "end_time": "2022-05-30T21:31:45.256269",
     "exception": false,
     "start_time": "2022-05-30T21:31:45.220594",
     "status": "completed"
    },
    "tags": []
   },
   "outputs": [],
   "source": []
  }
 ],
 "metadata": {
  "kernelspec": {
   "display_name": "Python 3",
   "language": "python",
   "name": "python3"
  },
  "language_info": {
   "codemirror_mode": {
    "name": "ipython",
    "version": 3
   },
   "file_extension": ".py",
   "mimetype": "text/x-python",
   "name": "python",
   "nbconvert_exporter": "python",
   "pygments_lexer": "ipython3",
   "version": "3.7.12"
  },
  "papermill": {
   "default_parameters": {},
   "duration": 171.108625,
   "end_time": "2022-05-30T21:31:46.617036",
   "environment_variables": {},
   "exception": null,
   "input_path": "__notebook__.ipynb",
   "output_path": "__notebook__.ipynb",
   "parameters": {},
   "start_time": "2022-05-30T21:28:55.508411",
   "version": "2.3.4"
  }
 },
 "nbformat": 4,
 "nbformat_minor": 5
}
